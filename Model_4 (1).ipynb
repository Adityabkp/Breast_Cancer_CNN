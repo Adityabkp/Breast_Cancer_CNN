{
  "nbformat": 4,
  "nbformat_minor": 0,
  "metadata": {
    "colab": {
      "name": "Model_4.ipynb",
      "provenance": [],
      "collapsed_sections": []
    },
    "kernelspec": {
      "name": "python3",
      "display_name": "Python 3"
    },
    "language_info": {
      "name": "python"
    },
    "gpuClass": "standard",
    "accelerator": "GPU"
  },
  "cells": [
    {
      "cell_type": "code",
      "execution_count": null,
      "metadata": {
        "colab": {
          "base_uri": "https://localhost:8080/"
        },
        "id": "Y5sL5q7IC6Cv",
        "outputId": "f946471a-ae5b-4552-97e4-ca5f353d8a3e"
      },
      "outputs": [
        {
          "output_type": "stream",
          "name": "stdout",
          "text": [
            "Mounted at /content/drive\n"
          ]
        }
      ],
      "source": [
        "from google.colab import drive\n",
        "drive.mount('/content/drive') "
      ]
    },
    {
      "cell_type": "code",
      "source": [
        "! pip install python-utils"
      ],
      "metadata": {
        "colab": {
          "base_uri": "https://localhost:8080/"
        },
        "id": "Ij_m6RGHHCGV",
        "outputId": "5f5c500c-1366-4b3b-ce5e-cdbb44f353e7"
      },
      "execution_count": null,
      "outputs": [
        {
          "output_type": "stream",
          "name": "stdout",
          "text": [
            "Looking in indexes: https://pypi.org/simple, https://us-python.pkg.dev/colab-wheels/public/simple/\n",
            "Requirement already satisfied: python-utils in /usr/local/lib/python3.7/dist-packages (3.3.3)\n"
          ]
        }
      ]
    },
    {
      "cell_type": "code",
      "source": [
        "import numpy as np\n",
        "import pandas as pd\n",
        "import matplotlib.pyplot as plt\n",
        "import glob\n",
        "import os\n",
        "import seaborn as sns\n",
        "\n"
      ],
      "metadata": {
        "id": "7WGQGORvHCai"
      },
      "execution_count": null,
      "outputs": []
    },
    {
      "cell_type": "code",
      "source": [
        "! pip install scikit-image\n",
        "! pip install opencv-python\n"
      ],
      "metadata": {
        "colab": {
          "base_uri": "https://localhost:8080/"
        },
        "id": "RhGCJutEUU6i",
        "outputId": "1b1ef1a4-7e6a-4d50-8433-aefc1bc1126c"
      },
      "execution_count": null,
      "outputs": [
        {
          "output_type": "stream",
          "name": "stdout",
          "text": [
            "Looking in indexes: https://pypi.org/simple, https://us-python.pkg.dev/colab-wheels/public/simple/\n",
            "Requirement already satisfied: scikit-image in /usr/local/lib/python3.7/dist-packages (0.18.3)\n",
            "Requirement already satisfied: numpy>=1.16.5 in /usr/local/lib/python3.7/dist-packages (from scikit-image) (1.21.6)\n",
            "Requirement already satisfied: scipy>=1.0.1 in /usr/local/lib/python3.7/dist-packages (from scikit-image) (1.7.3)\n",
            "Requirement already satisfied: tifffile>=2019.7.26 in /usr/local/lib/python3.7/dist-packages (from scikit-image) (2021.11.2)\n",
            "Requirement already satisfied: matplotlib!=3.0.0,>=2.0.0 in /usr/local/lib/python3.7/dist-packages (from scikit-image) (3.2.2)\n",
            "Requirement already satisfied: PyWavelets>=1.1.1 in /usr/local/lib/python3.7/dist-packages (from scikit-image) (1.3.0)\n",
            "Requirement already satisfied: networkx>=2.0 in /usr/local/lib/python3.7/dist-packages (from scikit-image) (2.6.3)\n",
            "Requirement already satisfied: imageio>=2.3.0 in /usr/local/lib/python3.7/dist-packages (from scikit-image) (2.9.0)\n",
            "Requirement already satisfied: pillow!=7.1.0,!=7.1.1,>=4.3.0 in /usr/local/lib/python3.7/dist-packages (from scikit-image) (7.1.2)\n",
            "Requirement already satisfied: pyparsing!=2.0.4,!=2.1.2,!=2.1.6,>=2.0.1 in /usr/local/lib/python3.7/dist-packages (from matplotlib!=3.0.0,>=2.0.0->scikit-image) (3.0.9)\n",
            "Requirement already satisfied: cycler>=0.10 in /usr/local/lib/python3.7/dist-packages (from matplotlib!=3.0.0,>=2.0.0->scikit-image) (0.11.0)\n",
            "Requirement already satisfied: kiwisolver>=1.0.1 in /usr/local/lib/python3.7/dist-packages (from matplotlib!=3.0.0,>=2.0.0->scikit-image) (1.4.4)\n",
            "Requirement already satisfied: python-dateutil>=2.1 in /usr/local/lib/python3.7/dist-packages (from matplotlib!=3.0.0,>=2.0.0->scikit-image) (2.8.2)\n",
            "Requirement already satisfied: typing-extensions in /usr/local/lib/python3.7/dist-packages (from kiwisolver>=1.0.1->matplotlib!=3.0.0,>=2.0.0->scikit-image) (4.1.1)\n",
            "Requirement already satisfied: six>=1.5 in /usr/local/lib/python3.7/dist-packages (from python-dateutil>=2.1->matplotlib!=3.0.0,>=2.0.0->scikit-image) (1.15.0)\n",
            "Looking in indexes: https://pypi.org/simple, https://us-python.pkg.dev/colab-wheels/public/simple/\n",
            "Requirement already satisfied: opencv-python in /usr/local/lib/python3.7/dist-packages (4.6.0.66)\n",
            "Requirement already satisfied: numpy>=1.14.5 in /usr/local/lib/python3.7/dist-packages (from opencv-python) (1.21.6)\n"
          ]
        }
      ]
    },
    {
      "cell_type": "code",
      "source": [
        "from skimage import io"
      ],
      "metadata": {
        "id": "ovOXv-gSXwR7"
      },
      "execution_count": null,
      "outputs": []
    },
    {
      "cell_type": "code",
      "source": [
        "img = io.imread(\"/content/drive/MyDrive/mias 1/pgm_files/mdb001.pgm\")\n",
        "print(img.shape)"
      ],
      "metadata": {
        "colab": {
          "base_uri": "https://localhost:8080/"
        },
        "id": "RHe_q_7OX5RO",
        "outputId": "b4653cf0-0530-486b-865a-1373e2ebc8a6"
      },
      "execution_count": null,
      "outputs": [
        {
          "output_type": "stream",
          "name": "stdout",
          "text": [
            "(1024, 1024)\n"
          ]
        }
      ]
    },
    {
      "cell_type": "code",
      "source": [
        "plt.imshow(img)"
      ],
      "metadata": {
        "colab": {
          "base_uri": "https://localhost:8080/",
          "height": 287
        },
        "id": "dvjAwjk6Y6ZB",
        "outputId": "d87606f7-0cc8-4d00-a8cf-2697f940410d"
      },
      "execution_count": null,
      "outputs": [
        {
          "output_type": "execute_result",
          "data": {
            "text/plain": [
              "<matplotlib.image.AxesImage at 0x7fc320c65e10>"
            ]
          },
          "metadata": {},
          "execution_count": 9
        },
        {
          "output_type": "display_data",
          "data": {
            "text/plain": [
              "<Figure size 432x288 with 1 Axes>"
            ],
            "image/png": "[encoded data removed]"
          },
          "metadata": {
            "needs_background": "light"
          }
        }
      ]
    },
    {
      "cell_type": "code",
      "source": [
        "import csv\n",
        "path = \"/content/drive/MyDrive/mias 1/mias_info.csv\"\n"
      ],
      "metadata": {
        "id": "hGmPwbKb0YGQ"
      },
      "execution_count": null,
      "outputs": []
    },
    {
      "cell_type": "code",
      "source": [
        "df = pd.read_csv(path)"
      ],
      "metadata": {
        "id": "3JoEZ14R8JYf"
      },
      "execution_count": null,
      "outputs": []
    },
    {
      "cell_type": "code",
      "source": [
        "df.head(20)"
      ],
      "metadata": {
        "colab": {
          "base_uri": "https://localhost:8080/",
          "height": 676
        },
        "id": "yHHKnUXM8Twq",
        "outputId": "f8eb7edd-e20e-4a06-ff7b-e6e103c6f945"
      },
      "execution_count": null,
      "outputs": [
        {
          "output_type": "execute_result",
          "data": {
            "text/plain": [
              "   ref_num bg_tissue ab_class ab_severity x_center_ab y_center_ab radius_ab\n",
              "0   mdb001         G     CIRC           B         535         425       197\n",
              "1   mdb002         G     CIRC           B         522         280        69\n",
              "2   mdb003         D     NORM         NaN         NaN         NaN       NaN\n",
              "3   mdb004         D     NORM         NaN         NaN         NaN       NaN\n",
              "4   mdb005         F     CIRC           B         477         133        30\n",
              "5   mdb005         F     CIRC           B         500         168        26\n",
              "6   mdb006         F     NORM         NaN         NaN         NaN       NaN\n",
              "7   mdb007         G     NORM         NaN         NaN         NaN       NaN\n",
              "8   mdb008         G     NORM         NaN         NaN         NaN       NaN\n",
              "9   mdb009         F     NORM         NaN         NaN         NaN       NaN\n",
              "10  mdb010         F     CIRC           B         525         425        33\n",
              "11  mdb011         F     NORM         NaN         NaN         NaN       NaN\n",
              "12  mdb012         F     CIRC           B         471         458        40\n",
              "13  mdb013         G     MISC           B         667         365        31\n",
              "14  mdb014         G     NORM         NaN         NaN         NaN       NaN\n",
              "15  mdb015         G     CIRC           B         595         864        68\n",
              "16  mdb016         G     NORM         NaN         NaN         NaN       NaN\n",
              "17  mdb017         G     CIRC           B         547         573        48\n",
              "18  mdb018         G     NORM         NaN         NaN         NaN       NaN\n",
              "19  mdb019         G     CIRC           B         653         477        49"
            ],
            "text/html": [
              "\n",
              "  <div id=\"df-e7a7f9e7-92c3-4477-9ad2-a7c986d2e49b\">\n",
              "    <div class=\"colab-df-container\">\n",
              "      <div>\n",
              "<style scoped>\n",
              "    .dataframe tbody tr th:only-of-type {\n",
              "        vertical-align: middle;\n",
              "    }\n",
              "\n",
              "    .dataframe tbody tr th {\n",
              "        vertical-align: top;\n",
              "    }\n",
              "\n",
              "    .dataframe thead th {\n",
              "        text-align: right;\n",
              "    }\n",
              "</style>\n",
              "<table border=\"1\" class=\"dataframe\">\n",
              "  <thead>\n",
              "    <tr style=\"text-align: right;\">\n",
              "      <th></th>\n",
              "      <th>ref_num</th>\n",
              "      <th>bg_tissue</th>\n",
              "      <th>ab_class</th>\n",
              "      <th>ab_severity</th>\n",
              "      <th>x_center_ab</th>\n",
              "      <th>y_center_ab</th>\n",
              "      <th>radius_ab</th>\n",
              "    </tr>\n",
              "  </thead>\n",
              "  <tbody>\n",
              "    <tr>\n",
              "      <th>0</th>\n",
              "      <td>mdb001</td>\n",
              "      <td>G</td>\n",
              "      <td>CIRC</td>\n",
              "      <td>B</td>\n",
              "      <td>535</td>\n",
              "      <td>425</td>\n",
              "      <td>197</td>\n",
              "    </tr>\n",
              "    <tr>\n",
              "      <th>1</th>\n",
              "      <td>mdb002</td>\n",
              "      <td>G</td>\n",
              "      <td>CIRC</td>\n",
              "      <td>B</td>\n",
              "      <td>522</td>\n",
              "      <td>280</td>\n",
              "      <td>69</td>\n",
              "    </tr>\n",
              "    <tr>\n",
              "      <th>2</th>\n",
              "      <td>mdb003</td>\n",
              "      <td>D</td>\n",
              "      <td>NORM</td>\n",
              "      <td>NaN</td>\n",
              "      <td>NaN</td>\n",
              "      <td>NaN</td>\n",
              "      <td>NaN</td>\n",
              "    </tr>\n",
              "    <tr>\n",
              "      <th>3</th>\n",
              "      <td>mdb004</td>\n",
              "      <td>D</td>\n",
              "      <td>NORM</td>\n",
              "      <td>NaN</td>\n",
              "      <td>NaN</td>\n",
              "      <td>NaN</td>\n",
              "      <td>NaN</td>\n",
              "    </tr>\n",
              "    <tr>\n",
              "      <th>4</th>\n",
              "      <td>mdb005</td>\n",
              "      <td>F</td>\n",
              "      <td>CIRC</td>\n",
              "      <td>B</td>\n",
              "      <td>477</td>\n",
              "      <td>133</td>\n",
              "      <td>30</td>\n",
              "    </tr>\n",
              "    <tr>\n",
              "      <th>5</th>\n",
              "      <td>mdb005</td>\n",
              "      <td>F</td>\n",
              "      <td>CIRC</td>\n",
              "      <td>B</td>\n",
              "      <td>500</td>\n",
              "      <td>168</td>\n",
              "      <td>26</td>\n",
              "    </tr>\n",
              "    <tr>\n",
              "      <th>6</th>\n",
              "      <td>mdb006</td>\n",
              "      <td>F</td>\n",
              "      <td>NORM</td>\n",
              "      <td>NaN</td>\n",
              "      <td>NaN</td>\n",
              "      <td>NaN</td>\n",
              "      <td>NaN</td>\n",
              "    </tr>\n",
              "    <tr>\n",
              "      <th>7</th>\n",
              "      <td>mdb007</td>\n",
              "      <td>G</td>\n",
              "      <td>NORM</td>\n",
              "      <td>NaN</td>\n",
              "      <td>NaN</td>\n",
              "      <td>NaN</td>\n",
              "      <td>NaN</td>\n",
              "    </tr>\n",
              "    <tr>\n",
              "      <th>8</th>\n",
              "      <td>mdb008</td>\n",
              "      <td>G</td>\n",
              "      <td>NORM</td>\n",
              "      <td>NaN</td>\n",
              "      <td>NaN</td>\n",
              "      <td>NaN</td>\n",
              "      <td>NaN</td>\n",
              "    </tr>\n",
              "    <tr>\n",
              "      <th>9</th>\n",
              "      <td>mdb009</td>\n",
              "      <td>F</td>\n",
              "      <td>NORM</td>\n",
              "      <td>NaN</td>\n",
              "      <td>NaN</td>\n",
              "      <td>NaN</td>\n",
              "      <td>NaN</td>\n",
              "    </tr>\n",
              "    <tr>\n",
              "      <th>10</th>\n",
              "      <td>mdb010</td>\n",
              "      <td>F</td>\n",
              "      <td>CIRC</td>\n",
              "      <td>B</td>\n",
              "      <td>525</td>\n",
              "      <td>425</td>\n",
              "      <td>33</td>\n",
              "    </tr>\n",
              "    <tr>\n",
              "      <th>11</th>\n",
              "      <td>mdb011</td>\n",
              "      <td>F</td>\n",
              "      <td>NORM</td>\n",
              "      <td>NaN</td>\n",
              "      <td>NaN</td>\n",
              "      <td>NaN</td>\n",
              "      <td>NaN</td>\n",
              "    </tr>\n",
              "    <tr>\n",
              "      <th>12</th>\n",
              "      <td>mdb012</td>\n",
              "      <td>F</td>\n",
              "      <td>CIRC</td>\n",
              "      <td>B</td>\n",
              "      <td>471</td>\n",
              "      <td>458</td>\n",
              "      <td>40</td>\n",
              "    </tr>\n",
              "    <tr>\n",
              "      <th>13</th>\n",
              "      <td>mdb013</td>\n",
              "      <td>G</td>\n",
              "      <td>MISC</td>\n",
              "      <td>B</td>\n",
              "      <td>667</td>\n",
              "      <td>365</td>\n",
              "      <td>31</td>\n",
              "    </tr>\n",
              "    <tr>\n",
              "      <th>14</th>\n",
              "      <td>mdb014</td>\n",
              "      <td>G</td>\n",
              "      <td>NORM</td>\n",
              "      <td>NaN</td>\n",
              "      <td>NaN</td>\n",
              "      <td>NaN</td>\n",
              "      <td>NaN</td>\n",
              "    </tr>\n",
              "    <tr>\n",
              "      <th>15</th>\n",
              "      <td>mdb015</td>\n",
              "      <td>G</td>\n",
              "      <td>CIRC</td>\n",
              "      <td>B</td>\n",
              "      <td>595</td>\n",
              "      <td>864</td>\n",
              "      <td>68</td>\n",
              "    </tr>\n",
              "    <tr>\n",
              "      <th>16</th>\n",
              "      <td>mdb016</td>\n",
              "      <td>G</td>\n",
              "      <td>NORM</td>\n",
              "      <td>NaN</td>\n",
              "      <td>NaN</td>\n",
              "      <td>NaN</td>\n",
              "      <td>NaN</td>\n",
              "    </tr>\n",
              "    <tr>\n",
              "      <th>17</th>\n",
              "      <td>mdb017</td>\n",
              "      <td>G</td>\n",
              "      <td>CIRC</td>\n",
              "      <td>B</td>\n",
              "      <td>547</td>\n",
              "      <td>573</td>\n",
              "      <td>48</td>\n",
              "    </tr>\n",
              "    <tr>\n",
              "      <th>18</th>\n",
              "      <td>mdb018</td>\n",
              "      <td>G</td>\n",
              "      <td>NORM</td>\n",
              "      <td>NaN</td>\n",
              "      <td>NaN</td>\n",
              "      <td>NaN</td>\n",
              "      <td>NaN</td>\n",
              "    </tr>\n",
              "    <tr>\n",
              "      <th>19</th>\n",
              "      <td>mdb019</td>\n",
              "      <td>G</td>\n",
              "      <td>CIRC</td>\n",
              "      <td>B</td>\n",
              "      <td>653</td>\n",
              "      <td>477</td>\n",
              "      <td>49</td>\n",
              "    </tr>\n",
              "  </tbody>\n",
              "</table>\n",
              "</div>\n",
              "      <button class=\"colab-df-convert\" onclick=\"convertToInteractive('df-e7a7f9e7-92c3-4477-9ad2-a7c986d2e49b')\"\n",
              "              title=\"Convert this dataframe to an interactive table.\"\n",
              "              style=\"display:none;\">\n",
              "        \n",
              "  <svg xmlns=\"http://www.w3.org/2000/svg\" height=\"24px\"viewBox=\"0 0 24 24\"\n",
              "       width=\"24px\">\n",
              "    <path d=\"M0 0h24v24H0V0z\" fill=\"none\"/>\n",
              "    <path d=\"M18.56 5.44l.94 2.06.94-2.06 2.06-.94-2.06-.94-.94-2.06-.94 2.06-2.06.94zm-11 1L8.5 8.5l.94-2.06 2.06-.94-2.06-.94L8.5 2.5l-.94 2.06-2.06.94zm10 10l.94 2.06.94-2.06 2.06-.94-2.06-.94-.94-2.06-.94 2.06-2.06.94z\"/><path d=\"M17.41 7.96l-1.37-1.37c-.4-.4-.92-.59-1.43-.59-.52 0-1.04.2-1.43.59L10.3 9.45l-7.72 7.72c-.78.78-.78 2.05 0 2.83L4 21.41c.39.39.9.59 1.41.59.51 0 1.02-.2 1.41-.59l7.78-7.78 2.81-2.81c.8-.78.8-2.07 0-2.86zM5.41 20L4 18.59l7.72-7.72 1.47 1.35L5.41 20z\"/>\n",
              "  </svg>\n",
              "      </button>\n",
              "      \n",
              "  <style>\n",
              "    .colab-df-container {\n",
              "      display:flex;\n",
              "      flex-wrap:wrap;\n",
              "      gap: 12px;\n",
              "    }\n",
              "\n",
              "    .colab-df-convert {\n",
              "      background-color: #E8F0FE;\n",
              "      border: none;\n",
              "      border-radius: 50%;\n",
              "      cursor: pointer;\n",
              "      display: none;\n",
              "      fill: #1967D2;\n",
              "      height: 32px;\n",
              "      padding: 0 0 0 0;\n",
              "      width: 32px;\n",
              "    }\n",
              "\n",
              "    .colab-df-convert:hover {\n",
              "      background-color: #E2EBFA;\n",
              "      box-shadow: 0px 1px 2px rgba(60, 64, 67, 0.3), 0px 1px 3px 1px rgba(60, 64, 67, 0.15);\n",
              "      fill: #174EA6;\n",
              "    }\n",
              "\n",
              "    [theme=dark] .colab-df-convert {\n",
              "      background-color: #3B4455;\n",
              "      fill: #D2E3FC;\n",
              "    }\n",
              "\n",
              "    [theme=dark] .colab-df-convert:hover {\n",
              "      background-color: #434B5C;\n",
              "      box-shadow: 0px 1px 3px 1px rgba(0, 0, 0, 0.15);\n",
              "      filter: drop-shadow(0px 1px 2px rgba(0, 0, 0, 0.3));\n",
              "      fill: #FFFFFF;\n",
              "    }\n",
              "  </style>\n",
              "\n",
              "      <script>\n",
              "        const buttonEl =\n",
              "          document.querySelector('#df-e7a7f9e7-92c3-4477-9ad2-a7c986d2e49b button.colab-df-convert');\n",
              "        buttonEl.style.display =\n",
              "          google.colab.kernel.accessAllowed ? 'block' : 'none';\n",
              "\n",
              "        async function convertToInteractive(key) {\n",
              "          const element = document.querySelector('#df-e7a7f9e7-92c3-4477-9ad2-a7c986d2e49b');\n",
              "          const dataTable =\n",
              "            await google.colab.kernel.invokeFunction('convertToInteractive',\n",
              "                                                     [key], {});\n",
              "          if (!dataTable) return;\n",
              "\n",
              "          const docLinkHtml = 'Like what you see? Visit the ' +\n",
              "            '<a target=\"_blank\" href=https://colab.research.google.com/notebooks/data_table.ipynb>data table notebook</a>'\n",
              "            + ' to learn more about interactive tables.';\n",
              "          element.innerHTML = '';\n",
              "          dataTable['output_type'] = 'display_data';\n",
              "          await google.colab.output.renderOutput(dataTable, element);\n",
              "          const docLink = document.createElement('div');\n",
              "          docLink.innerHTML = docLinkHtml;\n",
              "          element.appendChild(docLink);\n",
              "        }\n",
              "      </script>\n",
              "    </div>\n",
              "  </div>\n",
              "  "
            ]
          },
          "metadata": {},
          "execution_count": 12
        }
      ]
    },
    {
      "cell_type": "code",
      "source": [
        "#dtypes - object means - strings\n",
        "df.dtypes"
      ],
      "metadata": {
        "colab": {
          "base_uri": "https://localhost:8080/"
        },
        "id": "I2A9SsARWuU3",
        "outputId": "9261e76a-31bb-4955-c65e-f50483bc1630"
      },
      "execution_count": null,
      "outputs": [
        {
          "output_type": "execute_result",
          "data": {
            "text/plain": [
              "ref_num        object\n",
              "bg_tissue      object\n",
              "ab_class       object\n",
              "ab_severity    object\n",
              "x_center_ab    object\n",
              "y_center_ab    object\n",
              "radius_ab      object\n",
              "dtype: object"
            ]
          },
          "metadata": {},
          "execution_count": 13
        }
      ]
    },
    {
      "cell_type": "code",
      "source": [
        "# to replace $ from prcie list\n",
        "##orders.item_price.str.replace('$','').astype(float).mean() a mathematical operator to check the given column is in int/ float or not.\n",
        "# to check a particular string in a column \n",
        "## orders.item_name.str.contains('chcken').astype(int).head() --- using int so that output comes in 0/1 rather in true/false"
      ],
      "metadata": {
        "id": "CED45D7fXP4l"
      },
      "execution_count": null,
      "outputs": []
    },
    {
      "cell_type": "code",
      "source": [
        "df"
      ],
      "metadata": {
        "colab": {
          "base_uri": "https://localhost:8080/",
          "height": 423
        },
        "id": "kh4p73geYz5b",
        "outputId": "453a4b7c-f17b-4f47-bc72-2d9a258f0082"
      },
      "execution_count": null,
      "outputs": [
        {
          "output_type": "execute_result",
          "data": {
            "text/plain": [
              "    ref_num bg_tissue ab_class ab_severity x_center_ab y_center_ab radius_ab\n",
              "0    mdb001         G     CIRC           B         535         425       197\n",
              "1    mdb002         G     CIRC           B         522         280        69\n",
              "2    mdb003         D     NORM         NaN         NaN         NaN       NaN\n",
              "3    mdb004         D     NORM         NaN         NaN         NaN       NaN\n",
              "4    mdb005         F     CIRC           B         477         133        30\n",
              "..      ...       ...      ...         ...         ...         ...       ...\n",
              "325  mdb318         D     NORM         NaN         NaN         NaN       NaN\n",
              "326  mdb319         D     NORM         NaN         NaN         NaN       NaN\n",
              "327  mdb320         D     NORM         NaN         NaN         NaN       NaN\n",
              "328  mdb321         D     NORM         NaN         NaN         NaN       NaN\n",
              "329  mdb322         D     NORM         NaN         NaN         NaN       NaN\n",
              "\n",
              "[330 rows x 7 columns]"
            ],
            "text/html": [
              "\n",
              "  <div id=\"df-3263b976-7bed-4e8d-8774-a6f26c1d5f0a\">\n",
              "    <div class=\"colab-df-container\">\n",
              "      <div>\n",
              "<style scoped>\n",
              "    .dataframe tbody tr th:only-of-type {\n",
              "        vertical-align: middle;\n",
              "    }\n",
              "\n",
              "    .dataframe tbody tr th {\n",
              "        vertical-align: top;\n",
              "    }\n",
              "\n",
              "    .dataframe thead th {\n",
              "        text-align: right;\n",
              "    }\n",
              "</style>\n",
              "<table border=\"1\" class=\"dataframe\">\n",
              "  <thead>\n",
              "    <tr style=\"text-align: right;\">\n",
              "      <th></th>\n",
              "      <th>ref_num</th>\n",
              "      <th>bg_tissue</th>\n",
              "      <th>ab_class</th>\n",
              "      <th>ab_severity</th>\n",
              "      <th>x_center_ab</th>\n",
              "      <th>y_center_ab</th>\n",
              "      <th>radius_ab</th>\n",
              "    </tr>\n",
              "  </thead>\n",
              "  <tbody>\n",
              "    <tr>\n",
              "      <th>0</th>\n",
              "      <td>mdb001</td>\n",
              "      <td>G</td>\n",
              "      <td>CIRC</td>\n",
              "      <td>B</td>\n",
              "      <td>535</td>\n",
              "      <td>425</td>\n",
              "      <td>197</td>\n",
              "    </tr>\n",
              "    <tr>\n",
              "      <th>1</th>\n",
              "      <td>mdb002</td>\n",
              "      <td>G</td>\n",
              "      <td>CIRC</td>\n",
              "      <td>B</td>\n",
              "      <td>522</td>\n",
              "      <td>280</td>\n",
              "      <td>69</td>\n",
              "    </tr>\n",
              "    <tr>\n",
              "      <th>2</th>\n",
              "      <td>mdb003</td>\n",
              "      <td>D</td>\n",
              "      <td>NORM</td>\n",
              "      <td>NaN</td>\n",
              "      <td>NaN</td>\n",
              "      <td>NaN</td>\n",
              "      <td>NaN</td>\n",
              "    </tr>\n",
              "    <tr>\n",
              "      <th>3</th>\n",
              "      <td>mdb004</td>\n",
              "      <td>D</td>\n",
              "      <td>NORM</td>\n",
              "      <td>NaN</td>\n",
              "      <td>NaN</td>\n",
              "      <td>NaN</td>\n",
              "      <td>NaN</td>\n",
              "    </tr>\n",
              "    <tr>\n",
              "      <th>4</th>\n",
              "      <td>mdb005</td>\n",
              "      <td>F</td>\n",
              "      <td>CIRC</td>\n",
              "      <td>B</td>\n",
              "      <td>477</td>\n",
              "      <td>133</td>\n",
              "      <td>30</td>\n",
              "    </tr>\n",
              "    <tr>\n",
              "      <th>...</th>\n",
              "      <td>...</td>\n",
              "      <td>...</td>\n",
              "      <td>...</td>\n",
              "      <td>...</td>\n",
              "      <td>...</td>\n",
              "      <td>...</td>\n",
              "      <td>...</td>\n",
              "    </tr>\n",
              "    <tr>\n",
              "      <th>325</th>\n",
              "      <td>mdb318</td>\n",
              "      <td>D</td>\n",
              "      <td>NORM</td>\n",
              "      <td>NaN</td>\n",
              "      <td>NaN</td>\n",
              "      <td>NaN</td>\n",
              "      <td>NaN</td>\n",
              "    </tr>\n",
              "    <tr>\n",
              "      <th>326</th>\n",
              "      <td>mdb319</td>\n",
              "      <td>D</td>\n",
              "      <td>NORM</td>\n",
              "      <td>NaN</td>\n",
              "      <td>NaN</td>\n",
              "      <td>NaN</td>\n",
              "      <td>NaN</td>\n",
              "    </tr>\n",
              "    <tr>\n",
              "      <th>327</th>\n",
              "      <td>mdb320</td>\n",
              "      <td>D</td>\n",
              "      <td>NORM</td>\n",
              "      <td>NaN</td>\n",
              "      <td>NaN</td>\n",
              "      <td>NaN</td>\n",
              "      <td>NaN</td>\n",
              "    </tr>\n",
              "    <tr>\n",
              "      <th>328</th>\n",
              "      <td>mdb321</td>\n",
              "      <td>D</td>\n",
              "      <td>NORM</td>\n",
              "      <td>NaN</td>\n",
              "      <td>NaN</td>\n",
              "      <td>NaN</td>\n",
              "      <td>NaN</td>\n",
              "    </tr>\n",
              "    <tr>\n",
              "      <th>329</th>\n",
              "      <td>mdb322</td>\n",
              "      <td>D</td>\n",
              "      <td>NORM</td>\n",
              "      <td>NaN</td>\n",
              "      <td>NaN</td>\n",
              "      <td>NaN</td>\n",
              "      <td>NaN</td>\n",
              "    </tr>\n",
              "  </tbody>\n",
              "</table>\n",
              "<p>330 rows × 7 columns</p>\n",
              "</div>\n",
              "      <button class=\"colab-df-convert\" onclick=\"convertToInteractive('df-3263b976-7bed-4e8d-8774-a6f26c1d5f0a')\"\n",
              "              title=\"Convert this dataframe to an interactive table.\"\n",
              "              style=\"display:none;\">\n",
              "        \n",
              "  <svg xmlns=\"http://www.w3.org/2000/svg\" height=\"24px\"viewBox=\"0 0 24 24\"\n",
              "       width=\"24px\">\n",
              "    <path d=\"M0 0h24v24H0V0z\" fill=\"none\"/>\n",
              "    <path d=\"M18.56 5.44l.94 2.06.94-2.06 2.06-.94-2.06-.94-.94-2.06-.94 2.06-2.06.94zm-11 1L8.5 8.5l.94-2.06 2.06-.94-2.06-.94L8.5 2.5l-.94 2.06-2.06.94zm10 10l.94 2.06.94-2.06 2.06-.94-2.06-.94-.94-2.06-.94 2.06-2.06.94z\"/><path d=\"M17.41 7.96l-1.37-1.37c-.4-.4-.92-.59-1.43-.59-.52 0-1.04.2-1.43.59L10.3 9.45l-7.72 7.72c-.78.78-.78 2.05 0 2.83L4 21.41c.39.39.9.59 1.41.59.51 0 1.02-.2 1.41-.59l7.78-7.78 2.81-2.81c.8-.78.8-2.07 0-2.86zM5.41 20L4 18.59l7.72-7.72 1.47 1.35L5.41 20z\"/>\n",
              "  </svg>\n",
              "      </button>\n",
              "      \n",
              "  <style>\n",
              "    .colab-df-container {\n",
              "      display:flex;\n",
              "      flex-wrap:wrap;\n",
              "      gap: 12px;\n",
              "    }\n",
              "\n",
              "    .colab-df-convert {\n",
              "      background-color: #E8F0FE;\n",
              "      border: none;\n",
              "      border-radius: 50%;\n",
              "      cursor: pointer;\n",
              "      display: none;\n",
              "      fill: #1967D2;\n",
              "      height: 32px;\n",
              "      padding: 0 0 0 0;\n",
              "      width: 32px;\n",
              "    }\n",
              "\n",
              "    .colab-df-convert:hover {\n",
              "      background-color: #E2EBFA;\n",
              "      box-shadow: 0px 1px 2px rgba(60, 64, 67, 0.3), 0px 1px 3px 1px rgba(60, 64, 67, 0.15);\n",
              "      fill: #174EA6;\n",
              "    }\n",
              "\n",
              "    [theme=dark] .colab-df-convert {\n",
              "      background-color: #3B4455;\n",
              "      fill: #D2E3FC;\n",
              "    }\n",
              "\n",
              "    [theme=dark] .colab-df-convert:hover {\n",
              "      background-color: #434B5C;\n",
              "      box-shadow: 0px 1px 3px 1px rgba(0, 0, 0, 0.15);\n",
              "      filter: drop-shadow(0px 1px 2px rgba(0, 0, 0, 0.3));\n",
              "      fill: #FFFFFF;\n",
              "    }\n",
              "  </style>\n",
              "\n",
              "      <script>\n",
              "        const buttonEl =\n",
              "          document.querySelector('#df-3263b976-7bed-4e8d-8774-a6f26c1d5f0a button.colab-df-convert');\n",
              "        buttonEl.style.display =\n",
              "          google.colab.kernel.accessAllowed ? 'block' : 'none';\n",
              "\n",
              "        async function convertToInteractive(key) {\n",
              "          const element = document.querySelector('#df-3263b976-7bed-4e8d-8774-a6f26c1d5f0a');\n",
              "          const dataTable =\n",
              "            await google.colab.kernel.invokeFunction('convertToInteractive',\n",
              "                                                     [key], {});\n",
              "          if (!dataTable) return;\n",
              "\n",
              "          const docLinkHtml = 'Like what you see? Visit the ' +\n",
              "            '<a target=\"_blank\" href=https://colab.research.google.com/notebooks/data_table.ipynb>data table notebook</a>'\n",
              "            + ' to learn more about interactive tables.';\n",
              "          element.innerHTML = '';\n",
              "          dataTable['output_type'] = 'display_data';\n",
              "          await google.colab.output.renderOutput(dataTable, element);\n",
              "          const docLink = document.createElement('div');\n",
              "          docLink.innerHTML = docLinkHtml;\n",
              "          element.appendChild(docLink);\n",
              "        }\n",
              "      </script>\n",
              "    </div>\n",
              "  </div>\n",
              "  "
            ]
          },
          "metadata": {},
          "execution_count": 15
        }
      ]
    },
    {
      "cell_type": "code",
      "source": [
        "df.shape"
      ],
      "metadata": {
        "colab": {
          "base_uri": "https://localhost:8080/"
        },
        "id": "RJCmBw2kEo15",
        "outputId": "18567231-747b-43ed-faca-f7b37e2e5010"
      },
      "execution_count": null,
      "outputs": [
        {
          "output_type": "execute_result",
          "data": {
            "text/plain": [
              "(330, 7)"
            ]
          },
          "metadata": {},
          "execution_count": 16
        }
      ]
    },
    {
      "cell_type": "code",
      "source": [
        "df.isnull().sum()"
      ],
      "metadata": {
        "colab": {
          "base_uri": "https://localhost:8080/"
        },
        "id": "lDccnhozFGp4",
        "outputId": "797514cf-ca88-4473-c809-59beab3990eb"
      },
      "execution_count": null,
      "outputs": [
        {
          "output_type": "execute_result",
          "data": {
            "text/plain": [
              "ref_num          0\n",
              "bg_tissue        0\n",
              "ab_class         0\n",
              "ab_severity    207\n",
              "x_center_ab    208\n",
              "y_center_ab    208\n",
              "radius_ab      208\n",
              "dtype: int64"
            ]
          },
          "metadata": {},
          "execution_count": 17
        }
      ]
    },
    {
      "cell_type": "code",
      "source": [
        "# yellow indicate the null values\n",
        "sns.heatmap(df.isnull(), yticklabels=False, annot=True)\n"
      ],
      "metadata": {
        "colab": {
          "base_uri": "https://localhost:8080/",
          "height": 338
        },
        "id": "CJLJViK7a7wE",
        "outputId": "41bb3bd7-046e-4f78-c225-d43a3cd73c98"
      },
      "execution_count": null,
      "outputs": [
        {
          "output_type": "execute_result",
          "data": {
            "text/plain": [
              "<matplotlib.axes._subplots.AxesSubplot at 0x7f08548e18d0>"
            ]
          },
          "metadata": {},
          "execution_count": 15
        },
        {
          "output_type": "display_data",
          "data": {
            "text/plain": [
              "<Figure size 432x288 with 2 Axes>"
            ],
            "image/png": "[encoded data removed]"
          },
          "metadata": {
            "needs_background": "light"
          }
        }
      ]
    },
    {
      "cell_type": "code",
      "source": [
        "# removing these values\n",
        "df1 = df.dropna()"
      ],
      "metadata": {
        "id": "jemEYeqrd71b"
      },
      "execution_count": null,
      "outputs": []
    },
    {
      "cell_type": "code",
      "source": [
        "df1.isnull().sum()"
      ],
      "metadata": {
        "colab": {
          "base_uri": "https://localhost:8080/"
        },
        "id": "sO3w-5c3esj1",
        "outputId": "c9ac3cfa-9af4-4ec4-dc80-b6d33302a4ab"
      },
      "execution_count": null,
      "outputs": [
        {
          "output_type": "execute_result",
          "data": {
            "text/plain": [
              "ref_num        0\n",
              "bg_tissue      0\n",
              "ab_class       0\n",
              "ab_severity    0\n",
              "x_center_ab    0\n",
              "y_center_ab    0\n",
              "radius_ab      0\n",
              "dtype: int64"
            ]
          },
          "metadata": {},
          "execution_count": 17
        }
      ]
    },
    {
      "cell_type": "code",
      "source": [
        "#some randam values in some rows\n",
        "df1.tail(20)\n"
      ],
      "metadata": {
        "colab": {
          "base_uri": "https://localhost:8080/",
          "height": 676
        },
        "id": "8SS0IcB9fKjh",
        "outputId": "0d71cc41-64e4-4bb6-8bf1-51efec53bdd8"
      },
      "execution_count": null,
      "outputs": [
        {
          "output_type": "execute_result",
          "data": {
            "text/plain": [
              "    ref_num bg_tissue ab_class ab_severity x_center_ab y_center_ab radius_ab\n",
              "246  mdb240         D     CALC           B         643         614        23\n",
              "247  mdb241         D     CALC           M         453         678        38\n",
              "250  mdb244         D     CIRC           B         466         567        52\n",
              "251  mdb245         F     CALC           M         *NO        TE 3         *\n",
              "254  mdb248         F     CALC           B         378         601        10\n",
              "255  mdb249         D     CALC           M         544         508        48\n",
              "256  mdb249         D     CALC           M         575         639        64\n",
              "259  mdb252         F     CALC           B         439         367        23\n",
              "260  mdb253         D     CALC           M         733         564        28\n",
              "263  mdb256         F     CALC           M         400         484        37\n",
              "271  mdb264         G     MISC           M         596         431        36\n",
              "272  mdb265         G     MISC           M         593         498        60\n",
              "274  mdb267         F     MISC           M         793         481        56\n",
              "277  mdb270         G     CIRC           M         356         945        72\n",
              "278  mdb271         F     MISC           M         784         270        68\n",
              "281  mdb274         F     MISC           M         127         505       123\n",
              "297  mdb290         D     CIRC           B         337         353        45\n",
              "319  mdb312         F     MISC           B         240         263        20\n",
              "321  mdb314         F     MISC           B         518         191        39\n",
              "322  mdb315         D     CIRC           B         516         447        93"
            ],
            "text/html": [
              "\n",
              "  <div id=\"df-43cb3a93-3aac-4687-8a63-879b57b921db\">\n",
              "    <div class=\"colab-df-container\">\n",
              "      <div>\n",
              "<style scoped>\n",
              "    .dataframe tbody tr th:only-of-type {\n",
              "        vertical-align: middle;\n",
              "    }\n",
              "\n",
              "    .dataframe tbody tr th {\n",
              "        vertical-align: top;\n",
              "    }\n",
              "\n",
              "    .dataframe thead th {\n",
              "        text-align: right;\n",
              "    }\n",
              "</style>\n",
              "<table border=\"1\" class=\"dataframe\">\n",
              "  <thead>\n",
              "    <tr style=\"text-align: right;\">\n",
              "      <th></th>\n",
              "      <th>ref_num</th>\n",
              "      <th>bg_tissue</th>\n",
              "      <th>ab_class</th>\n",
              "      <th>ab_severity</th>\n",
              "      <th>x_center_ab</th>\n",
              "      <th>y_center_ab</th>\n",
              "      <th>radius_ab</th>\n",
              "    </tr>\n",
              "  </thead>\n",
              "  <tbody>\n",
              "    <tr>\n",
              "      <th>246</th>\n",
              "      <td>mdb240</td>\n",
              "      <td>D</td>\n",
              "      <td>CALC</td>\n",
              "      <td>B</td>\n",
              "      <td>643</td>\n",
              "      <td>614</td>\n",
              "      <td>23</td>\n",
              "    </tr>\n",
              "    <tr>\n",
              "      <th>247</th>\n",
              "      <td>mdb241</td>\n",
              "      <td>D</td>\n",
              "      <td>CALC</td>\n",
              "      <td>M</td>\n",
              "      <td>453</td>\n",
              "      <td>678</td>\n",
              "      <td>38</td>\n",
              "    </tr>\n",
              "    <tr>\n",
              "      <th>250</th>\n",
              "      <td>mdb244</td>\n",
              "      <td>D</td>\n",
              "      <td>CIRC</td>\n",
              "      <td>B</td>\n",
              "      <td>466</td>\n",
              "      <td>567</td>\n",
              "      <td>52</td>\n",
              "    </tr>\n",
              "    <tr>\n",
              "      <th>251</th>\n",
              "      <td>mdb245</td>\n",
              "      <td>F</td>\n",
              "      <td>CALC</td>\n",
              "      <td>M</td>\n",
              "      <td>*NO</td>\n",
              "      <td>TE 3</td>\n",
              "      <td>*</td>\n",
              "    </tr>\n",
              "    <tr>\n",
              "      <th>254</th>\n",
              "      <td>mdb248</td>\n",
              "      <td>F</td>\n",
              "      <td>CALC</td>\n",
              "      <td>B</td>\n",
              "      <td>378</td>\n",
              "      <td>601</td>\n",
              "      <td>10</td>\n",
              "    </tr>\n",
              "    <tr>\n",
              "      <th>255</th>\n",
              "      <td>mdb249</td>\n",
              "      <td>D</td>\n",
              "      <td>CALC</td>\n",
              "      <td>M</td>\n",
              "      <td>544</td>\n",
              "      <td>508</td>\n",
              "      <td>48</td>\n",
              "    </tr>\n",
              "    <tr>\n",
              "      <th>256</th>\n",
              "      <td>mdb249</td>\n",
              "      <td>D</td>\n",
              "      <td>CALC</td>\n",
              "      <td>M</td>\n",
              "      <td>575</td>\n",
              "      <td>639</td>\n",
              "      <td>64</td>\n",
              "    </tr>\n",
              "    <tr>\n",
              "      <th>259</th>\n",
              "      <td>mdb252</td>\n",
              "      <td>F</td>\n",
              "      <td>CALC</td>\n",
              "      <td>B</td>\n",
              "      <td>439</td>\n",
              "      <td>367</td>\n",
              "      <td>23</td>\n",
              "    </tr>\n",
              "    <tr>\n",
              "      <th>260</th>\n",
              "      <td>mdb253</td>\n",
              "      <td>D</td>\n",
              "      <td>CALC</td>\n",
              "      <td>M</td>\n",
              "      <td>733</td>\n",
              "      <td>564</td>\n",
              "      <td>28</td>\n",
              "    </tr>\n",
              "    <tr>\n",
              "      <th>263</th>\n",
              "      <td>mdb256</td>\n",
              "      <td>F</td>\n",
              "      <td>CALC</td>\n",
              "      <td>M</td>\n",
              "      <td>400</td>\n",
              "      <td>484</td>\n",
              "      <td>37</td>\n",
              "    </tr>\n",
              "    <tr>\n",
              "      <th>271</th>\n",
              "      <td>mdb264</td>\n",
              "      <td>G</td>\n",
              "      <td>MISC</td>\n",
              "      <td>M</td>\n",
              "      <td>596</td>\n",
              "      <td>431</td>\n",
              "      <td>36</td>\n",
              "    </tr>\n",
              "    <tr>\n",
              "      <th>272</th>\n",
              "      <td>mdb265</td>\n",
              "      <td>G</td>\n",
              "      <td>MISC</td>\n",
              "      <td>M</td>\n",
              "      <td>593</td>\n",
              "      <td>498</td>\n",
              "      <td>60</td>\n",
              "    </tr>\n",
              "    <tr>\n",
              "      <th>274</th>\n",
              "      <td>mdb267</td>\n",
              "      <td>F</td>\n",
              "      <td>MISC</td>\n",
              "      <td>M</td>\n",
              "      <td>793</td>\n",
              "      <td>481</td>\n",
              "      <td>56</td>\n",
              "    </tr>\n",
              "    <tr>\n",
              "      <th>277</th>\n",
              "      <td>mdb270</td>\n",
              "      <td>G</td>\n",
              "      <td>CIRC</td>\n",
              "      <td>M</td>\n",
              "      <td>356</td>\n",
              "      <td>945</td>\n",
              "      <td>72</td>\n",
              "    </tr>\n",
              "    <tr>\n",
              "      <th>278</th>\n",
              "      <td>mdb271</td>\n",
              "      <td>F</td>\n",
              "      <td>MISC</td>\n",
              "      <td>M</td>\n",
              "      <td>784</td>\n",
              "      <td>270</td>\n",
              "      <td>68</td>\n",
              "    </tr>\n",
              "    <tr>\n",
              "      <th>281</th>\n",
              "      <td>mdb274</td>\n",
              "      <td>F</td>\n",
              "      <td>MISC</td>\n",
              "      <td>M</td>\n",
              "      <td>127</td>\n",
              "      <td>505</td>\n",
              "      <td>123</td>\n",
              "    </tr>\n",
              "    <tr>\n",
              "      <th>297</th>\n",
              "      <td>mdb290</td>\n",
              "      <td>D</td>\n",
              "      <td>CIRC</td>\n",
              "      <td>B</td>\n",
              "      <td>337</td>\n",
              "      <td>353</td>\n",
              "      <td>45</td>\n",
              "    </tr>\n",
              "    <tr>\n",
              "      <th>319</th>\n",
              "      <td>mdb312</td>\n",
              "      <td>F</td>\n",
              "      <td>MISC</td>\n",
              "      <td>B</td>\n",
              "      <td>240</td>\n",
              "      <td>263</td>\n",
              "      <td>20</td>\n",
              "    </tr>\n",
              "    <tr>\n",
              "      <th>321</th>\n",
              "      <td>mdb314</td>\n",
              "      <td>F</td>\n",
              "      <td>MISC</td>\n",
              "      <td>B</td>\n",
              "      <td>518</td>\n",
              "      <td>191</td>\n",
              "      <td>39</td>\n",
              "    </tr>\n",
              "    <tr>\n",
              "      <th>322</th>\n",
              "      <td>mdb315</td>\n",
              "      <td>D</td>\n",
              "      <td>CIRC</td>\n",
              "      <td>B</td>\n",
              "      <td>516</td>\n",
              "      <td>447</td>\n",
              "      <td>93</td>\n",
              "    </tr>\n",
              "  </tbody>\n",
              "</table>\n",
              "</div>\n",
              "      <button class=\"colab-df-convert\" onclick=\"convertToInteractive('df-43cb3a93-3aac-4687-8a63-879b57b921db')\"\n",
              "              title=\"Convert this dataframe to an interactive table.\"\n",
              "              style=\"display:none;\">\n",
              "        \n",
              "  <svg xmlns=\"http://www.w3.org/2000/svg\" height=\"24px\"viewBox=\"0 0 24 24\"\n",
              "       width=\"24px\">\n",
              "    <path d=\"M0 0h24v24H0V0z\" fill=\"none\"/>\n",
              "    <path d=\"M18.56 5.44l.94 2.06.94-2.06 2.06-.94-2.06-.94-.94-2.06-.94 2.06-2.06.94zm-11 1L8.5 8.5l.94-2.06 2.06-.94-2.06-.94L8.5 2.5l-.94 2.06-2.06.94zm10 10l.94 2.06.94-2.06 2.06-.94-2.06-.94-.94-2.06-.94 2.06-2.06.94z\"/><path d=\"M17.41 7.96l-1.37-1.37c-.4-.4-.92-.59-1.43-.59-.52 0-1.04.2-1.43.59L10.3 9.45l-7.72 7.72c-.78.78-.78 2.05 0 2.83L4 21.41c.39.39.9.59 1.41.59.51 0 1.02-.2 1.41-.59l7.78-7.78 2.81-2.81c.8-.78.8-2.07 0-2.86zM5.41 20L4 18.59l7.72-7.72 1.47 1.35L5.41 20z\"/>\n",
              "  </svg>\n",
              "      </button>\n",
              "      \n",
              "  <style>\n",
              "    .colab-df-container {\n",
              "      display:flex;\n",
              "      flex-wrap:wrap;\n",
              "      gap: 12px;\n",
              "    }\n",
              "\n",
              "    .colab-df-convert {\n",
              "      background-color: #E8F0FE;\n",
              "      border: none;\n",
              "      border-radius: 50%;\n",
              "      cursor: pointer;\n",
              "      display: none;\n",
              "      fill: #1967D2;\n",
              "      height: 32px;\n",
              "      padding: 0 0 0 0;\n",
              "      width: 32px;\n",
              "    }\n",
              "\n",
              "    .colab-df-convert:hover {\n",
              "      background-color: #E2EBFA;\n",
              "      box-shadow: 0px 1px 2px rgba(60, 64, 67, 0.3), 0px 1px 3px 1px rgba(60, 64, 67, 0.15);\n",
              "      fill: #174EA6;\n",
              "    }\n",
              "\n",
              "    [theme=dark] .colab-df-convert {\n",
              "      background-color: #3B4455;\n",
              "      fill: #D2E3FC;\n",
              "    }\n",
              "\n",
              "    [theme=dark] .colab-df-convert:hover {\n",
              "      background-color: #434B5C;\n",
              "      box-shadow: 0px 1px 3px 1px rgba(0, 0, 0, 0.15);\n",
              "      filter: drop-shadow(0px 1px 2px rgba(0, 0, 0, 0.3));\n",
              "      fill: #FFFFFF;\n",
              "    }\n",
              "  </style>\n",
              "\n",
              "      <script>\n",
              "        const buttonEl =\n",
              "          document.querySelector('#df-43cb3a93-3aac-4687-8a63-879b57b921db button.colab-df-convert');\n",
              "        buttonEl.style.display =\n",
              "          google.colab.kernel.accessAllowed ? 'block' : 'none';\n",
              "\n",
              "        async function convertToInteractive(key) {\n",
              "          const element = document.querySelector('#df-43cb3a93-3aac-4687-8a63-879b57b921db');\n",
              "          const dataTable =\n",
              "            await google.colab.kernel.invokeFunction('convertToInteractive',\n",
              "                                                     [key], {});\n",
              "          if (!dataTable) return;\n",
              "\n",
              "          const docLinkHtml = 'Like what you see? Visit the ' +\n",
              "            '<a target=\"_blank\" href=https://colab.research.google.com/notebooks/data_table.ipynb>data table notebook</a>'\n",
              "            + ' to learn more about interactive tables.';\n",
              "          element.innerHTML = '';\n",
              "          dataTable['output_type'] = 'display_data';\n",
              "          await google.colab.output.renderOutput(dataTable, element);\n",
              "          const docLink = document.createElement('div');\n",
              "          docLink.innerHTML = docLinkHtml;\n",
              "          element.appendChild(docLink);\n",
              "        }\n",
              "      </script>\n",
              "    </div>\n",
              "  </div>\n",
              "  "
            ]
          },
          "metadata": {},
          "execution_count": 18
        }
      ]
    },
    {
      "cell_type": "code",
      "source": [
        "df1.shape"
      ],
      "metadata": {
        "colab": {
          "base_uri": "https://localhost:8080/"
        },
        "id": "I6-epks61Y4N",
        "outputId": "8e1e0e55-53af-4bfb-e773-ed6950941a32"
      },
      "execution_count": null,
      "outputs": [
        {
          "output_type": "execute_result",
          "data": {
            "text/plain": [
              "(122, 7)"
            ]
          },
          "metadata": {},
          "execution_count": 19
        }
      ]
    },
    {
      "cell_type": "code",
      "source": [
        "df1['x_center_ab'] = df1['x_center_ab'].str.replace('\\*NO','')"
      ],
      "metadata": {
        "colab": {
          "base_uri": "https://localhost:8080/"
        },
        "id": "ZRguNjsofZVA",
        "outputId": "7d928b0c-1cc0-4eec-e066-c8c675554c51"
      },
      "execution_count": null,
      "outputs": [
        {
          "output_type": "stream",
          "name": "stderr",
          "text": [
            "/usr/local/lib/python3.7/dist-packages/ipykernel_launcher.py:1: FutureWarning: The default value of regex will change from True to False in a future version.\n",
            "  \"\"\"Entry point for launching an IPython kernel.\n",
            "/usr/local/lib/python3.7/dist-packages/ipykernel_launcher.py:1: SettingWithCopyWarning: \n",
            "A value is trying to be set on a copy of a slice from a DataFrame.\n",
            "Try using .loc[row_indexer,col_indexer] = value instead\n",
            "\n",
            "See the caveats in the documentation: https://pandas.pydata.org/pandas-docs/stable/user_guide/indexing.html#returning-a-view-versus-a-copy\n",
            "  \"\"\"Entry point for launching an IPython kernel.\n"
          ]
        }
      ]
    },
    {
      "cell_type": "code",
      "source": [
        "df1['y_center_ab'] = df1['y_center_ab'].str.replace(' ','')"
      ],
      "metadata": {
        "colab": {
          "base_uri": "https://localhost:8080/"
        },
        "id": "W-mWllLEm6OH",
        "outputId": "fdf8598b-0302-4fc3-f769-6b2545abbf07"
      },
      "execution_count": null,
      "outputs": [
        {
          "output_type": "stream",
          "name": "stderr",
          "text": [
            "/usr/local/lib/python3.7/dist-packages/ipykernel_launcher.py:1: SettingWithCopyWarning: \n",
            "A value is trying to be set on a copy of a slice from a DataFrame.\n",
            "Try using .loc[row_indexer,col_indexer] = value instead\n",
            "\n",
            "See the caveats in the documentation: https://pandas.pydata.org/pandas-docs/stable/user_guide/indexing.html#returning-a-view-versus-a-copy\n",
            "  \"\"\"Entry point for launching an IPython kernel.\n"
          ]
        }
      ]
    },
    {
      "cell_type": "code",
      "source": [
        "df1.tail(20)"
      ],
      "metadata": {
        "colab": {
          "base_uri": "https://localhost:8080/",
          "height": 676
        },
        "id": "FGtXeNsCCcYl",
        "outputId": "f73aabd7-79dd-4642-9746-5db199abca95"
      },
      "execution_count": null,
      "outputs": [
        {
          "output_type": "execute_result",
          "data": {
            "text/plain": [
              "    ref_num bg_tissue ab_class ab_severity x_center_ab y_center_ab radius_ab\n",
              "246  mdb240         D     CALC           B         643         614        23\n",
              "247  mdb241         D     CALC           M         453         678        38\n",
              "250  mdb244         D     CIRC           B         466         567        52\n",
              "251  mdb245         F     CALC           M                     TE3         *\n",
              "254  mdb248         F     CALC           B         378         601        10\n",
              "255  mdb249         D     CALC           M         544         508        48\n",
              "256  mdb249         D     CALC           M         575         639        64\n",
              "259  mdb252         F     CALC           B         439         367        23\n",
              "260  mdb253         D     CALC           M         733         564        28\n",
              "263  mdb256         F     CALC           M         400         484        37\n",
              "271  mdb264         G     MISC           M         596         431        36\n",
              "272  mdb265         G     MISC           M         593         498        60\n",
              "274  mdb267         F     MISC           M         793         481        56\n",
              "277  mdb270         G     CIRC           M         356         945        72\n",
              "278  mdb271         F     MISC           M         784         270        68\n",
              "281  mdb274         F     MISC           M         127         505       123\n",
              "297  mdb290         D     CIRC           B         337         353        45\n",
              "319  mdb312         F     MISC           B         240         263        20\n",
              "321  mdb314         F     MISC           B         518         191        39\n",
              "322  mdb315         D     CIRC           B         516         447        93"
            ],
            "text/html": [
              "\n",
              "  <div id=\"df-72ec5796-3755-4359-aadc-6ed217d37c55\">\n",
              "    <div class=\"colab-df-container\">\n",
              "      <div>\n",
              "<style scoped>\n",
              "    .dataframe tbody tr th:only-of-type {\n",
              "        vertical-align: middle;\n",
              "    }\n",
              "\n",
              "    .dataframe tbody tr th {\n",
              "        vertical-align: top;\n",
              "    }\n",
              "\n",
              "    .dataframe thead th {\n",
              "        text-align: right;\n",
              "    }\n",
              "</style>\n",
              "<table border=\"1\" class=\"dataframe\">\n",
              "  <thead>\n",
              "    <tr style=\"text-align: right;\">\n",
              "      <th></th>\n",
              "      <th>ref_num</th>\n",
              "      <th>bg_tissue</th>\n",
              "      <th>ab_class</th>\n",
              "      <th>ab_severity</th>\n",
              "      <th>x_center_ab</th>\n",
              "      <th>y_center_ab</th>\n",
              "      <th>radius_ab</th>\n",
              "    </tr>\n",
              "  </thead>\n",
              "  <tbody>\n",
              "    <tr>\n",
              "      <th>246</th>\n",
              "      <td>mdb240</td>\n",
              "      <td>D</td>\n",
              "      <td>CALC</td>\n",
              "      <td>B</td>\n",
              "      <td>643</td>\n",
              "      <td>614</td>\n",
              "      <td>23</td>\n",
              "    </tr>\n",
              "    <tr>\n",
              "      <th>247</th>\n",
              "      <td>mdb241</td>\n",
              "      <td>D</td>\n",
              "      <td>CALC</td>\n",
              "      <td>M</td>\n",
              "      <td>453</td>\n",
              "      <td>678</td>\n",
              "      <td>38</td>\n",
              "    </tr>\n",
              "    <tr>\n",
              "      <th>250</th>\n",
              "      <td>mdb244</td>\n",
              "      <td>D</td>\n",
              "      <td>CIRC</td>\n",
              "      <td>B</td>\n",
              "      <td>466</td>\n",
              "      <td>567</td>\n",
              "      <td>52</td>\n",
              "    </tr>\n",
              "    <tr>\n",
              "      <th>251</th>\n",
              "      <td>mdb245</td>\n",
              "      <td>F</td>\n",
              "      <td>CALC</td>\n",
              "      <td>M</td>\n",
              "      <td></td>\n",
              "      <td>TE3</td>\n",
              "      <td>*</td>\n",
              "    </tr>\n",
              "    <tr>\n",
              "      <th>254</th>\n",
              "      <td>mdb248</td>\n",
              "      <td>F</td>\n",
              "      <td>CALC</td>\n",
              "      <td>B</td>\n",
              "      <td>378</td>\n",
              "      <td>601</td>\n",
              "      <td>10</td>\n",
              "    </tr>\n",
              "    <tr>\n",
              "      <th>255</th>\n",
              "      <td>mdb249</td>\n",
              "      <td>D</td>\n",
              "      <td>CALC</td>\n",
              "      <td>M</td>\n",
              "      <td>544</td>\n",
              "      <td>508</td>\n",
              "      <td>48</td>\n",
              "    </tr>\n",
              "    <tr>\n",
              "      <th>256</th>\n",
              "      <td>mdb249</td>\n",
              "      <td>D</td>\n",
              "      <td>CALC</td>\n",
              "      <td>M</td>\n",
              "      <td>575</td>\n",
              "      <td>639</td>\n",
              "      <td>64</td>\n",
              "    </tr>\n",
              "    <tr>\n",
              "      <th>259</th>\n",
              "      <td>mdb252</td>\n",
              "      <td>F</td>\n",
              "      <td>CALC</td>\n",
              "      <td>B</td>\n",
              "      <td>439</td>\n",
              "      <td>367</td>\n",
              "      <td>23</td>\n",
              "    </tr>\n",
              "    <tr>\n",
              "      <th>260</th>\n",
              "      <td>mdb253</td>\n",
              "      <td>D</td>\n",
              "      <td>CALC</td>\n",
              "      <td>M</td>\n",
              "      <td>733</td>\n",
              "      <td>564</td>\n",
              "      <td>28</td>\n",
              "    </tr>\n",
              "    <tr>\n",
              "      <th>263</th>\n",
              "      <td>mdb256</td>\n",
              "      <td>F</td>\n",
              "      <td>CALC</td>\n",
              "      <td>M</td>\n",
              "      <td>400</td>\n",
              "      <td>484</td>\n",
              "      <td>37</td>\n",
              "    </tr>\n",
              "    <tr>\n",
              "      <th>271</th>\n",
              "      <td>mdb264</td>\n",
              "      <td>G</td>\n",
              "      <td>MISC</td>\n",
              "      <td>M</td>\n",
              "      <td>596</td>\n",
              "      <td>431</td>\n",
              "      <td>36</td>\n",
              "    </tr>\n",
              "    <tr>\n",
              "      <th>272</th>\n",
              "      <td>mdb265</td>\n",
              "      <td>G</td>\n",
              "      <td>MISC</td>\n",
              "      <td>M</td>\n",
              "      <td>593</td>\n",
              "      <td>498</td>\n",
              "      <td>60</td>\n",
              "    </tr>\n",
              "    <tr>\n",
              "      <th>274</th>\n",
              "      <td>mdb267</td>\n",
              "      <td>F</td>\n",
              "      <td>MISC</td>\n",
              "      <td>M</td>\n",
              "      <td>793</td>\n",
              "      <td>481</td>\n",
              "      <td>56</td>\n",
              "    </tr>\n",
              "    <tr>\n",
              "      <th>277</th>\n",
              "      <td>mdb270</td>\n",
              "      <td>G</td>\n",
              "      <td>CIRC</td>\n",
              "      <td>M</td>\n",
              "      <td>356</td>\n",
              "      <td>945</td>\n",
              "      <td>72</td>\n",
              "    </tr>\n",
              "    <tr>\n",
              "      <th>278</th>\n",
              "      <td>mdb271</td>\n",
              "      <td>F</td>\n",
              "      <td>MISC</td>\n",
              "      <td>M</td>\n",
              "      <td>784</td>\n",
              "      <td>270</td>\n",
              "      <td>68</td>\n",
              "    </tr>\n",
              "    <tr>\n",
              "      <th>281</th>\n",
              "      <td>mdb274</td>\n",
              "      <td>F</td>\n",
              "      <td>MISC</td>\n",
              "      <td>M</td>\n",
              "      <td>127</td>\n",
              "      <td>505</td>\n",
              "      <td>123</td>\n",
              "    </tr>\n",
              "    <tr>\n",
              "      <th>297</th>\n",
              "      <td>mdb290</td>\n",
              "      <td>D</td>\n",
              "      <td>CIRC</td>\n",
              "      <td>B</td>\n",
              "      <td>337</td>\n",
              "      <td>353</td>\n",
              "      <td>45</td>\n",
              "    </tr>\n",
              "    <tr>\n",
              "      <th>319</th>\n",
              "      <td>mdb312</td>\n",
              "      <td>F</td>\n",
              "      <td>MISC</td>\n",
              "      <td>B</td>\n",
              "      <td>240</td>\n",
              "      <td>263</td>\n",
              "      <td>20</td>\n",
              "    </tr>\n",
              "    <tr>\n",
              "      <th>321</th>\n",
              "      <td>mdb314</td>\n",
              "      <td>F</td>\n",
              "      <td>MISC</td>\n",
              "      <td>B</td>\n",
              "      <td>518</td>\n",
              "      <td>191</td>\n",
              "      <td>39</td>\n",
              "    </tr>\n",
              "    <tr>\n",
              "      <th>322</th>\n",
              "      <td>mdb315</td>\n",
              "      <td>D</td>\n",
              "      <td>CIRC</td>\n",
              "      <td>B</td>\n",
              "      <td>516</td>\n",
              "      <td>447</td>\n",
              "      <td>93</td>\n",
              "    </tr>\n",
              "  </tbody>\n",
              "</table>\n",
              "</div>\n",
              "      <button class=\"colab-df-convert\" onclick=\"convertToInteractive('df-72ec5796-3755-4359-aadc-6ed217d37c55')\"\n",
              "              title=\"Convert this dataframe to an interactive table.\"\n",
              "              style=\"display:none;\">\n",
              "        \n",
              "  <svg xmlns=\"http://www.w3.org/2000/svg\" height=\"24px\"viewBox=\"0 0 24 24\"\n",
              "       width=\"24px\">\n",
              "    <path d=\"M0 0h24v24H0V0z\" fill=\"none\"/>\n",
              "    <path d=\"M18.56 5.44l.94 2.06.94-2.06 2.06-.94-2.06-.94-.94-2.06-.94 2.06-2.06.94zm-11 1L8.5 8.5l.94-2.06 2.06-.94-2.06-.94L8.5 2.5l-.94 2.06-2.06.94zm10 10l.94 2.06.94-2.06 2.06-.94-2.06-.94-.94-2.06-.94 2.06-2.06.94z\"/><path d=\"M17.41 7.96l-1.37-1.37c-.4-.4-.92-.59-1.43-.59-.52 0-1.04.2-1.43.59L10.3 9.45l-7.72 7.72c-.78.78-.78 2.05 0 2.83L4 21.41c.39.39.9.59 1.41.59.51 0 1.02-.2 1.41-.59l7.78-7.78 2.81-2.81c.8-.78.8-2.07 0-2.86zM5.41 20L4 18.59l7.72-7.72 1.47 1.35L5.41 20z\"/>\n",
              "  </svg>\n",
              "      </button>\n",
              "      \n",
              "  <style>\n",
              "    .colab-df-container {\n",
              "      display:flex;\n",
              "      flex-wrap:wrap;\n",
              "      gap: 12px;\n",
              "    }\n",
              "\n",
              "    .colab-df-convert {\n",
              "      background-color: #E8F0FE;\n",
              "      border: none;\n",
              "      border-radius: 50%;\n",
              "      cursor: pointer;\n",
              "      display: none;\n",
              "      fill: #1967D2;\n",
              "      height: 32px;\n",
              "      padding: 0 0 0 0;\n",
              "      width: 32px;\n",
              "    }\n",
              "\n",
              "    .colab-df-convert:hover {\n",
              "      background-color: #E2EBFA;\n",
              "      box-shadow: 0px 1px 2px rgba(60, 64, 67, 0.3), 0px 1px 3px 1px rgba(60, 64, 67, 0.15);\n",
              "      fill: #174EA6;\n",
              "    }\n",
              "\n",
              "    [theme=dark] .colab-df-convert {\n",
              "      background-color: #3B4455;\n",
              "      fill: #D2E3FC;\n",
              "    }\n",
              "\n",
              "    [theme=dark] .colab-df-convert:hover {\n",
              "      background-color: #434B5C;\n",
              "      box-shadow: 0px 1px 3px 1px rgba(0, 0, 0, 0.15);\n",
              "      filter: drop-shadow(0px 1px 2px rgba(0, 0, 0, 0.3));\n",
              "      fill: #FFFFFF;\n",
              "    }\n",
              "  </style>\n",
              "\n",
              "      <script>\n",
              "        const buttonEl =\n",
              "          document.querySelector('#df-72ec5796-3755-4359-aadc-6ed217d37c55 button.colab-df-convert');\n",
              "        buttonEl.style.display =\n",
              "          google.colab.kernel.accessAllowed ? 'block' : 'none';\n",
              "\n",
              "        async function convertToInteractive(key) {\n",
              "          const element = document.querySelector('#df-72ec5796-3755-4359-aadc-6ed217d37c55');\n",
              "          const dataTable =\n",
              "            await google.colab.kernel.invokeFunction('convertToInteractive',\n",
              "                                                     [key], {});\n",
              "          if (!dataTable) return;\n",
              "\n",
              "          const docLinkHtml = 'Like what you see? Visit the ' +\n",
              "            '<a target=\"_blank\" href=https://colab.research.google.com/notebooks/data_table.ipynb>data table notebook</a>'\n",
              "            + ' to learn more about interactive tables.';\n",
              "          element.innerHTML = '';\n",
              "          dataTable['output_type'] = 'display_data';\n",
              "          await google.colab.output.renderOutput(dataTable, element);\n",
              "          const docLink = document.createElement('div');\n",
              "          docLink.innerHTML = docLinkHtml;\n",
              "          element.appendChild(docLink);\n",
              "        }\n",
              "      </script>\n",
              "    </div>\n",
              "  </div>\n",
              "  "
            ]
          },
          "metadata": {},
          "execution_count": 22
        }
      ]
    },
    {
      "cell_type": "code",
      "source": [
        "df1['y_center_ab'] = df1['y_center_ab'].str.replace('TE3','')"
      ],
      "metadata": {
        "colab": {
          "base_uri": "https://localhost:8080/"
        },
        "id": "nzgIJXaOChwp",
        "outputId": "14542b42-0938-4017-8e61-16a301c5964c"
      },
      "execution_count": null,
      "outputs": [
        {
          "output_type": "stream",
          "name": "stderr",
          "text": [
            "/usr/local/lib/python3.7/dist-packages/ipykernel_launcher.py:1: SettingWithCopyWarning: \n",
            "A value is trying to be set on a copy of a slice from a DataFrame.\n",
            "Try using .loc[row_indexer,col_indexer] = value instead\n",
            "\n",
            "See the caveats in the documentation: https://pandas.pydata.org/pandas-docs/stable/user_guide/indexing.html#returning-a-view-versus-a-copy\n",
            "  \"\"\"Entry point for launching an IPython kernel.\n"
          ]
        }
      ]
    },
    {
      "cell_type": "code",
      "source": [
        "df1['radius_ab'] = df1['radius_ab'].str.replace('\\*','')"
      ],
      "metadata": {
        "colab": {
          "base_uri": "https://localhost:8080/"
        },
        "id": "04Mdpn_aCs0v",
        "outputId": "90b35b0c-0093-40e1-b9d8-0503f2e16121"
      },
      "execution_count": null,
      "outputs": [
        {
          "output_type": "stream",
          "name": "stderr",
          "text": [
            "/usr/local/lib/python3.7/dist-packages/ipykernel_launcher.py:1: FutureWarning: The default value of regex will change from True to False in a future version.\n",
            "  \"\"\"Entry point for launching an IPython kernel.\n",
            "/usr/local/lib/python3.7/dist-packages/ipykernel_launcher.py:1: SettingWithCopyWarning: \n",
            "A value is trying to be set on a copy of a slice from a DataFrame.\n",
            "Try using .loc[row_indexer,col_indexer] = value instead\n",
            "\n",
            "See the caveats in the documentation: https://pandas.pydata.org/pandas-docs/stable/user_guide/indexing.html#returning-a-view-versus-a-copy\n",
            "  \"\"\"Entry point for launching an IPython kernel.\n"
          ]
        }
      ]
    },
    {
      "cell_type": "code",
      "source": [
        "df1.tail(20)"
      ],
      "metadata": {
        "colab": {
          "base_uri": "https://localhost:8080/",
          "height": 676
        },
        "id": "uFk4pBZkC48n",
        "outputId": "fcf7163e-e124-44df-ccc3-9812faf91106"
      },
      "execution_count": null,
      "outputs": [
        {
          "output_type": "execute_result",
          "data": {
            "text/plain": [
              "    ref_num bg_tissue ab_class ab_severity x_center_ab y_center_ab radius_ab\n",
              "246  mdb240         D     CALC           B         643         614        23\n",
              "247  mdb241         D     CALC           M         453         678        38\n",
              "250  mdb244         D     CIRC           B         466         567        52\n",
              "251  mdb245         F     CALC           M                                  \n",
              "254  mdb248         F     CALC           B         378         601        10\n",
              "255  mdb249         D     CALC           M         544         508        48\n",
              "256  mdb249         D     CALC           M         575         639        64\n",
              "259  mdb252         F     CALC           B         439         367        23\n",
              "260  mdb253         D     CALC           M         733         564        28\n",
              "263  mdb256         F     CALC           M         400         484        37\n",
              "271  mdb264         G     MISC           M         596         431        36\n",
              "272  mdb265         G     MISC           M         593         498        60\n",
              "274  mdb267         F     MISC           M         793         481        56\n",
              "277  mdb270         G     CIRC           M         356         945        72\n",
              "278  mdb271         F     MISC           M         784         270        68\n",
              "281  mdb274         F     MISC           M         127         505       123\n",
              "297  mdb290         D     CIRC           B         337         353        45\n",
              "319  mdb312         F     MISC           B         240         263        20\n",
              "321  mdb314         F     MISC           B         518         191        39\n",
              "322  mdb315         D     CIRC           B         516         447        93"
            ],
            "text/html": [
              "\n",
              "  <div id=\"df-3e736b30-1247-49f1-a808-bdee16f0097c\">\n",
              "    <div class=\"colab-df-container\">\n",
              "      <div>\n",
              "<style scoped>\n",
              "    .dataframe tbody tr th:only-of-type {\n",
              "        vertical-align: middle;\n",
              "    }\n",
              "\n",
              "    .dataframe tbody tr th {\n",
              "        vertical-align: top;\n",
              "    }\n",
              "\n",
              "    .dataframe thead th {\n",
              "        text-align: right;\n",
              "    }\n",
              "</style>\n",
              "<table border=\"1\" class=\"dataframe\">\n",
              "  <thead>\n",
              "    <tr style=\"text-align: right;\">\n",
              "      <th></th>\n",
              "      <th>ref_num</th>\n",
              "      <th>bg_tissue</th>\n",
              "      <th>ab_class</th>\n",
              "      <th>ab_severity</th>\n",
              "      <th>x_center_ab</th>\n",
              "      <th>y_center_ab</th>\n",
              "      <th>radius_ab</th>\n",
              "    </tr>\n",
              "  </thead>\n",
              "  <tbody>\n",
              "    <tr>\n",
              "      <th>246</th>\n",
              "      <td>mdb240</td>\n",
              "      <td>D</td>\n",
              "      <td>CALC</td>\n",
              "      <td>B</td>\n",
              "      <td>643</td>\n",
              "      <td>614</td>\n",
              "      <td>23</td>\n",
              "    </tr>\n",
              "    <tr>\n",
              "      <th>247</th>\n",
              "      <td>mdb241</td>\n",
              "      <td>D</td>\n",
              "      <td>CALC</td>\n",
              "      <td>M</td>\n",
              "      <td>453</td>\n",
              "      <td>678</td>\n",
              "      <td>38</td>\n",
              "    </tr>\n",
              "    <tr>\n",
              "      <th>250</th>\n",
              "      <td>mdb244</td>\n",
              "      <td>D</td>\n",
              "      <td>CIRC</td>\n",
              "      <td>B</td>\n",
              "      <td>466</td>\n",
              "      <td>567</td>\n",
              "      <td>52</td>\n",
              "    </tr>\n",
              "    <tr>\n",
              "      <th>251</th>\n",
              "      <td>mdb245</td>\n",
              "      <td>F</td>\n",
              "      <td>CALC</td>\n",
              "      <td>M</td>\n",
              "      <td></td>\n",
              "      <td></td>\n",
              "      <td></td>\n",
              "    </tr>\n",
              "    <tr>\n",
              "      <th>254</th>\n",
              "      <td>mdb248</td>\n",
              "      <td>F</td>\n",
              "      <td>CALC</td>\n",
              "      <td>B</td>\n",
              "      <td>378</td>\n",
              "      <td>601</td>\n",
              "      <td>10</td>\n",
              "    </tr>\n",
              "    <tr>\n",
              "      <th>255</th>\n",
              "      <td>mdb249</td>\n",
              "      <td>D</td>\n",
              "      <td>CALC</td>\n",
              "      <td>M</td>\n",
              "      <td>544</td>\n",
              "      <td>508</td>\n",
              "      <td>48</td>\n",
              "    </tr>\n",
              "    <tr>\n",
              "      <th>256</th>\n",
              "      <td>mdb249</td>\n",
              "      <td>D</td>\n",
              "      <td>CALC</td>\n",
              "      <td>M</td>\n",
              "      <td>575</td>\n",
              "      <td>639</td>\n",
              "      <td>64</td>\n",
              "    </tr>\n",
              "    <tr>\n",
              "      <th>259</th>\n",
              "      <td>mdb252</td>\n",
              "      <td>F</td>\n",
              "      <td>CALC</td>\n",
              "      <td>B</td>\n",
              "      <td>439</td>\n",
              "      <td>367</td>\n",
              "      <td>23</td>\n",
              "    </tr>\n",
              "    <tr>\n",
              "      <th>260</th>\n",
              "      <td>mdb253</td>\n",
              "      <td>D</td>\n",
              "      <td>CALC</td>\n",
              "      <td>M</td>\n",
              "      <td>733</td>\n",
              "      <td>564</td>\n",
              "      <td>28</td>\n",
              "    </tr>\n",
              "    <tr>\n",
              "      <th>263</th>\n",
              "      <td>mdb256</td>\n",
              "      <td>F</td>\n",
              "      <td>CALC</td>\n",
              "      <td>M</td>\n",
              "      <td>400</td>\n",
              "      <td>484</td>\n",
              "      <td>37</td>\n",
              "    </tr>\n",
              "    <tr>\n",
              "      <th>271</th>\n",
              "      <td>mdb264</td>\n",
              "      <td>G</td>\n",
              "      <td>MISC</td>\n",
              "      <td>M</td>\n",
              "      <td>596</td>\n",
              "      <td>431</td>\n",
              "      <td>36</td>\n",
              "    </tr>\n",
              "    <tr>\n",
              "      <th>272</th>\n",
              "      <td>mdb265</td>\n",
              "      <td>G</td>\n",
              "      <td>MISC</td>\n",
              "      <td>M</td>\n",
              "      <td>593</td>\n",
              "      <td>498</td>\n",
              "      <td>60</td>\n",
              "    </tr>\n",
              "    <tr>\n",
              "      <th>274</th>\n",
              "      <td>mdb267</td>\n",
              "      <td>F</td>\n",
              "      <td>MISC</td>\n",
              "      <td>M</td>\n",
              "      <td>793</td>\n",
              "      <td>481</td>\n",
              "      <td>56</td>\n",
              "    </tr>\n",
              "    <tr>\n",
              "      <th>277</th>\n",
              "      <td>mdb270</td>\n",
              "      <td>G</td>\n",
              "      <td>CIRC</td>\n",
              "      <td>M</td>\n",
              "      <td>356</td>\n",
              "      <td>945</td>\n",
              "      <td>72</td>\n",
              "    </tr>\n",
              "    <tr>\n",
              "      <th>278</th>\n",
              "      <td>mdb271</td>\n",
              "      <td>F</td>\n",
              "      <td>MISC</td>\n",
              "      <td>M</td>\n",
              "      <td>784</td>\n",
              "      <td>270</td>\n",
              "      <td>68</td>\n",
              "    </tr>\n",
              "    <tr>\n",
              "      <th>281</th>\n",
              "      <td>mdb274</td>\n",
              "      <td>F</td>\n",
              "      <td>MISC</td>\n",
              "      <td>M</td>\n",
              "      <td>127</td>\n",
              "      <td>505</td>\n",
              "      <td>123</td>\n",
              "    </tr>\n",
              "    <tr>\n",
              "      <th>297</th>\n",
              "      <td>mdb290</td>\n",
              "      <td>D</td>\n",
              "      <td>CIRC</td>\n",
              "      <td>B</td>\n",
              "      <td>337</td>\n",
              "      <td>353</td>\n",
              "      <td>45</td>\n",
              "    </tr>\n",
              "    <tr>\n",
              "      <th>319</th>\n",
              "      <td>mdb312</td>\n",
              "      <td>F</td>\n",
              "      <td>MISC</td>\n",
              "      <td>B</td>\n",
              "      <td>240</td>\n",
              "      <td>263</td>\n",
              "      <td>20</td>\n",
              "    </tr>\n",
              "    <tr>\n",
              "      <th>321</th>\n",
              "      <td>mdb314</td>\n",
              "      <td>F</td>\n",
              "      <td>MISC</td>\n",
              "      <td>B</td>\n",
              "      <td>518</td>\n",
              "      <td>191</td>\n",
              "      <td>39</td>\n",
              "    </tr>\n",
              "    <tr>\n",
              "      <th>322</th>\n",
              "      <td>mdb315</td>\n",
              "      <td>D</td>\n",
              "      <td>CIRC</td>\n",
              "      <td>B</td>\n",
              "      <td>516</td>\n",
              "      <td>447</td>\n",
              "      <td>93</td>\n",
              "    </tr>\n",
              "  </tbody>\n",
              "</table>\n",
              "</div>\n",
              "      <button class=\"colab-df-convert\" onclick=\"convertToInteractive('df-3e736b30-1247-49f1-a808-bdee16f0097c')\"\n",
              "              title=\"Convert this dataframe to an interactive table.\"\n",
              "              style=\"display:none;\">\n",
              "        \n",
              "  <svg xmlns=\"http://www.w3.org/2000/svg\" height=\"24px\"viewBox=\"0 0 24 24\"\n",
              "       width=\"24px\">\n",
              "    <path d=\"M0 0h24v24H0V0z\" fill=\"none\"/>\n",
              "    <path d=\"M18.56 5.44l.94 2.06.94-2.06 2.06-.94-2.06-.94-.94-2.06-.94 2.06-2.06.94zm-11 1L8.5 8.5l.94-2.06 2.06-.94-2.06-.94L8.5 2.5l-.94 2.06-2.06.94zm10 10l.94 2.06.94-2.06 2.06-.94-2.06-.94-.94-2.06-.94 2.06-2.06.94z\"/><path d=\"M17.41 7.96l-1.37-1.37c-.4-.4-.92-.59-1.43-.59-.52 0-1.04.2-1.43.59L10.3 9.45l-7.72 7.72c-.78.78-.78 2.05 0 2.83L4 21.41c.39.39.9.59 1.41.59.51 0 1.02-.2 1.41-.59l7.78-7.78 2.81-2.81c.8-.78.8-2.07 0-2.86zM5.41 20L4 18.59l7.72-7.72 1.47 1.35L5.41 20z\"/>\n",
              "  </svg>\n",
              "      </button>\n",
              "      \n",
              "  <style>\n",
              "    .colab-df-container {\n",
              "      display:flex;\n",
              "      flex-wrap:wrap;\n",
              "      gap: 12px;\n",
              "    }\n",
              "\n",
              "    .colab-df-convert {\n",
              "      background-color: #E8F0FE;\n",
              "      border: none;\n",
              "      border-radius: 50%;\n",
              "      cursor: pointer;\n",
              "      display: none;\n",
              "      fill: #1967D2;\n",
              "      height: 32px;\n",
              "      padding: 0 0 0 0;\n",
              "      width: 32px;\n",
              "    }\n",
              "\n",
              "    .colab-df-convert:hover {\n",
              "      background-color: #E2EBFA;\n",
              "      box-shadow: 0px 1px 2px rgba(60, 64, 67, 0.3), 0px 1px 3px 1px rgba(60, 64, 67, 0.15);\n",
              "      fill: #174EA6;\n",
              "    }\n",
              "\n",
              "    [theme=dark] .colab-df-convert {\n",
              "      background-color: #3B4455;\n",
              "      fill: #D2E3FC;\n",
              "    }\n",
              "\n",
              "    [theme=dark] .colab-df-convert:hover {\n",
              "      background-color: #434B5C;\n",
              "      box-shadow: 0px 1px 3px 1px rgba(0, 0, 0, 0.15);\n",
              "      filter: drop-shadow(0px 1px 2px rgba(0, 0, 0, 0.3));\n",
              "      fill: #FFFFFF;\n",
              "    }\n",
              "  </style>\n",
              "\n",
              "      <script>\n",
              "        const buttonEl =\n",
              "          document.querySelector('#df-3e736b30-1247-49f1-a808-bdee16f0097c button.colab-df-convert');\n",
              "        buttonEl.style.display =\n",
              "          google.colab.kernel.accessAllowed ? 'block' : 'none';\n",
              "\n",
              "        async function convertToInteractive(key) {\n",
              "          const element = document.querySelector('#df-3e736b30-1247-49f1-a808-bdee16f0097c');\n",
              "          const dataTable =\n",
              "            await google.colab.kernel.invokeFunction('convertToInteractive',\n",
              "                                                     [key], {});\n",
              "          if (!dataTable) return;\n",
              "\n",
              "          const docLinkHtml = 'Like what you see? Visit the ' +\n",
              "            '<a target=\"_blank\" href=https://colab.research.google.com/notebooks/data_table.ipynb>data table notebook</a>'\n",
              "            + ' to learn more about interactive tables.';\n",
              "          element.innerHTML = '';\n",
              "          dataTable['output_type'] = 'display_data';\n",
              "          await google.colab.output.renderOutput(dataTable, element);\n",
              "          const docLink = document.createElement('div');\n",
              "          docLink.innerHTML = docLinkHtml;\n",
              "          element.appendChild(docLink);\n",
              "        }\n",
              "      </script>\n",
              "    </div>\n",
              "  </div>\n",
              "  "
            ]
          },
          "metadata": {},
          "execution_count": 25
        }
      ]
    },
    {
      "cell_type": "code",
      "source": [
        "df1.dtypes"
      ],
      "metadata": {
        "colab": {
          "base_uri": "https://localhost:8080/"
        },
        "id": "vFBJFZj-pyo8",
        "outputId": "8c04e4d3-ac29-4fc4-e510-e9b4c07237cd"
      },
      "execution_count": null,
      "outputs": [
        {
          "output_type": "execute_result",
          "data": {
            "text/plain": [
              "ref_num        object\n",
              "bg_tissue      object\n",
              "ab_class       object\n",
              "ab_severity    object\n",
              "x_center_ab    object\n",
              "y_center_ab    object\n",
              "radius_ab      object\n",
              "dtype: object"
            ]
          },
          "metadata": {},
          "execution_count": 26
        }
      ]
    },
    {
      "cell_type": "code",
      "source": [
        "# changing data types\n",
        "df1[['x_center_ab']] = df1[['x_center_ab']].apply(pd.to_numeric)"
      ],
      "metadata": {
        "colab": {
          "base_uri": "https://localhost:8080/"
        },
        "id": "jXriCR0NHaeV",
        "outputId": "68e11367-c6d4-4222-a2cb-5d3c6143d321"
      },
      "execution_count": null,
      "outputs": [
        {
          "output_type": "stream",
          "name": "stderr",
          "text": [
            "/usr/local/lib/python3.7/dist-packages/pandas/core/frame.py:3641: SettingWithCopyWarning: \n",
            "A value is trying to be set on a copy of a slice from a DataFrame.\n",
            "Try using .loc[row_indexer,col_indexer] = value instead\n",
            "\n",
            "See the caveats in the documentation: https://pandas.pydata.org/pandas-docs/stable/user_guide/indexing.html#returning-a-view-versus-a-copy\n",
            "  self[k1] = value[k2]\n"
          ]
        }
      ]
    },
    {
      "cell_type": "code",
      "source": [
        "df1.dtypes"
      ],
      "metadata": {
        "colab": {
          "base_uri": "https://localhost:8080/"
        },
        "id": "0I4u-ygDHhpU",
        "outputId": "e1672eb1-3e88-41dd-eb1e-14c4ee21c7fd"
      },
      "execution_count": null,
      "outputs": [
        {
          "output_type": "execute_result",
          "data": {
            "text/plain": [
              "ref_num         object\n",
              "bg_tissue       object\n",
              "ab_class        object\n",
              "ab_severity     object\n",
              "x_center_ab    float64\n",
              "y_center_ab     object\n",
              "radius_ab       object\n",
              "dtype: object"
            ]
          },
          "metadata": {},
          "execution_count": 28
        }
      ]
    },
    {
      "cell_type": "code",
      "source": [
        "#filling missing values i.e., Null values with the mean of a column\n",
        "df1 = df1.fillna(value=df1['x_center_ab'].mean())"
      ],
      "metadata": {
        "id": "EUENbY5S6G0h"
      },
      "execution_count": null,
      "outputs": []
    },
    {
      "cell_type": "code",
      "source": [
        "df1.tail(20)"
      ],
      "metadata": {
        "colab": {
          "base_uri": "https://localhost:8080/",
          "height": 676
        },
        "id": "DJNqoYUlIJ5u",
        "outputId": "6b462a04-55fb-4be7-bc1b-8c5ffaad5137"
      },
      "execution_count": null,
      "outputs": [
        {
          "output_type": "execute_result",
          "data": {
            "text/plain": [
              "    ref_num bg_tissue ab_class ab_severity  x_center_ab y_center_ab radius_ab\n",
              "246  mdb240         D     CALC           B   643.000000         614        23\n",
              "247  mdb241         D     CALC           M   453.000000         678        38\n",
              "250  mdb244         D     CIRC           B   466.000000         567        52\n",
              "251  mdb245         F     CALC           M   488.605042                      \n",
              "254  mdb248         F     CALC           B   378.000000         601        10\n",
              "255  mdb249         D     CALC           M   544.000000         508        48\n",
              "256  mdb249         D     CALC           M   575.000000         639        64\n",
              "259  mdb252         F     CALC           B   439.000000         367        23\n",
              "260  mdb253         D     CALC           M   733.000000         564        28\n",
              "263  mdb256         F     CALC           M   400.000000         484        37\n",
              "271  mdb264         G     MISC           M   596.000000         431        36\n",
              "272  mdb265         G     MISC           M   593.000000         498        60\n",
              "274  mdb267         F     MISC           M   793.000000         481        56\n",
              "277  mdb270         G     CIRC           M   356.000000         945        72\n",
              "278  mdb271         F     MISC           M   784.000000         270        68\n",
              "281  mdb274         F     MISC           M   127.000000         505       123\n",
              "297  mdb290         D     CIRC           B   337.000000         353        45\n",
              "319  mdb312         F     MISC           B   240.000000         263        20\n",
              "321  mdb314         F     MISC           B   518.000000         191        39\n",
              "322  mdb315         D     CIRC           B   516.000000         447        93"
            ],
            "text/html": [
              "\n",
              "  <div id=\"df-c9430f16-ab7d-4b10-9079-3efa3998a3fb\">\n",
              "    <div class=\"colab-df-container\">\n",
              "      <div>\n",
              "<style scoped>\n",
              "    .dataframe tbody tr th:only-of-type {\n",
              "        vertical-align: middle;\n",
              "    }\n",
              "\n",
              "    .dataframe tbody tr th {\n",
              "        vertical-align: top;\n",
              "    }\n",
              "\n",
              "    .dataframe thead th {\n",
              "        text-align: right;\n",
              "    }\n",
              "</style>\n",
              "<table border=\"1\" class=\"dataframe\">\n",
              "  <thead>\n",
              "    <tr style=\"text-align: right;\">\n",
              "      <th></th>\n",
              "      <th>ref_num</th>\n",
              "      <th>bg_tissue</th>\n",
              "      <th>ab_class</th>\n",
              "      <th>ab_severity</th>\n",
              "      <th>x_center_ab</th>\n",
              "      <th>y_center_ab</th>\n",
              "      <th>radius_ab</th>\n",
              "    </tr>\n",
              "  </thead>\n",
              "  <tbody>\n",
              "    <tr>\n",
              "      <th>246</th>\n",
              "      <td>mdb240</td>\n",
              "      <td>D</td>\n",
              "      <td>CALC</td>\n",
              "      <td>B</td>\n",
              "      <td>643.000000</td>\n",
              "      <td>614</td>\n",
              "      <td>23</td>\n",
              "    </tr>\n",
              "    <tr>\n",
              "      <th>247</th>\n",
              "      <td>mdb241</td>\n",
              "      <td>D</td>\n",
              "      <td>CALC</td>\n",
              "      <td>M</td>\n",
              "      <td>453.000000</td>\n",
              "      <td>678</td>\n",
              "      <td>38</td>\n",
              "    </tr>\n",
              "    <tr>\n",
              "      <th>250</th>\n",
              "      <td>mdb244</td>\n",
              "      <td>D</td>\n",
              "      <td>CIRC</td>\n",
              "      <td>B</td>\n",
              "      <td>466.000000</td>\n",
              "      <td>567</td>\n",
              "      <td>52</td>\n",
              "    </tr>\n",
              "    <tr>\n",
              "      <th>251</th>\n",
              "      <td>mdb245</td>\n",
              "      <td>F</td>\n",
              "      <td>CALC</td>\n",
              "      <td>M</td>\n",
              "      <td>488.605042</td>\n",
              "      <td></td>\n",
              "      <td></td>\n",
              "    </tr>\n",
              "    <tr>\n",
              "      <th>254</th>\n",
              "      <td>mdb248</td>\n",
              "      <td>F</td>\n",
              "      <td>CALC</td>\n",
              "      <td>B</td>\n",
              "      <td>378.000000</td>\n",
              "      <td>601</td>\n",
              "      <td>10</td>\n",
              "    </tr>\n",
              "    <tr>\n",
              "      <th>255</th>\n",
              "      <td>mdb249</td>\n",
              "      <td>D</td>\n",
              "      <td>CALC</td>\n",
              "      <td>M</td>\n",
              "      <td>544.000000</td>\n",
              "      <td>508</td>\n",
              "      <td>48</td>\n",
              "    </tr>\n",
              "    <tr>\n",
              "      <th>256</th>\n",
              "      <td>mdb249</td>\n",
              "      <td>D</td>\n",
              "      <td>CALC</td>\n",
              "      <td>M</td>\n",
              "      <td>575.000000</td>\n",
              "      <td>639</td>\n",
              "      <td>64</td>\n",
              "    </tr>\n",
              "    <tr>\n",
              "      <th>259</th>\n",
              "      <td>mdb252</td>\n",
              "      <td>F</td>\n",
              "      <td>CALC</td>\n",
              "      <td>B</td>\n",
              "      <td>439.000000</td>\n",
              "      <td>367</td>\n",
              "      <td>23</td>\n",
              "    </tr>\n",
              "    <tr>\n",
              "      <th>260</th>\n",
              "      <td>mdb253</td>\n",
              "      <td>D</td>\n",
              "      <td>CALC</td>\n",
              "      <td>M</td>\n",
              "      <td>733.000000</td>\n",
              "      <td>564</td>\n",
              "      <td>28</td>\n",
              "    </tr>\n",
              "    <tr>\n",
              "      <th>263</th>\n",
              "      <td>mdb256</td>\n",
              "      <td>F</td>\n",
              "      <td>CALC</td>\n",
              "      <td>M</td>\n",
              "      <td>400.000000</td>\n",
              "      <td>484</td>\n",
              "      <td>37</td>\n",
              "    </tr>\n",
              "    <tr>\n",
              "      <th>271</th>\n",
              "      <td>mdb264</td>\n",
              "      <td>G</td>\n",
              "      <td>MISC</td>\n",
              "      <td>M</td>\n",
              "      <td>596.000000</td>\n",
              "      <td>431</td>\n",
              "      <td>36</td>\n",
              "    </tr>\n",
              "    <tr>\n",
              "      <th>272</th>\n",
              "      <td>mdb265</td>\n",
              "      <td>G</td>\n",
              "      <td>MISC</td>\n",
              "      <td>M</td>\n",
              "      <td>593.000000</td>\n",
              "      <td>498</td>\n",
              "      <td>60</td>\n",
              "    </tr>\n",
              "    <tr>\n",
              "      <th>274</th>\n",
              "      <td>mdb267</td>\n",
              "      <td>F</td>\n",
              "      <td>MISC</td>\n",
              "      <td>M</td>\n",
              "      <td>793.000000</td>\n",
              "      <td>481</td>\n",
              "      <td>56</td>\n",
              "    </tr>\n",
              "    <tr>\n",
              "      <th>277</th>\n",
              "      <td>mdb270</td>\n",
              "      <td>G</td>\n",
              "      <td>CIRC</td>\n",
              "      <td>M</td>\n",
              "      <td>356.000000</td>\n",
              "      <td>945</td>\n",
              "      <td>72</td>\n",
              "    </tr>\n",
              "    <tr>\n",
              "      <th>278</th>\n",
              "      <td>mdb271</td>\n",
              "      <td>F</td>\n",
              "      <td>MISC</td>\n",
              "      <td>M</td>\n",
              "      <td>784.000000</td>\n",
              "      <td>270</td>\n",
              "      <td>68</td>\n",
              "    </tr>\n",
              "    <tr>\n",
              "      <th>281</th>\n",
              "      <td>mdb274</td>\n",
              "      <td>F</td>\n",
              "      <td>MISC</td>\n",
              "      <td>M</td>\n",
              "      <td>127.000000</td>\n",
              "      <td>505</td>\n",
              "      <td>123</td>\n",
              "    </tr>\n",
              "    <tr>\n",
              "      <th>297</th>\n",
              "      <td>mdb290</td>\n",
              "      <td>D</td>\n",
              "      <td>CIRC</td>\n",
              "      <td>B</td>\n",
              "      <td>337.000000</td>\n",
              "      <td>353</td>\n",
              "      <td>45</td>\n",
              "    </tr>\n",
              "    <tr>\n",
              "      <th>319</th>\n",
              "      <td>mdb312</td>\n",
              "      <td>F</td>\n",
              "      <td>MISC</td>\n",
              "      <td>B</td>\n",
              "      <td>240.000000</td>\n",
              "      <td>263</td>\n",
              "      <td>20</td>\n",
              "    </tr>\n",
              "    <tr>\n",
              "      <th>321</th>\n",
              "      <td>mdb314</td>\n",
              "      <td>F</td>\n",
              "      <td>MISC</td>\n",
              "      <td>B</td>\n",
              "      <td>518.000000</td>\n",
              "      <td>191</td>\n",
              "      <td>39</td>\n",
              "    </tr>\n",
              "    <tr>\n",
              "      <th>322</th>\n",
              "      <td>mdb315</td>\n",
              "      <td>D</td>\n",
              "      <td>CIRC</td>\n",
              "      <td>B</td>\n",
              "      <td>516.000000</td>\n",
              "      <td>447</td>\n",
              "      <td>93</td>\n",
              "    </tr>\n",
              "  </tbody>\n",
              "</table>\n",
              "</div>\n",
              "      <button class=\"colab-df-convert\" onclick=\"convertToInteractive('df-c9430f16-ab7d-4b10-9079-3efa3998a3fb')\"\n",
              "              title=\"Convert this dataframe to an interactive table.\"\n",
              "              style=\"display:none;\">\n",
              "        \n",
              "  <svg xmlns=\"http://www.w3.org/2000/svg\" height=\"24px\"viewBox=\"0 0 24 24\"\n",
              "       width=\"24px\">\n",
              "    <path d=\"M0 0h24v24H0V0z\" fill=\"none\"/>\n",
              "    <path d=\"M18.56 5.44l.94 2.06.94-2.06 2.06-.94-2.06-.94-.94-2.06-.94 2.06-2.06.94zm-11 1L8.5 8.5l.94-2.06 2.06-.94-2.06-.94L8.5 2.5l-.94 2.06-2.06.94zm10 10l.94 2.06.94-2.06 2.06-.94-2.06-.94-.94-2.06-.94 2.06-2.06.94z\"/><path d=\"M17.41 7.96l-1.37-1.37c-.4-.4-.92-.59-1.43-.59-.52 0-1.04.2-1.43.59L10.3 9.45l-7.72 7.72c-.78.78-.78 2.05 0 2.83L4 21.41c.39.39.9.59 1.41.59.51 0 1.02-.2 1.41-.59l7.78-7.78 2.81-2.81c.8-.78.8-2.07 0-2.86zM5.41 20L4 18.59l7.72-7.72 1.47 1.35L5.41 20z\"/>\n",
              "  </svg>\n",
              "      </button>\n",
              "      \n",
              "  <style>\n",
              "    .colab-df-container {\n",
              "      display:flex;\n",
              "      flex-wrap:wrap;\n",
              "      gap: 12px;\n",
              "    }\n",
              "\n",
              "    .colab-df-convert {\n",
              "      background-color: #E8F0FE;\n",
              "      border: none;\n",
              "      border-radius: 50%;\n",
              "      cursor: pointer;\n",
              "      display: none;\n",
              "      fill: #1967D2;\n",
              "      height: 32px;\n",
              "      padding: 0 0 0 0;\n",
              "      width: 32px;\n",
              "    }\n",
              "\n",
              "    .colab-df-convert:hover {\n",
              "      background-color: #E2EBFA;\n",
              "      box-shadow: 0px 1px 2px rgba(60, 64, 67, 0.3), 0px 1px 3px 1px rgba(60, 64, 67, 0.15);\n",
              "      fill: #174EA6;\n",
              "    }\n",
              "\n",
              "    [theme=dark] .colab-df-convert {\n",
              "      background-color: #3B4455;\n",
              "      fill: #D2E3FC;\n",
              "    }\n",
              "\n",
              "    [theme=dark] .colab-df-convert:hover {\n",
              "      background-color: #434B5C;\n",
              "      box-shadow: 0px 1px 3px 1px rgba(0, 0, 0, 0.15);\n",
              "      filter: drop-shadow(0px 1px 2px rgba(0, 0, 0, 0.3));\n",
              "      fill: #FFFFFF;\n",
              "    }\n",
              "  </style>\n",
              "\n",
              "      <script>\n",
              "        const buttonEl =\n",
              "          document.querySelector('#df-c9430f16-ab7d-4b10-9079-3efa3998a3fb button.colab-df-convert');\n",
              "        buttonEl.style.display =\n",
              "          google.colab.kernel.accessAllowed ? 'block' : 'none';\n",
              "\n",
              "        async function convertToInteractive(key) {\n",
              "          const element = document.querySelector('#df-c9430f16-ab7d-4b10-9079-3efa3998a3fb');\n",
              "          const dataTable =\n",
              "            await google.colab.kernel.invokeFunction('convertToInteractive',\n",
              "                                                     [key], {});\n",
              "          if (!dataTable) return;\n",
              "\n",
              "          const docLinkHtml = 'Like what you see? Visit the ' +\n",
              "            '<a target=\"_blank\" href=https://colab.research.google.com/notebooks/data_table.ipynb>data table notebook</a>'\n",
              "            + ' to learn more about interactive tables.';\n",
              "          element.innerHTML = '';\n",
              "          dataTable['output_type'] = 'display_data';\n",
              "          await google.colab.output.renderOutput(dataTable, element);\n",
              "          const docLink = document.createElement('div');\n",
              "          docLink.innerHTML = docLinkHtml;\n",
              "          element.appendChild(docLink);\n",
              "        }\n",
              "      </script>\n",
              "    </div>\n",
              "  </div>\n",
              "  "
            ]
          },
          "metadata": {},
          "execution_count": 30
        }
      ]
    },
    {
      "cell_type": "code",
      "source": [
        "df1[['y_center_ab']] = df1[['y_center_ab']].apply(pd.to_numeric)"
      ],
      "metadata": {
        "id": "jIvvw1n_IWGt"
      },
      "execution_count": null,
      "outputs": []
    },
    {
      "cell_type": "code",
      "source": [
        "df1[['radius_ab']] = df1[['radius_ab']].apply(pd.to_numeric)"
      ],
      "metadata": {
        "id": "W9lyl3I4IWZ1"
      },
      "execution_count": null,
      "outputs": []
    },
    {
      "cell_type": "code",
      "source": [
        "df1 = df1.fillna(value=df1['y_center_ab'].mean())"
      ],
      "metadata": {
        "id": "-t05fq-6IpMD"
      },
      "execution_count": null,
      "outputs": []
    },
    {
      "cell_type": "code",
      "source": [
        "df1 = df1.fillna(value=df1['radius_ab'].mean())"
      ],
      "metadata": {
        "id": "1Zmvh1hoIpf9"
      },
      "execution_count": null,
      "outputs": []
    },
    {
      "cell_type": "code",
      "source": [
        "df1['x_center_ab'] = df1['x_center_ab'].astype(int)"
      ],
      "metadata": {
        "id": "plAG8QAeI3zl"
      },
      "execution_count": null,
      "outputs": []
    },
    {
      "cell_type": "code",
      "source": [
        "df1['y_center_ab'] = df1['y_center_ab'].astype(int)"
      ],
      "metadata": {
        "id": "UI7qyj2WJeow"
      },
      "execution_count": null,
      "outputs": []
    },
    {
      "cell_type": "code",
      "source": [
        "df1['radius_ab'] = df1['radius_ab'].astype(int)"
      ],
      "metadata": {
        "id": "mJfM8mfuJevg"
      },
      "execution_count": null,
      "outputs": []
    },
    {
      "cell_type": "code",
      "source": [
        "df1.dtypes"
      ],
      "metadata": {
        "colab": {
          "base_uri": "https://localhost:8080/"
        },
        "id": "PKBz-cF5Jqxn",
        "outputId": "1ef69f47-9365-4ac1-d4d0-0422597c9c7a"
      },
      "execution_count": null,
      "outputs": [
        {
          "output_type": "execute_result",
          "data": {
            "text/plain": [
              "ref_num        object\n",
              "bg_tissue      object\n",
              "ab_class       object\n",
              "ab_severity    object\n",
              "x_center_ab     int64\n",
              "y_center_ab     int64\n",
              "radius_ab       int64\n",
              "dtype: object"
            ]
          },
          "metadata": {},
          "execution_count": 38
        }
      ]
    },
    {
      "cell_type": "code",
      "source": [
        "df1.head(20)"
      ],
      "metadata": {
        "colab": {
          "base_uri": "https://localhost:8080/",
          "height": 676
        },
        "id": "7IdFMRzPJwsb",
        "outputId": "77036f99-b078-488f-b5f8-266297f89e41"
      },
      "execution_count": null,
      "outputs": [
        {
          "output_type": "execute_result",
          "data": {
            "text/plain": [
              "   ref_num bg_tissue ab_class ab_severity  x_center_ab  y_center_ab  radius_ab\n",
              "0   mdb001         G     CIRC           B          535          425        197\n",
              "1   mdb002         G     CIRC           B          522          280         69\n",
              "4   mdb005         F     CIRC           B          477          133         30\n",
              "5   mdb005         F     CIRC           B          500          168         26\n",
              "10  mdb010         F     CIRC           B          525          425         33\n",
              "12  mdb012         F     CIRC           B          471          458         40\n",
              "13  mdb013         G     MISC           B          667          365         31\n",
              "15  mdb015         G     CIRC           B          595          864         68\n",
              "17  mdb017         G     CIRC           B          547          573         48\n",
              "19  mdb019         G     CIRC           B          653          477         49\n",
              "21  mdb021         G     CIRC           B          493          125         49\n",
              "23  mdb023         G     CIRC           M          538          681         29\n",
              "25  mdb025         F     CIRC           B          674          443         79\n",
              "28  mdb028         F     CIRC           M          338          314         56\n",
              "30  mdb030         G     MISC           B          322          676         43\n",
              "32  mdb032         G     MISC           B          388          742         66\n",
              "58  mdb058         D     MISC           M          318          359         27\n",
              "63  mdb063         D     MISC           B          546          463         33\n",
              "69  mdb069         F     CIRC           B          462          406         44\n",
              "72  mdb072         G     ASYM           M          266          517         28"
            ],
            "text/html": [
              "\n",
              "  <div id=\"df-0b51817f-a5de-45e1-b88b-61bd35901395\">\n",
              "    <div class=\"colab-df-container\">\n",
              "      <div>\n",
              "<style scoped>\n",
              "    .dataframe tbody tr th:only-of-type {\n",
              "        vertical-align: middle;\n",
              "    }\n",
              "\n",
              "    .dataframe tbody tr th {\n",
              "        vertical-align: top;\n",
              "    }\n",
              "\n",
              "    .dataframe thead th {\n",
              "        text-align: right;\n",
              "    }\n",
              "</style>\n",
              "<table border=\"1\" class=\"dataframe\">\n",
              "  <thead>\n",
              "    <tr style=\"text-align: right;\">\n",
              "      <th></th>\n",
              "      <th>ref_num</th>\n",
              "      <th>bg_tissue</th>\n",
              "      <th>ab_class</th>\n",
              "      <th>ab_severity</th>\n",
              "      <th>x_center_ab</th>\n",
              "      <th>y_center_ab</th>\n",
              "      <th>radius_ab</th>\n",
              "    </tr>\n",
              "  </thead>\n",
              "  <tbody>\n",
              "    <tr>\n",
              "      <th>0</th>\n",
              "      <td>mdb001</td>\n",
              "      <td>G</td>\n",
              "      <td>CIRC</td>\n",
              "      <td>B</td>\n",
              "      <td>535</td>\n",
              "      <td>425</td>\n",
              "      <td>197</td>\n",
              "    </tr>\n",
              "    <tr>\n",
              "      <th>1</th>\n",
              "      <td>mdb002</td>\n",
              "      <td>G</td>\n",
              "      <td>CIRC</td>\n",
              "      <td>B</td>\n",
              "      <td>522</td>\n",
              "      <td>280</td>\n",
              "      <td>69</td>\n",
              "    </tr>\n",
              "    <tr>\n",
              "      <th>4</th>\n",
              "      <td>mdb005</td>\n",
              "      <td>F</td>\n",
              "      <td>CIRC</td>\n",
              "      <td>B</td>\n",
              "      <td>477</td>\n",
              "      <td>133</td>\n",
              "      <td>30</td>\n",
              "    </tr>\n",
              "    <tr>\n",
              "      <th>5</th>\n",
              "      <td>mdb005</td>\n",
              "      <td>F</td>\n",
              "      <td>CIRC</td>\n",
              "      <td>B</td>\n",
              "      <td>500</td>\n",
              "      <td>168</td>\n",
              "      <td>26</td>\n",
              "    </tr>\n",
              "    <tr>\n",
              "      <th>10</th>\n",
              "      <td>mdb010</td>\n",
              "      <td>F</td>\n",
              "      <td>CIRC</td>\n",
              "      <td>B</td>\n",
              "      <td>525</td>\n",
              "      <td>425</td>\n",
              "      <td>33</td>\n",
              "    </tr>\n",
              "    <tr>\n",
              "      <th>12</th>\n",
              "      <td>mdb012</td>\n",
              "      <td>F</td>\n",
              "      <td>CIRC</td>\n",
              "      <td>B</td>\n",
              "      <td>471</td>\n",
              "      <td>458</td>\n",
              "      <td>40</td>\n",
              "    </tr>\n",
              "    <tr>\n",
              "      <th>13</th>\n",
              "      <td>mdb013</td>\n",
              "      <td>G</td>\n",
              "      <td>MISC</td>\n",
              "      <td>B</td>\n",
              "      <td>667</td>\n",
              "      <td>365</td>\n",
              "      <td>31</td>\n",
              "    </tr>\n",
              "    <tr>\n",
              "      <th>15</th>\n",
              "      <td>mdb015</td>\n",
              "      <td>G</td>\n",
              "      <td>CIRC</td>\n",
              "      <td>B</td>\n",
              "      <td>595</td>\n",
              "      <td>864</td>\n",
              "      <td>68</td>\n",
              "    </tr>\n",
              "    <tr>\n",
              "      <th>17</th>\n",
              "      <td>mdb017</td>\n",
              "      <td>G</td>\n",
              "      <td>CIRC</td>\n",
              "      <td>B</td>\n",
              "      <td>547</td>\n",
              "      <td>573</td>\n",
              "      <td>48</td>\n",
              "    </tr>\n",
              "    <tr>\n",
              "      <th>19</th>\n",
              "      <td>mdb019</td>\n",
              "      <td>G</td>\n",
              "      <td>CIRC</td>\n",
              "      <td>B</td>\n",
              "      <td>653</td>\n",
              "      <td>477</td>\n",
              "      <td>49</td>\n",
              "    </tr>\n",
              "    <tr>\n",
              "      <th>21</th>\n",
              "      <td>mdb021</td>\n",
              "      <td>G</td>\n",
              "      <td>CIRC</td>\n",
              "      <td>B</td>\n",
              "      <td>493</td>\n",
              "      <td>125</td>\n",
              "      <td>49</td>\n",
              "    </tr>\n",
              "    <tr>\n",
              "      <th>23</th>\n",
              "      <td>mdb023</td>\n",
              "      <td>G</td>\n",
              "      <td>CIRC</td>\n",
              "      <td>M</td>\n",
              "      <td>538</td>\n",
              "      <td>681</td>\n",
              "      <td>29</td>\n",
              "    </tr>\n",
              "    <tr>\n",
              "      <th>25</th>\n",
              "      <td>mdb025</td>\n",
              "      <td>F</td>\n",
              "      <td>CIRC</td>\n",
              "      <td>B</td>\n",
              "      <td>674</td>\n",
              "      <td>443</td>\n",
              "      <td>79</td>\n",
              "    </tr>\n",
              "    <tr>\n",
              "      <th>28</th>\n",
              "      <td>mdb028</td>\n",
              "      <td>F</td>\n",
              "      <td>CIRC</td>\n",
              "      <td>M</td>\n",
              "      <td>338</td>\n",
              "      <td>314</td>\n",
              "      <td>56</td>\n",
              "    </tr>\n",
              "    <tr>\n",
              "      <th>30</th>\n",
              "      <td>mdb030</td>\n",
              "      <td>G</td>\n",
              "      <td>MISC</td>\n",
              "      <td>B</td>\n",
              "      <td>322</td>\n",
              "      <td>676</td>\n",
              "      <td>43</td>\n",
              "    </tr>\n",
              "    <tr>\n",
              "      <th>32</th>\n",
              "      <td>mdb032</td>\n",
              "      <td>G</td>\n",
              "      <td>MISC</td>\n",
              "      <td>B</td>\n",
              "      <td>388</td>\n",
              "      <td>742</td>\n",
              "      <td>66</td>\n",
              "    </tr>\n",
              "    <tr>\n",
              "      <th>58</th>\n",
              "      <td>mdb058</td>\n",
              "      <td>D</td>\n",
              "      <td>MISC</td>\n",
              "      <td>M</td>\n",
              "      <td>318</td>\n",
              "      <td>359</td>\n",
              "      <td>27</td>\n",
              "    </tr>\n",
              "    <tr>\n",
              "      <th>63</th>\n",
              "      <td>mdb063</td>\n",
              "      <td>D</td>\n",
              "      <td>MISC</td>\n",
              "      <td>B</td>\n",
              "      <td>546</td>\n",
              "      <td>463</td>\n",
              "      <td>33</td>\n",
              "    </tr>\n",
              "    <tr>\n",
              "      <th>69</th>\n",
              "      <td>mdb069</td>\n",
              "      <td>F</td>\n",
              "      <td>CIRC</td>\n",
              "      <td>B</td>\n",
              "      <td>462</td>\n",
              "      <td>406</td>\n",
              "      <td>44</td>\n",
              "    </tr>\n",
              "    <tr>\n",
              "      <th>72</th>\n",
              "      <td>mdb072</td>\n",
              "      <td>G</td>\n",
              "      <td>ASYM</td>\n",
              "      <td>M</td>\n",
              "      <td>266</td>\n",
              "      <td>517</td>\n",
              "      <td>28</td>\n",
              "    </tr>\n",
              "  </tbody>\n",
              "</table>\n",
              "</div>\n",
              "      <button class=\"colab-df-convert\" onclick=\"convertToInteractive('df-0b51817f-a5de-45e1-b88b-61bd35901395')\"\n",
              "              title=\"Convert this dataframe to an interactive table.\"\n",
              "              style=\"display:none;\">\n",
              "        \n",
              "  <svg xmlns=\"http://www.w3.org/2000/svg\" height=\"24px\"viewBox=\"0 0 24 24\"\n",
              "       width=\"24px\">\n",
              "    <path d=\"M0 0h24v24H0V0z\" fill=\"none\"/>\n",
              "    <path d=\"M18.56 5.44l.94 2.06.94-2.06 2.06-.94-2.06-.94-.94-2.06-.94 2.06-2.06.94zm-11 1L8.5 8.5l.94-2.06 2.06-.94-2.06-.94L8.5 2.5l-.94 2.06-2.06.94zm10 10l.94 2.06.94-2.06 2.06-.94-2.06-.94-.94-2.06-.94 2.06-2.06.94z\"/><path d=\"M17.41 7.96l-1.37-1.37c-.4-.4-.92-.59-1.43-.59-.52 0-1.04.2-1.43.59L10.3 9.45l-7.72 7.72c-.78.78-.78 2.05 0 2.83L4 21.41c.39.39.9.59 1.41.59.51 0 1.02-.2 1.41-.59l7.78-7.78 2.81-2.81c.8-.78.8-2.07 0-2.86zM5.41 20L4 18.59l7.72-7.72 1.47 1.35L5.41 20z\"/>\n",
              "  </svg>\n",
              "      </button>\n",
              "      \n",
              "  <style>\n",
              "    .colab-df-container {\n",
              "      display:flex;\n",
              "      flex-wrap:wrap;\n",
              "      gap: 12px;\n",
              "    }\n",
              "\n",
              "    .colab-df-convert {\n",
              "      background-color: #E8F0FE;\n",
              "      border: none;\n",
              "      border-radius: 50%;\n",
              "      cursor: pointer;\n",
              "      display: none;\n",
              "      fill: #1967D2;\n",
              "      height: 32px;\n",
              "      padding: 0 0 0 0;\n",
              "      width: 32px;\n",
              "    }\n",
              "\n",
              "    .colab-df-convert:hover {\n",
              "      background-color: #E2EBFA;\n",
              "      box-shadow: 0px 1px 2px rgba(60, 64, 67, 0.3), 0px 1px 3px 1px rgba(60, 64, 67, 0.15);\n",
              "      fill: #174EA6;\n",
              "    }\n",
              "\n",
              "    [theme=dark] .colab-df-convert {\n",
              "      background-color: #3B4455;\n",
              "      fill: #D2E3FC;\n",
              "    }\n",
              "\n",
              "    [theme=dark] .colab-df-convert:hover {\n",
              "      background-color: #434B5C;\n",
              "      box-shadow: 0px 1px 3px 1px rgba(0, 0, 0, 0.15);\n",
              "      filter: drop-shadow(0px 1px 2px rgba(0, 0, 0, 0.3));\n",
              "      fill: #FFFFFF;\n",
              "    }\n",
              "  </style>\n",
              "\n",
              "      <script>\n",
              "        const buttonEl =\n",
              "          document.querySelector('#df-0b51817f-a5de-45e1-b88b-61bd35901395 button.colab-df-convert');\n",
              "        buttonEl.style.display =\n",
              "          google.colab.kernel.accessAllowed ? 'block' : 'none';\n",
              "\n",
              "        async function convertToInteractive(key) {\n",
              "          const element = document.querySelector('#df-0b51817f-a5de-45e1-b88b-61bd35901395');\n",
              "          const dataTable =\n",
              "            await google.colab.kernel.invokeFunction('convertToInteractive',\n",
              "                                                     [key], {});\n",
              "          if (!dataTable) return;\n",
              "\n",
              "          const docLinkHtml = 'Like what you see? Visit the ' +\n",
              "            '<a target=\"_blank\" href=https://colab.research.google.com/notebooks/data_table.ipynb>data table notebook</a>'\n",
              "            + ' to learn more about interactive tables.';\n",
              "          element.innerHTML = '';\n",
              "          dataTable['output_type'] = 'display_data';\n",
              "          await google.colab.output.renderOutput(dataTable, element);\n",
              "          const docLink = document.createElement('div');\n",
              "          docLink.innerHTML = docLinkHtml;\n",
              "          element.appendChild(docLink);\n",
              "        }\n",
              "      </script>\n",
              "    </div>\n",
              "  </div>\n",
              "  "
            ]
          },
          "metadata": {},
          "execution_count": 39
        }
      ]
    },
    {
      "cell_type": "code",
      "source": [
        "df1.tail(20)"
      ],
      "metadata": {
        "colab": {
          "base_uri": "https://localhost:8080/",
          "height": 676
        },
        "id": "a63HBUXfPbU6",
        "outputId": "cb2dad2b-98ee-49d1-d800-eb8e87ed4e90"
      },
      "execution_count": null,
      "outputs": [
        {
          "output_type": "execute_result",
          "data": {
            "text/plain": [
              "    ref_num bg_tissue ab_class ab_severity  x_center_ab  y_center_ab  \\\n",
              "246  mdb240         D     CALC           B          643          614   \n",
              "247  mdb241         D     CALC           M          453          678   \n",
              "250  mdb244         D     CIRC           B          466          567   \n",
              "251  mdb245         F     CALC           M          488          520   \n",
              "254  mdb248         F     CALC           B          378          601   \n",
              "255  mdb249         D     CALC           M          544          508   \n",
              "256  mdb249         D     CALC           M          575          639   \n",
              "259  mdb252         F     CALC           B          439          367   \n",
              "260  mdb253         D     CALC           M          733          564   \n",
              "263  mdb256         F     CALC           M          400          484   \n",
              "271  mdb264         G     MISC           M          596          431   \n",
              "272  mdb265         G     MISC           M          593          498   \n",
              "274  mdb267         F     MISC           M          793          481   \n",
              "277  mdb270         G     CIRC           M          356          945   \n",
              "278  mdb271         F     MISC           M          784          270   \n",
              "281  mdb274         F     MISC           M          127          505   \n",
              "297  mdb290         D     CIRC           B          337          353   \n",
              "319  mdb312         F     MISC           B          240          263   \n",
              "321  mdb314         F     MISC           B          518          191   \n",
              "322  mdb315         D     CIRC           B          516          447   \n",
              "\n",
              "     radius_ab  \n",
              "246         23  \n",
              "247         38  \n",
              "250         52  \n",
              "251        520  \n",
              "254         10  \n",
              "255         48  \n",
              "256         64  \n",
              "259         23  \n",
              "260         28  \n",
              "263         37  \n",
              "271         36  \n",
              "272         60  \n",
              "274         56  \n",
              "277         72  \n",
              "278         68  \n",
              "281        123  \n",
              "297         45  \n",
              "319         20  \n",
              "321         39  \n",
              "322         93  "
            ],
            "text/html": [
              "\n",
              "  <div id=\"df-e73b7053-f221-4358-9a80-c16f09afcdfa\">\n",
              "    <div class=\"colab-df-container\">\n",
              "      <div>\n",
              "<style scoped>\n",
              "    .dataframe tbody tr th:only-of-type {\n",
              "        vertical-align: middle;\n",
              "    }\n",
              "\n",
              "    .dataframe tbody tr th {\n",
              "        vertical-align: top;\n",
              "    }\n",
              "\n",
              "    .dataframe thead th {\n",
              "        text-align: right;\n",
              "    }\n",
              "</style>\n",
              "<table border=\"1\" class=\"dataframe\">\n",
              "  <thead>\n",
              "    <tr style=\"text-align: right;\">\n",
              "      <th></th>\n",
              "      <th>ref_num</th>\n",
              "      <th>bg_tissue</th>\n",
              "      <th>ab_class</th>\n",
              "      <th>ab_severity</th>\n",
              "      <th>x_center_ab</th>\n",
              "      <th>y_center_ab</th>\n",
              "      <th>radius_ab</th>\n",
              "    </tr>\n",
              "  </thead>\n",
              "  <tbody>\n",
              "    <tr>\n",
              "      <th>246</th>\n",
              "      <td>mdb240</td>\n",
              "      <td>D</td>\n",
              "      <td>CALC</td>\n",
              "      <td>B</td>\n",
              "      <td>643</td>\n",
              "      <td>614</td>\n",
              "      <td>23</td>\n",
              "    </tr>\n",
              "    <tr>\n",
              "      <th>247</th>\n",
              "      <td>mdb241</td>\n",
              "      <td>D</td>\n",
              "      <td>CALC</td>\n",
              "      <td>M</td>\n",
              "      <td>453</td>\n",
              "      <td>678</td>\n",
              "      <td>38</td>\n",
              "    </tr>\n",
              "    <tr>\n",
              "      <th>250</th>\n",
              "      <td>mdb244</td>\n",
              "      <td>D</td>\n",
              "      <td>CIRC</td>\n",
              "      <td>B</td>\n",
              "      <td>466</td>\n",
              "      <td>567</td>\n",
              "      <td>52</td>\n",
              "    </tr>\n",
              "    <tr>\n",
              "      <th>251</th>\n",
              "      <td>mdb245</td>\n",
              "      <td>F</td>\n",
              "      <td>CALC</td>\n",
              "      <td>M</td>\n",
              "      <td>488</td>\n",
              "      <td>520</td>\n",
              "      <td>520</td>\n",
              "    </tr>\n",
              "    <tr>\n",
              "      <th>254</th>\n",
              "      <td>mdb248</td>\n",
              "      <td>F</td>\n",
              "      <td>CALC</td>\n",
              "      <td>B</td>\n",
              "      <td>378</td>\n",
              "      <td>601</td>\n",
              "      <td>10</td>\n",
              "    </tr>\n",
              "    <tr>\n",
              "      <th>255</th>\n",
              "      <td>mdb249</td>\n",
              "      <td>D</td>\n",
              "      <td>CALC</td>\n",
              "      <td>M</td>\n",
              "      <td>544</td>\n",
              "      <td>508</td>\n",
              "      <td>48</td>\n",
              "    </tr>\n",
              "    <tr>\n",
              "      <th>256</th>\n",
              "      <td>mdb249</td>\n",
              "      <td>D</td>\n",
              "      <td>CALC</td>\n",
              "      <td>M</td>\n",
              "      <td>575</td>\n",
              "      <td>639</td>\n",
              "      <td>64</td>\n",
              "    </tr>\n",
              "    <tr>\n",
              "      <th>259</th>\n",
              "      <td>mdb252</td>\n",
              "      <td>F</td>\n",
              "      <td>CALC</td>\n",
              "      <td>B</td>\n",
              "      <td>439</td>\n",
              "      <td>367</td>\n",
              "      <td>23</td>\n",
              "    </tr>\n",
              "    <tr>\n",
              "      <th>260</th>\n",
              "      <td>mdb253</td>\n",
              "      <td>D</td>\n",
              "      <td>CALC</td>\n",
              "      <td>M</td>\n",
              "      <td>733</td>\n",
              "      <td>564</td>\n",
              "      <td>28</td>\n",
              "    </tr>\n",
              "    <tr>\n",
              "      <th>263</th>\n",
              "      <td>mdb256</td>\n",
              "      <td>F</td>\n",
              "      <td>CALC</td>\n",
              "      <td>M</td>\n",
              "      <td>400</td>\n",
              "      <td>484</td>\n",
              "      <td>37</td>\n",
              "    </tr>\n",
              "    <tr>\n",
              "      <th>271</th>\n",
              "      <td>mdb264</td>\n",
              "      <td>G</td>\n",
              "      <td>MISC</td>\n",
              "      <td>M</td>\n",
              "      <td>596</td>\n",
              "      <td>431</td>\n",
              "      <td>36</td>\n",
              "    </tr>\n",
              "    <tr>\n",
              "      <th>272</th>\n",
              "      <td>mdb265</td>\n",
              "      <td>G</td>\n",
              "      <td>MISC</td>\n",
              "      <td>M</td>\n",
              "      <td>593</td>\n",
              "      <td>498</td>\n",
              "      <td>60</td>\n",
              "    </tr>\n",
              "    <tr>\n",
              "      <th>274</th>\n",
              "      <td>mdb267</td>\n",
              "      <td>F</td>\n",
              "      <td>MISC</td>\n",
              "      <td>M</td>\n",
              "      <td>793</td>\n",
              "      <td>481</td>\n",
              "      <td>56</td>\n",
              "    </tr>\n",
              "    <tr>\n",
              "      <th>277</th>\n",
              "      <td>mdb270</td>\n",
              "      <td>G</td>\n",
              "      <td>CIRC</td>\n",
              "      <td>M</td>\n",
              "      <td>356</td>\n",
              "      <td>945</td>\n",
              "      <td>72</td>\n",
              "    </tr>\n",
              "    <tr>\n",
              "      <th>278</th>\n",
              "      <td>mdb271</td>\n",
              "      <td>F</td>\n",
              "      <td>MISC</td>\n",
              "      <td>M</td>\n",
              "      <td>784</td>\n",
              "      <td>270</td>\n",
              "      <td>68</td>\n",
              "    </tr>\n",
              "    <tr>\n",
              "      <th>281</th>\n",
              "      <td>mdb274</td>\n",
              "      <td>F</td>\n",
              "      <td>MISC</td>\n",
              "      <td>M</td>\n",
              "      <td>127</td>\n",
              "      <td>505</td>\n",
              "      <td>123</td>\n",
              "    </tr>\n",
              "    <tr>\n",
              "      <th>297</th>\n",
              "      <td>mdb290</td>\n",
              "      <td>D</td>\n",
              "      <td>CIRC</td>\n",
              "      <td>B</td>\n",
              "      <td>337</td>\n",
              "      <td>353</td>\n",
              "      <td>45</td>\n",
              "    </tr>\n",
              "    <tr>\n",
              "      <th>319</th>\n",
              "      <td>mdb312</td>\n",
              "      <td>F</td>\n",
              "      <td>MISC</td>\n",
              "      <td>B</td>\n",
              "      <td>240</td>\n",
              "      <td>263</td>\n",
              "      <td>20</td>\n",
              "    </tr>\n",
              "    <tr>\n",
              "      <th>321</th>\n",
              "      <td>mdb314</td>\n",
              "      <td>F</td>\n",
              "      <td>MISC</td>\n",
              "      <td>B</td>\n",
              "      <td>518</td>\n",
              "      <td>191</td>\n",
              "      <td>39</td>\n",
              "    </tr>\n",
              "    <tr>\n",
              "      <th>322</th>\n",
              "      <td>mdb315</td>\n",
              "      <td>D</td>\n",
              "      <td>CIRC</td>\n",
              "      <td>B</td>\n",
              "      <td>516</td>\n",
              "      <td>447</td>\n",
              "      <td>93</td>\n",
              "    </tr>\n",
              "  </tbody>\n",
              "</table>\n",
              "</div>\n",
              "      <button class=\"colab-df-convert\" onclick=\"convertToInteractive('df-e73b7053-f221-4358-9a80-c16f09afcdfa')\"\n",
              "              title=\"Convert this dataframe to an interactive table.\"\n",
              "              style=\"display:none;\">\n",
              "        \n",
              "  <svg xmlns=\"http://www.w3.org/2000/svg\" height=\"24px\"viewBox=\"0 0 24 24\"\n",
              "       width=\"24px\">\n",
              "    <path d=\"M0 0h24v24H0V0z\" fill=\"none\"/>\n",
              "    <path d=\"M18.56 5.44l.94 2.06.94-2.06 2.06-.94-2.06-.94-.94-2.06-.94 2.06-2.06.94zm-11 1L8.5 8.5l.94-2.06 2.06-.94-2.06-.94L8.5 2.5l-.94 2.06-2.06.94zm10 10l.94 2.06.94-2.06 2.06-.94-2.06-.94-.94-2.06-.94 2.06-2.06.94z\"/><path d=\"M17.41 7.96l-1.37-1.37c-.4-.4-.92-.59-1.43-.59-.52 0-1.04.2-1.43.59L10.3 9.45l-7.72 7.72c-.78.78-.78 2.05 0 2.83L4 21.41c.39.39.9.59 1.41.59.51 0 1.02-.2 1.41-.59l7.78-7.78 2.81-2.81c.8-.78.8-2.07 0-2.86zM5.41 20L4 18.59l7.72-7.72 1.47 1.35L5.41 20z\"/>\n",
              "  </svg>\n",
              "      </button>\n",
              "      \n",
              "  <style>\n",
              "    .colab-df-container {\n",
              "      display:flex;\n",
              "      flex-wrap:wrap;\n",
              "      gap: 12px;\n",
              "    }\n",
              "\n",
              "    .colab-df-convert {\n",
              "      background-color: #E8F0FE;\n",
              "      border: none;\n",
              "      border-radius: 50%;\n",
              "      cursor: pointer;\n",
              "      display: none;\n",
              "      fill: #1967D2;\n",
              "      height: 32px;\n",
              "      padding: 0 0 0 0;\n",
              "      width: 32px;\n",
              "    }\n",
              "\n",
              "    .colab-df-convert:hover {\n",
              "      background-color: #E2EBFA;\n",
              "      box-shadow: 0px 1px 2px rgba(60, 64, 67, 0.3), 0px 1px 3px 1px rgba(60, 64, 67, 0.15);\n",
              "      fill: #174EA6;\n",
              "    }\n",
              "\n",
              "    [theme=dark] .colab-df-convert {\n",
              "      background-color: #3B4455;\n",
              "      fill: #D2E3FC;\n",
              "    }\n",
              "\n",
              "    [theme=dark] .colab-df-convert:hover {\n",
              "      background-color: #434B5C;\n",
              "      box-shadow: 0px 1px 3px 1px rgba(0, 0, 0, 0.15);\n",
              "      filter: drop-shadow(0px 1px 2px rgba(0, 0, 0, 0.3));\n",
              "      fill: #FFFFFF;\n",
              "    }\n",
              "  </style>\n",
              "\n",
              "      <script>\n",
              "        const buttonEl =\n",
              "          document.querySelector('#df-e73b7053-f221-4358-9a80-c16f09afcdfa button.colab-df-convert');\n",
              "        buttonEl.style.display =\n",
              "          google.colab.kernel.accessAllowed ? 'block' : 'none';\n",
              "\n",
              "        async function convertToInteractive(key) {\n",
              "          const element = document.querySelector('#df-e73b7053-f221-4358-9a80-c16f09afcdfa');\n",
              "          const dataTable =\n",
              "            await google.colab.kernel.invokeFunction('convertToInteractive',\n",
              "                                                     [key], {});\n",
              "          if (!dataTable) return;\n",
              "\n",
              "          const docLinkHtml = 'Like what you see? Visit the ' +\n",
              "            '<a target=\"_blank\" href=https://colab.research.google.com/notebooks/data_table.ipynb>data table notebook</a>'\n",
              "            + ' to learn more about interactive tables.';\n",
              "          element.innerHTML = '';\n",
              "          dataTable['output_type'] = 'display_data';\n",
              "          await google.colab.output.renderOutput(dataTable, element);\n",
              "          const docLink = document.createElement('div');\n",
              "          docLink.innerHTML = docLinkHtml;\n",
              "          element.appendChild(docLink);\n",
              "        }\n",
              "      </script>\n",
              "    </div>\n",
              "  </div>\n",
              "  "
            ]
          },
          "metadata": {},
          "execution_count": 40
        }
      ]
    },
    {
      "cell_type": "code",
      "source": [
        "# to check the sizes by radius\n",
        "# if we set inplace= true, the dropna method will modify your dataframe directly.\n",
        "df1.radius_ab.dropna(inplace= True)\n",
        "plt.hist(df1.radius_ab)"
      ],
      "metadata": {
        "id": "cNmISxlTL21H",
        "colab": {
          "base_uri": "https://localhost:8080/",
          "height": 338
        },
        "outputId": "4ef0e5be-52a1-455a-88bd-2e14bd72df3e"
      },
      "execution_count": null,
      "outputs": [
        {
          "output_type": "execute_result",
          "data": {
            "text/plain": [
              "(array([83., 27.,  7.,  2.,  0.,  0.,  0.,  0.,  0.,  3.]),\n",
              " array([  3. ,  54.7, 106.4, 158.1, 209.8, 261.5, 313.2, 364.9, 416.6,\n",
              "        468.3, 520. ]),\n",
              " <a list of 10 Patch objects>)"
            ]
          },
          "metadata": {},
          "execution_count": 41
        },
        {
          "output_type": "display_data",
          "data": {
            "text/plain": [
              "<Figure size 432x288 with 1 Axes>"
            ],
            "image/png": "[encoded data removed]"
          },
          "metadata": {
            "needs_background": "light"
          }
        }
      ]
    },
    {
      "cell_type": "code",
      "source": [
        "df1.shape"
      ],
      "metadata": {
        "colab": {
          "base_uri": "https://localhost:8080/"
        },
        "id": "2PG1saVlQYN2",
        "outputId": "64697849-d866-4160-ff66-83ca17653395"
      },
      "execution_count": null,
      "outputs": [
        {
          "output_type": "execute_result",
          "data": {
            "text/plain": [
              "(122, 7)"
            ]
          },
          "metadata": {},
          "execution_count": 42
        }
      ]
    },
    {
      "cell_type": "code",
      "source": [
        "## Look at radii by severity\n",
        "sev_radii = df1.loc[:,['radius_ab','ab_severity']]\n",
        "sev_radii.dropna(axis=0, how='any', inplace=True)\n",
        "benign = sev_radii[sev_radii.ab_severity == 'B']\n",
        "malignant = sev_radii[sev_radii.ab_severity == 'M']\n",
        "f, ax = plt.subplots(1,2,figsize=(20,5))\n",
        "ax[0].hist(benign.radius_ab)\n",
        "ax[0].set_xlabel(\"Radius\")\n",
        "ax[0].set_title(\"Benign\")\n",
        "ax[1].hist(malignant.radius_ab)\n",
        "ax[1].set_title(\"Malignant\")\n",
        "ax[1].set_xlabel(\"Radius\")\n",
        "plt.show()"
      ],
      "metadata": {
        "colab": {
          "base_uri": "https://localhost:8080/",
          "height": 341
        },
        "outputId": "5917383b-2939-42d5-f19d-cf3382812285",
        "id": "4VPcNMALOenR"
      },
      "execution_count": null,
      "outputs": [
        {
          "output_type": "display_data",
          "data": {
            "text/plain": [
              "<Figure size 1440x360 with 2 Axes>"
            ],
            "image/png": "[encoded data removed]"
          },
          "metadata": {
            "needs_background": "light"
          }
        }
      ]
    },
    {
      "cell_type": "code",
      "source": [
        "import cv2\n",
        "import glob\n",
        "\n",
        "file_list = glob.glob('/content/drive/MyDrive/mias 1/pgm_files/*.*')\n",
        "print(file_list)"
      ],
      "metadata": {
        "id": "6cGI4M-hNoVe",
        "colab": {
          "base_uri": "https://localhost:8080/"
        },
        "outputId": "a20b0a9d-e291-4e74-8ab6-ef77b32dfd6a"
      },
      "execution_count": null,
      "outputs": [
        {
          "output_type": "stream",
          "name": "stdout",
          "text": [
            "['/content/drive/MyDrive/mias 1/pgm_files/mdb009.pgm', '/content/drive/MyDrive/mias 1/pgm_files/mdb003.pgm', '/content/drive/MyDrive/mias 1/pgm_files/mdb012.pgm', '/content/drive/MyDrive/mias 1/pgm_files/mdb002.pgm', '/content/drive/MyDrive/mias 1/pgm_files/mdb001.pgm', '/content/drive/MyDrive/mias 1/pgm_files/mdb015.pgm', '/content/drive/MyDrive/mias 1/pgm_files/mdb014.pgm', '/content/drive/MyDrive/mias 1/pgm_files/mdb016.pgm', '/content/drive/MyDrive/mias 1/pgm_files/mdb013.pgm', '/content/drive/MyDrive/mias 1/pgm_files/mdb010.pgm', '/content/drive/MyDrive/mias 1/pgm_files/mdb006.pgm', '/content/drive/MyDrive/mias 1/pgm_files/mdb004.pgm', '/content/drive/MyDrive/mias 1/pgm_files/mdb008.pgm', '/content/drive/MyDrive/mias 1/pgm_files/mdb007.pgm', '/content/drive/MyDrive/mias 1/pgm_files/mdb017.pgm', '/content/drive/MyDrive/mias 1/pgm_files/mdb011.pgm', '/content/drive/MyDrive/mias 1/pgm_files/mdb005.pgm', '/content/drive/MyDrive/mias 1/pgm_files/mdb038.pgm', '/content/drive/MyDrive/mias 1/pgm_files/mdb034.pgm', '/content/drive/MyDrive/mias 1/pgm_files/mdb037.pgm', '/content/drive/MyDrive/mias 1/pgm_files/mdb020.pgm', '/content/drive/MyDrive/mias 1/pgm_files/mdb035.pgm', '/content/drive/MyDrive/mias 1/pgm_files/mdb019.pgm', '/content/drive/MyDrive/mias 1/pgm_files/mdb030.pgm', '/content/drive/MyDrive/mias 1/pgm_files/mdb028.pgm', '/content/drive/MyDrive/mias 1/pgm_files/mdb039.pgm', '/content/drive/MyDrive/mias 1/pgm_files/mdb024.pgm', '/content/drive/MyDrive/mias 1/pgm_files/mdb031.pgm', '/content/drive/MyDrive/mias 1/pgm_files/mdb025.pgm', '/content/drive/MyDrive/mias 1/pgm_files/mdb023.pgm', '/content/drive/MyDrive/mias 1/pgm_files/mdb021.pgm', '/content/drive/MyDrive/mias 1/pgm_files/mdb026.pgm', '/content/drive/MyDrive/mias 1/pgm_files/mdb027.pgm', '/content/drive/MyDrive/mias 1/pgm_files/mdb022.pgm', '/content/drive/MyDrive/mias 1/pgm_files/mdb033.pgm', '/content/drive/MyDrive/mias 1/pgm_files/mdb032.pgm', '/content/drive/MyDrive/mias 1/pgm_files/mdb018.pgm', '/content/drive/MyDrive/mias 1/pgm_files/mdb036.pgm', '/content/drive/MyDrive/mias 1/pgm_files/mdb029.pgm', '/content/drive/MyDrive/mias 1/pgm_files/mdb046.pgm', '/content/drive/MyDrive/mias 1/pgm_files/mdb040.pgm', '/content/drive/MyDrive/mias 1/pgm_files/mdb042.pgm', '/content/drive/MyDrive/mias 1/pgm_files/mdb056.pgm', '/content/drive/MyDrive/mias 1/pgm_files/mdb060.pgm', '/content/drive/MyDrive/mias 1/pgm_files/mdb054.pgm', '/content/drive/MyDrive/mias 1/pgm_files/mdb043.pgm', '/content/drive/MyDrive/mias 1/pgm_files/mdb052.pgm', '/content/drive/MyDrive/mias 1/pgm_files/mdb058.pgm', '/content/drive/MyDrive/mias 1/pgm_files/mdb051.pgm', '/content/drive/MyDrive/mias 1/pgm_files/mdb059.pgm', '/content/drive/MyDrive/mias 1/pgm_files/mdb047.pgm', '/content/drive/MyDrive/mias 1/pgm_files/mdb049.pgm', '/content/drive/MyDrive/mias 1/pgm_files/mdb053.pgm', '/content/drive/MyDrive/mias 1/pgm_files/mdb044.pgm', '/content/drive/MyDrive/mias 1/pgm_files/mdb045.pgm', '/content/drive/MyDrive/mias 1/pgm_files/mdb057.pgm', '/content/drive/MyDrive/mias 1/pgm_files/mdb041.pgm', '/content/drive/MyDrive/mias 1/pgm_files/mdb050.pgm', '/content/drive/MyDrive/mias 1/pgm_files/mdb055.pgm', '/content/drive/MyDrive/mias 1/pgm_files/mdb048.pgm', '/content/drive/MyDrive/mias 1/pgm_files/mdb061.pgm', '/content/drive/MyDrive/mias 1/pgm_files/mdb062.pgm', '/content/drive/MyDrive/mias 1/pgm_files/mdb075.pgm', '/content/drive/MyDrive/mias 1/pgm_files/mdb067.pgm', '/content/drive/MyDrive/mias 1/pgm_files/mdb068.pgm', '/content/drive/MyDrive/mias 1/pgm_files/mdb066.pgm', '/content/drive/MyDrive/mias 1/pgm_files/mdb072.pgm', '/content/drive/MyDrive/mias 1/pgm_files/mdb073.pgm', '/content/drive/MyDrive/mias 1/pgm_files/mdb063.pgm', '/content/drive/MyDrive/mias 1/pgm_files/mdb064.pgm', '/content/drive/MyDrive/mias 1/pgm_files/mdb074.pgm', '/content/drive/MyDrive/mias 1/pgm_files/mdb065.pgm', '/content/drive/MyDrive/mias 1/pgm_files/mdb069.pgm', '/content/drive/MyDrive/mias 1/pgm_files/mdb070.pgm', '/content/drive/MyDrive/mias 1/pgm_files/mdb071.pgm', '/content/drive/MyDrive/mias 1/pgm_files/mdb076.pgm', '/content/drive/MyDrive/mias 1/pgm_files/mdb085.pgm', '/content/drive/MyDrive/mias 1/pgm_files/mdb078.pgm', '/content/drive/MyDrive/mias 1/pgm_files/mdb087.pgm', '/content/drive/MyDrive/mias 1/pgm_files/mdb088.pgm', '/content/drive/MyDrive/mias 1/pgm_files/mdb092.pgm', '/content/drive/MyDrive/mias 1/pgm_files/mdb091.pgm', '/content/drive/MyDrive/mias 1/pgm_files/mdb082.pgm', '/content/drive/MyDrive/mias 1/pgm_files/mdb086.pgm', '/content/drive/MyDrive/mias 1/pgm_files/mdb081.pgm', '/content/drive/MyDrive/mias 1/pgm_files/mdb084.pgm', '/content/drive/MyDrive/mias 1/pgm_files/mdb080.pgm', '/content/drive/MyDrive/mias 1/pgm_files/mdb083.pgm', '/content/drive/MyDrive/mias 1/pgm_files/mdb090.pgm', '/content/drive/MyDrive/mias 1/pgm_files/mdb079.pgm', '/content/drive/MyDrive/mias 1/pgm_files/mdb077.pgm', '/content/drive/MyDrive/mias 1/pgm_files/mdb094.pgm', '/content/drive/MyDrive/mias 1/pgm_files/mdb089.pgm', '/content/drive/MyDrive/mias 1/pgm_files/mdb093.pgm', '/content/drive/MyDrive/mias 1/pgm_files/mdb104.pgm', '/content/drive/MyDrive/mias 1/pgm_files/mdb111.pgm', '/content/drive/MyDrive/mias 1/pgm_files/mdb097.pgm', '/content/drive/MyDrive/mias 1/pgm_files/mdb109.pgm', '/content/drive/MyDrive/mias 1/pgm_files/mdb114.pgm', '/content/drive/MyDrive/mias 1/pgm_files/mdb100.pgm', '/content/drive/MyDrive/mias 1/pgm_files/mdb105.pgm', '/content/drive/MyDrive/mias 1/pgm_files/mdb101.pgm', '/content/drive/MyDrive/mias 1/pgm_files/mdb102.pgm', '/content/drive/MyDrive/mias 1/pgm_files/mdb115.pgm', '/content/drive/MyDrive/mias 1/pgm_files/mdb099.pgm', '/content/drive/MyDrive/mias 1/pgm_files/mdb110.pgm', '/content/drive/MyDrive/mias 1/pgm_files/mdb108.pgm', '/content/drive/MyDrive/mias 1/pgm_files/mdb096.pgm', '/content/drive/MyDrive/mias 1/pgm_files/mdb103.pgm', '/content/drive/MyDrive/mias 1/pgm_files/mdb095.pgm', '/content/drive/MyDrive/mias 1/pgm_files/mdb098.pgm', '/content/drive/MyDrive/mias 1/pgm_files/mdb106.pgm', '/content/drive/MyDrive/mias 1/pgm_files/mdb112.pgm', '/content/drive/MyDrive/mias 1/pgm_files/mdb107.pgm', '/content/drive/MyDrive/mias 1/pgm_files/mdb113.pgm', '/content/drive/MyDrive/mias 1/pgm_files/mdb118.pgm', '/content/drive/MyDrive/mias 1/pgm_files/mdb119.pgm', '/content/drive/MyDrive/mias 1/pgm_files/mdb120.pgm', '/content/drive/MyDrive/mias 1/pgm_files/mdb116.pgm', '/content/drive/MyDrive/mias 1/pgm_files/mdb117.pgm', '/content/drive/MyDrive/mias 1/pgm_files/mdb122.pgm', '/content/drive/MyDrive/mias 1/pgm_files/mdb126.pgm', '/content/drive/MyDrive/mias 1/pgm_files/mdb123.pgm', '/content/drive/MyDrive/mias 1/pgm_files/mdb124.pgm', '/content/drive/MyDrive/mias 1/pgm_files/mdb125.pgm', '/content/drive/MyDrive/mias 1/pgm_files/mdb127.pgm', '/content/drive/MyDrive/mias 1/pgm_files/mdb130.pgm', '/content/drive/MyDrive/mias 1/pgm_files/mdb131.pgm', '/content/drive/MyDrive/mias 1/pgm_files/mdb128.pgm', '/content/drive/MyDrive/mias 1/pgm_files/mdb129.pgm', '/content/drive/MyDrive/mias 1/pgm_files/mdb121.pgm', '/content/drive/MyDrive/mias 1/pgm_files/mdb143.pgm', '/content/drive/MyDrive/mias 1/pgm_files/mdb144.pgm', '/content/drive/MyDrive/mias 1/pgm_files/mdb133.pgm', '/content/drive/MyDrive/mias 1/pgm_files/mdb142.pgm', '/content/drive/MyDrive/mias 1/pgm_files/mdb139.pgm', '/content/drive/MyDrive/mias 1/pgm_files/mdb140.pgm', '/content/drive/MyDrive/mias 1/pgm_files/mdb134.pgm', '/content/drive/MyDrive/mias 1/pgm_files/mdb145.pgm', '/content/drive/MyDrive/mias 1/pgm_files/mdb141.pgm', '/content/drive/MyDrive/mias 1/pgm_files/mdb138.pgm', '/content/drive/MyDrive/mias 1/pgm_files/mdb137.pgm', '/content/drive/MyDrive/mias 1/pgm_files/mdb132.pgm', '/content/drive/MyDrive/mias 1/pgm_files/mdb135.pgm', '/content/drive/MyDrive/mias 1/pgm_files/mdb146.pgm', '/content/drive/MyDrive/mias 1/pgm_files/mdb136.pgm', '/content/drive/MyDrive/mias 1/pgm_files/mdb147.pgm', '/content/drive/MyDrive/mias 1/pgm_files/mdb166.pgm', '/content/drive/MyDrive/mias 1/pgm_files/mdb170.pgm', '/content/drive/MyDrive/mias 1/pgm_files/mdb152.pgm', '/content/drive/MyDrive/mias 1/pgm_files/mdb154.pgm', '/content/drive/MyDrive/mias 1/pgm_files/mdb164.pgm', '/content/drive/MyDrive/mias 1/pgm_files/mdb169.pgm', '/content/drive/MyDrive/mias 1/pgm_files/mdb148.pgm', '/content/drive/MyDrive/mias 1/pgm_files/mdb158.pgm', '/content/drive/MyDrive/mias 1/pgm_files/mdb162.pgm', '/content/drive/MyDrive/mias 1/pgm_files/mdb160.pgm', '/content/drive/MyDrive/mias 1/pgm_files/mdb161.pgm', '/content/drive/MyDrive/mias 1/pgm_files/mdb155.pgm', '/content/drive/MyDrive/mias 1/pgm_files/mdb167.pgm', '/content/drive/MyDrive/mias 1/pgm_files/mdb163.pgm', '/content/drive/MyDrive/mias 1/pgm_files/mdb150.pgm', '/content/drive/MyDrive/mias 1/pgm_files/mdb159.pgm', '/content/drive/MyDrive/mias 1/pgm_files/mdb153.pgm', '/content/drive/MyDrive/mias 1/pgm_files/mdb156.pgm', '/content/drive/MyDrive/mias 1/pgm_files/mdb168.pgm', '/content/drive/MyDrive/mias 1/pgm_files/mdb149.pgm', '/content/drive/MyDrive/mias 1/pgm_files/mdb151.pgm', '/content/drive/MyDrive/mias 1/pgm_files/mdb157.pgm', '/content/drive/MyDrive/mias 1/pgm_files/mdb165.pgm', '/content/drive/MyDrive/mias 1/pgm_files/mdb180.pgm', '/content/drive/MyDrive/mias 1/pgm_files/mdb174.pgm', '/content/drive/MyDrive/mias 1/pgm_files/mdb185.pgm', '/content/drive/MyDrive/mias 1/pgm_files/mdb188.pgm', '/content/drive/MyDrive/mias 1/pgm_files/mdb172.pgm', '/content/drive/MyDrive/mias 1/pgm_files/mdb181.pgm', '/content/drive/MyDrive/mias 1/pgm_files/mdb178.pgm', '/content/drive/MyDrive/mias 1/pgm_files/mdb173.pgm', '/content/drive/MyDrive/mias 1/pgm_files/mdb184.pgm', '/content/drive/MyDrive/mias 1/pgm_files/mdb182.pgm', '/content/drive/MyDrive/mias 1/pgm_files/mdb183.pgm', '/content/drive/MyDrive/mias 1/pgm_files/mdb186.pgm', '/content/drive/MyDrive/mias 1/pgm_files/mdb175.pgm', '/content/drive/MyDrive/mias 1/pgm_files/mdb189.pgm', '/content/drive/MyDrive/mias 1/pgm_files/mdb179.pgm', '/content/drive/MyDrive/mias 1/pgm_files/mdb171.pgm', '/content/drive/MyDrive/mias 1/pgm_files/mdb187.pgm', '/content/drive/MyDrive/mias 1/pgm_files/mdb190.pgm', '/content/drive/MyDrive/mias 1/pgm_files/mdb176.pgm', '/content/drive/MyDrive/mias 1/pgm_files/mdb177.pgm', '/content/drive/MyDrive/mias 1/pgm_files/mdb194.pgm', '/content/drive/MyDrive/mias 1/pgm_files/mdb197.pgm', '/content/drive/MyDrive/mias 1/pgm_files/mdb198.pgm', '/content/drive/MyDrive/mias 1/pgm_files/mdb195.pgm', '/content/drive/MyDrive/mias 1/pgm_files/mdb193.pgm', '/content/drive/MyDrive/mias 1/pgm_files/mdb192.pgm', '/content/drive/MyDrive/mias 1/pgm_files/mdb196.pgm', '/content/drive/MyDrive/mias 1/pgm_files/mdb199.pgm', '/content/drive/MyDrive/mias 1/pgm_files/mdb191.pgm', '/content/drive/MyDrive/mias 1/pgm_files/mdb202.pgm', '/content/drive/MyDrive/mias 1/pgm_files/mdb201.pgm', '/content/drive/MyDrive/mias 1/pgm_files/mdb209.pgm', '/content/drive/MyDrive/mias 1/pgm_files/mdb207.pgm', '/content/drive/MyDrive/mias 1/pgm_files/mdb205.pgm', '/content/drive/MyDrive/mias 1/pgm_files/mdb208.pgm', '/content/drive/MyDrive/mias 1/pgm_files/mdb211.pgm', '/content/drive/MyDrive/mias 1/pgm_files/mdb204.pgm', '/content/drive/MyDrive/mias 1/pgm_files/mdb210.pgm', '/content/drive/MyDrive/mias 1/pgm_files/mdb200.pgm', '/content/drive/MyDrive/mias 1/pgm_files/mdb206.pgm', '/content/drive/MyDrive/mias 1/pgm_files/mdb203.pgm', '/content/drive/MyDrive/mias 1/pgm_files/mdb221.pgm', '/content/drive/MyDrive/mias 1/pgm_files/mdb229.pgm', '/content/drive/MyDrive/mias 1/pgm_files/mdb215.pgm', '/content/drive/MyDrive/mias 1/pgm_files/mdb233.pgm', '/content/drive/MyDrive/mias 1/pgm_files/mdb234.pgm', '/content/drive/MyDrive/mias 1/pgm_files/mdb212.pgm', '/content/drive/MyDrive/mias 1/pgm_files/mdb223.pgm', '/content/drive/MyDrive/mias 1/pgm_files/mdb217.pgm', '/content/drive/MyDrive/mias 1/pgm_files/mdb219.pgm', '/content/drive/MyDrive/mias 1/pgm_files/mdb225.pgm', '/content/drive/MyDrive/mias 1/pgm_files/mdb214.pgm', '/content/drive/MyDrive/mias 1/pgm_files/mdb224.pgm', '/content/drive/MyDrive/mias 1/pgm_files/mdb216.pgm', '/content/drive/MyDrive/mias 1/pgm_files/mdb220.pgm', '/content/drive/MyDrive/mias 1/pgm_files/mdb222.pgm', '/content/drive/MyDrive/mias 1/pgm_files/mdb227.pgm', '/content/drive/MyDrive/mias 1/pgm_files/mdb230.pgm', '/content/drive/MyDrive/mias 1/pgm_files/mdb228.pgm', '/content/drive/MyDrive/mias 1/pgm_files/mdb213.pgm', '/content/drive/MyDrive/mias 1/pgm_files/mdb226.pgm', '/content/drive/MyDrive/mias 1/pgm_files/mdb218.pgm', '/content/drive/MyDrive/mias 1/pgm_files/mdb232.pgm', '/content/drive/MyDrive/mias 1/pgm_files/mdb231.pgm', '/content/drive/MyDrive/mias 1/pgm_files/mdb247.pgm', '/content/drive/MyDrive/mias 1/pgm_files/mdb248.pgm', '/content/drive/MyDrive/mias 1/pgm_files/mdb250.pgm', '/content/drive/MyDrive/mias 1/pgm_files/mdb236.pgm', '/content/drive/MyDrive/mias 1/pgm_files/mdb256.pgm', '/content/drive/MyDrive/mias 1/pgm_files/mdb237.pgm', '/content/drive/MyDrive/mias 1/pgm_files/mdb245.pgm', '/content/drive/MyDrive/mias 1/pgm_files/mdb235.pgm', '/content/drive/MyDrive/mias 1/pgm_files/mdb242.pgm', '/content/drive/MyDrive/mias 1/pgm_files/mdb252.pgm', '/content/drive/MyDrive/mias 1/pgm_files/mdb258.pgm', '/content/drive/MyDrive/mias 1/pgm_files/mdb239.pgm', '/content/drive/MyDrive/mias 1/pgm_files/mdb240.pgm', '/content/drive/MyDrive/mias 1/pgm_files/mdb249.pgm', '/content/drive/MyDrive/mias 1/pgm_files/mdb241.pgm', '/content/drive/MyDrive/mias 1/pgm_files/mdb238.pgm', '/content/drive/MyDrive/mias 1/pgm_files/mdb257.pgm', '/content/drive/MyDrive/mias 1/pgm_files/mdb255.pgm', '/content/drive/MyDrive/mias 1/pgm_files/mdb254.pgm', '/content/drive/MyDrive/mias 1/pgm_files/mdb244.pgm', '/content/drive/MyDrive/mias 1/pgm_files/mdb246.pgm', '/content/drive/MyDrive/mias 1/pgm_files/mdb251.pgm', '/content/drive/MyDrive/mias 1/pgm_files/mdb243.pgm', '/content/drive/MyDrive/mias 1/pgm_files/mdb253.pgm', '/content/drive/MyDrive/mias 1/pgm_files/mdb262.pgm', '/content/drive/MyDrive/mias 1/pgm_files/mdb259.pgm', '/content/drive/MyDrive/mias 1/pgm_files/mdb261.pgm', '/content/drive/MyDrive/mias 1/pgm_files/mdb265.pgm', '/content/drive/MyDrive/mias 1/pgm_files/mdb264.pgm', '/content/drive/MyDrive/mias 1/pgm_files/mdb266.pgm', '/content/drive/MyDrive/mias 1/pgm_files/mdb263.pgm', '/content/drive/MyDrive/mias 1/pgm_files/mdb267.pgm', '/content/drive/MyDrive/mias 1/pgm_files/mdb268.pgm', '/content/drive/MyDrive/mias 1/pgm_files/mdb260.pgm', '/content/drive/MyDrive/mias 1/pgm_files/mdb275.pgm', '/content/drive/MyDrive/mias 1/pgm_files/mdb284.pgm', '/content/drive/MyDrive/mias 1/pgm_files/mdb286.pgm', '/content/drive/MyDrive/mias 1/pgm_files/mdb282.pgm', '/content/drive/MyDrive/mias 1/pgm_files/mdb283.pgm', '/content/drive/MyDrive/mias 1/pgm_files/mdb278.pgm', '/content/drive/MyDrive/mias 1/pgm_files/mdb281.pgm', '/content/drive/MyDrive/mias 1/pgm_files/mdb277.pgm', '/content/drive/MyDrive/mias 1/pgm_files/mdb285.pgm', '/content/drive/MyDrive/mias 1/pgm_files/mdb276.pgm', '/content/drive/MyDrive/mias 1/pgm_files/mdb279.pgm', '/content/drive/MyDrive/mias 1/pgm_files/mdb270.pgm', '/content/drive/MyDrive/mias 1/pgm_files/mdb273.pgm', '/content/drive/MyDrive/mias 1/pgm_files/mdb269.pgm', '/content/drive/MyDrive/mias 1/pgm_files/mdb280.pgm', '/content/drive/MyDrive/mias 1/pgm_files/mdb271.pgm', '/content/drive/MyDrive/mias 1/pgm_files/mdb274.pgm', '/content/drive/MyDrive/mias 1/pgm_files/mdb272.pgm', '/content/drive/MyDrive/mias 1/pgm_files/mdb296.pgm', '/content/drive/MyDrive/mias 1/pgm_files/mdb290.pgm', '/content/drive/MyDrive/mias 1/pgm_files/mdb297.pgm', '/content/drive/MyDrive/mias 1/pgm_files/mdb300.pgm', '/content/drive/MyDrive/mias 1/pgm_files/mdb301.pgm', '/content/drive/MyDrive/mias 1/pgm_files/mdb299.pgm', '/content/drive/MyDrive/mias 1/pgm_files/mdb288.pgm', '/content/drive/MyDrive/mias 1/pgm_files/mdb295.pgm', '/content/drive/MyDrive/mias 1/pgm_files/mdb293.pgm', '/content/drive/MyDrive/mias 1/pgm_files/mdb292.pgm', '/content/drive/MyDrive/mias 1/pgm_files/mdb294.pgm', '/content/drive/MyDrive/mias 1/pgm_files/mdb287.pgm', '/content/drive/MyDrive/mias 1/pgm_files/mdb298.pgm', '/content/drive/MyDrive/mias 1/pgm_files/mdb289.pgm', '/content/drive/MyDrive/mias 1/pgm_files/mdb291.pgm', '/content/drive/MyDrive/mias 1/pgm_files/mdb307.pgm', '/content/drive/MyDrive/mias 1/pgm_files/mdb314.pgm', '/content/drive/MyDrive/mias 1/pgm_files/mdb310.pgm', '/content/drive/MyDrive/mias 1/pgm_files/mdb306.pgm', '/content/drive/MyDrive/mias 1/pgm_files/mdb309.pgm', '/content/drive/MyDrive/mias 1/pgm_files/mdb319.pgm', '/content/drive/MyDrive/mias 1/pgm_files/mdb302.pgm', '/content/drive/MyDrive/mias 1/pgm_files/mdb305.pgm', '/content/drive/MyDrive/mias 1/pgm_files/mdb321.pgm', '/content/drive/MyDrive/mias 1/pgm_files/mdb318.pgm', '/content/drive/MyDrive/mias 1/pgm_files/mdb308.pgm', '/content/drive/MyDrive/mias 1/pgm_files/mdb322.pgm', '/content/drive/MyDrive/mias 1/pgm_files/mdb311.pgm', '/content/drive/MyDrive/mias 1/pgm_files/mdb312.pgm', '/content/drive/MyDrive/mias 1/pgm_files/mdb316.pgm', '/content/drive/MyDrive/mias 1/pgm_files/mdb304.pgm', '/content/drive/MyDrive/mias 1/pgm_files/mdb317.pgm', '/content/drive/MyDrive/mias 1/pgm_files/mdb315.pgm', '/content/drive/MyDrive/mias 1/pgm_files/mdb303.pgm', '/content/drive/MyDrive/mias 1/pgm_files/mdb320.pgm', '/content/drive/MyDrive/mias 1/pgm_files/mdb313.pgm']\n"
          ]
        }
      ]
    },
    {
      "cell_type": "code",
      "source": [
        "my_list=[]\n",
        "path = \"/content/drive/MyDrive/mias 1/pgm_files/*.*\"\n",
        "for file in glob.glob(path):\n",
        "  print(file)\n",
        "\n",
        "  a = cv2.imread(file)\n",
        "  my_list.append(a)\n",
        "\n",
        "from matplotlib import pyplot as plt\n",
        "plt.imshow(my_list[3])"
      ],
      "metadata": {
        "colab": {
          "base_uri": "https://localhost:8080/",
          "height": 1000
        },
        "id": "OBU-De2p_Bq4",
        "outputId": "0a109fd6-cd24-4e5e-e99c-77cfde21fa83"
      },
      "execution_count": null,
      "outputs": [
        {
          "output_type": "stream",
          "name": "stdout",
          "text": [
            "/content/drive/MyDrive/mias 1/pgm_files/mdb009.pgm\n",
            "/content/drive/MyDrive/mias 1/pgm_files/mdb003.pgm\n",
            "/content/drive/MyDrive/mias 1/pgm_files/mdb012.pgm\n",
            "/content/drive/MyDrive/mias 1/pgm_files/mdb002.pgm\n",
            "/content/drive/MyDrive/mias 1/pgm_files/mdb001.pgm\n",
            "/content/drive/MyDrive/mias 1/pgm_files/mdb015.pgm\n",
            "/content/drive/MyDrive/mias 1/pgm_files/mdb014.pgm\n",
            "/content/drive/MyDrive/mias 1/pgm_files/mdb016.pgm\n",
            "/content/drive/MyDrive/mias 1/pgm_files/mdb013.pgm\n",
            "/content/drive/MyDrive/mias 1/pgm_files/mdb010.pgm\n",
            "/content/drive/MyDrive/mias 1/pgm_files/mdb006.pgm\n",
            "/content/drive/MyDrive/mias 1/pgm_files/mdb004.pgm\n",
            "/content/drive/MyDrive/mias 1/pgm_files/mdb008.pgm\n",
            "/content/drive/MyDrive/mias 1/pgm_files/mdb007.pgm\n",
            "/content/drive/MyDrive/mias 1/pgm_files/mdb017.pgm\n",
            "/content/drive/MyDrive/mias 1/pgm_files/mdb011.pgm\n",
            "/content/drive/MyDrive/mias 1/pgm_files/mdb005.pgm\n",
            "/content/drive/MyDrive/mias 1/pgm_files/mdb038.pgm\n",
            "/content/drive/MyDrive/mias 1/pgm_files/mdb034.pgm\n",
            "/content/drive/MyDrive/mias 1/pgm_files/mdb037.pgm\n",
            "/content/drive/MyDrive/mias 1/pgm_files/mdb020.pgm\n",
            "/content/drive/MyDrive/mias 1/pgm_files/mdb035.pgm\n",
            "/content/drive/MyDrive/mias 1/pgm_files/mdb019.pgm\n",
            "/content/drive/MyDrive/mias 1/pgm_files/mdb030.pgm\n",
            "/content/drive/MyDrive/mias 1/pgm_files/mdb028.pgm\n",
            "/content/drive/MyDrive/mias 1/pgm_files/mdb039.pgm\n",
            "/content/drive/MyDrive/mias 1/pgm_files/mdb024.pgm\n",
            "/content/drive/MyDrive/mias 1/pgm_files/mdb031.pgm\n",
            "/content/drive/MyDrive/mias 1/pgm_files/mdb025.pgm\n",
            "/content/drive/MyDrive/mias 1/pgm_files/mdb023.pgm\n",
            "/content/drive/MyDrive/mias 1/pgm_files/mdb021.pgm\n",
            "/content/drive/MyDrive/mias 1/pgm_files/mdb026.pgm\n",
            "/content/drive/MyDrive/mias 1/pgm_files/mdb027.pgm\n",
            "/content/drive/MyDrive/mias 1/pgm_files/mdb022.pgm\n",
            "/content/drive/MyDrive/mias 1/pgm_files/mdb033.pgm\n",
            "/content/drive/MyDrive/mias 1/pgm_files/mdb032.pgm\n",
            "/content/drive/MyDrive/mias 1/pgm_files/mdb018.pgm\n",
            "/content/drive/MyDrive/mias 1/pgm_files/mdb036.pgm\n",
            "/content/drive/MyDrive/mias 1/pgm_files/mdb029.pgm\n",
            "/content/drive/MyDrive/mias 1/pgm_files/mdb046.pgm\n",
            "/content/drive/MyDrive/mias 1/pgm_files/mdb040.pgm\n",
            "/content/drive/MyDrive/mias 1/pgm_files/mdb042.pgm\n",
            "/content/drive/MyDrive/mias 1/pgm_files/mdb056.pgm\n",
            "/content/drive/MyDrive/mias 1/pgm_files/mdb060.pgm\n",
            "/content/drive/MyDrive/mias 1/pgm_files/mdb054.pgm\n",
            "/content/drive/MyDrive/mias 1/pgm_files/mdb043.pgm\n",
            "/content/drive/MyDrive/mias 1/pgm_files/mdb052.pgm\n",
            "/content/drive/MyDrive/mias 1/pgm_files/mdb058.pgm\n",
            "/content/drive/MyDrive/mias 1/pgm_files/mdb051.pgm\n",
            "/content/drive/MyDrive/mias 1/pgm_files/mdb059.pgm\n",
            "/content/drive/MyDrive/mias 1/pgm_files/mdb047.pgm\n",
            "/content/drive/MyDrive/mias 1/pgm_files/mdb049.pgm\n",
            "/content/drive/MyDrive/mias 1/pgm_files/mdb053.pgm\n",
            "/content/drive/MyDrive/mias 1/pgm_files/mdb044.pgm\n",
            "/content/drive/MyDrive/mias 1/pgm_files/mdb045.pgm\n",
            "/content/drive/MyDrive/mias 1/pgm_files/mdb057.pgm\n",
            "/content/drive/MyDrive/mias 1/pgm_files/mdb041.pgm\n",
            "/content/drive/MyDrive/mias 1/pgm_files/mdb050.pgm\n",
            "/content/drive/MyDrive/mias 1/pgm_files/mdb055.pgm\n",
            "/content/drive/MyDrive/mias 1/pgm_files/mdb048.pgm\n",
            "/content/drive/MyDrive/mias 1/pgm_files/mdb061.pgm\n",
            "/content/drive/MyDrive/mias 1/pgm_files/mdb062.pgm\n",
            "/content/drive/MyDrive/mias 1/pgm_files/mdb075.pgm\n",
            "/content/drive/MyDrive/mias 1/pgm_files/mdb067.pgm\n",
            "/content/drive/MyDrive/mias 1/pgm_files/mdb068.pgm\n",
            "/content/drive/MyDrive/mias 1/pgm_files/mdb066.pgm\n",
            "/content/drive/MyDrive/mias 1/pgm_files/mdb072.pgm\n",
            "/content/drive/MyDrive/mias 1/pgm_files/mdb073.pgm\n",
            "/content/drive/MyDrive/mias 1/pgm_files/mdb063.pgm\n",
            "/content/drive/MyDrive/mias 1/pgm_files/mdb064.pgm\n",
            "/content/drive/MyDrive/mias 1/pgm_files/mdb074.pgm\n",
            "/content/drive/MyDrive/mias 1/pgm_files/mdb065.pgm\n",
            "/content/drive/MyDrive/mias 1/pgm_files/mdb069.pgm\n",
            "/content/drive/MyDrive/mias 1/pgm_files/mdb070.pgm\n",
            "/content/drive/MyDrive/mias 1/pgm_files/mdb071.pgm\n",
            "/content/drive/MyDrive/mias 1/pgm_files/mdb076.pgm\n",
            "/content/drive/MyDrive/mias 1/pgm_files/mdb085.pgm\n",
            "/content/drive/MyDrive/mias 1/pgm_files/mdb078.pgm\n",
            "/content/drive/MyDrive/mias 1/pgm_files/mdb087.pgm\n",
            "/content/drive/MyDrive/mias 1/pgm_files/mdb088.pgm\n",
            "/content/drive/MyDrive/mias 1/pgm_files/mdb092.pgm\n",
            "/content/drive/MyDrive/mias 1/pgm_files/mdb091.pgm\n",
            "/content/drive/MyDrive/mias 1/pgm_files/mdb082.pgm\n",
            "/content/drive/MyDrive/mias 1/pgm_files/mdb086.pgm\n",
            "/content/drive/MyDrive/mias 1/pgm_files/mdb081.pgm\n",
            "/content/drive/MyDrive/mias 1/pgm_files/mdb084.pgm\n",
            "/content/drive/MyDrive/mias 1/pgm_files/mdb080.pgm\n",
            "/content/drive/MyDrive/mias 1/pgm_files/mdb083.pgm\n",
            "/content/drive/MyDrive/mias 1/pgm_files/mdb090.pgm\n",
            "/content/drive/MyDrive/mias 1/pgm_files/mdb079.pgm\n",
            "/content/drive/MyDrive/mias 1/pgm_files/mdb077.pgm\n",
            "/content/drive/MyDrive/mias 1/pgm_files/mdb094.pgm\n",
            "/content/drive/MyDrive/mias 1/pgm_files/mdb089.pgm\n",
            "/content/drive/MyDrive/mias 1/pgm_files/mdb093.pgm\n",
            "/content/drive/MyDrive/mias 1/pgm_files/mdb104.pgm\n",
            "/content/drive/MyDrive/mias 1/pgm_files/mdb111.pgm\n",
            "/content/drive/MyDrive/mias 1/pgm_files/mdb097.pgm\n",
            "/content/drive/MyDrive/mias 1/pgm_files/mdb109.pgm\n",
            "/content/drive/MyDrive/mias 1/pgm_files/mdb114.pgm\n",
            "/content/drive/MyDrive/mias 1/pgm_files/mdb100.pgm\n",
            "/content/drive/MyDrive/mias 1/pgm_files/mdb105.pgm\n",
            "/content/drive/MyDrive/mias 1/pgm_files/mdb101.pgm\n",
            "/content/drive/MyDrive/mias 1/pgm_files/mdb102.pgm\n",
            "/content/drive/MyDrive/mias 1/pgm_files/mdb115.pgm\n",
            "/content/drive/MyDrive/mias 1/pgm_files/mdb099.pgm\n",
            "/content/drive/MyDrive/mias 1/pgm_files/mdb110.pgm\n",
            "/content/drive/MyDrive/mias 1/pgm_files/mdb108.pgm\n",
            "/content/drive/MyDrive/mias 1/pgm_files/mdb096.pgm\n",
            "/content/drive/MyDrive/mias 1/pgm_files/mdb103.pgm\n",
            "/content/drive/MyDrive/mias 1/pgm_files/mdb095.pgm\n",
            "/content/drive/MyDrive/mias 1/pgm_files/mdb098.pgm\n",
            "/content/drive/MyDrive/mias 1/pgm_files/mdb106.pgm\n",
            "/content/drive/MyDrive/mias 1/pgm_files/mdb112.pgm\n",
            "/content/drive/MyDrive/mias 1/pgm_files/mdb107.pgm\n",
            "/content/drive/MyDrive/mias 1/pgm_files/mdb113.pgm\n",
            "/content/drive/MyDrive/mias 1/pgm_files/mdb118.pgm\n",
            "/content/drive/MyDrive/mias 1/pgm_files/mdb119.pgm\n",
            "/content/drive/MyDrive/mias 1/pgm_files/mdb120.pgm\n",
            "/content/drive/MyDrive/mias 1/pgm_files/mdb116.pgm\n",
            "/content/drive/MyDrive/mias 1/pgm_files/mdb117.pgm\n",
            "/content/drive/MyDrive/mias 1/pgm_files/mdb122.pgm\n",
            "/content/drive/MyDrive/mias 1/pgm_files/mdb126.pgm\n",
            "/content/drive/MyDrive/mias 1/pgm_files/mdb123.pgm\n",
            "/content/drive/MyDrive/mias 1/pgm_files/mdb124.pgm\n",
            "/content/drive/MyDrive/mias 1/pgm_files/mdb125.pgm\n",
            "/content/drive/MyDrive/mias 1/pgm_files/mdb127.pgm\n",
            "/content/drive/MyDrive/mias 1/pgm_files/mdb130.pgm\n",
            "/content/drive/MyDrive/mias 1/pgm_files/mdb131.pgm\n",
            "/content/drive/MyDrive/mias 1/pgm_files/mdb128.pgm\n",
            "/content/drive/MyDrive/mias 1/pgm_files/mdb129.pgm\n",
            "/content/drive/MyDrive/mias 1/pgm_files/mdb121.pgm\n",
            "/content/drive/MyDrive/mias 1/pgm_files/mdb143.pgm\n",
            "/content/drive/MyDrive/mias 1/pgm_files/mdb144.pgm\n",
            "/content/drive/MyDrive/mias 1/pgm_files/mdb133.pgm\n",
            "/content/drive/MyDrive/mias 1/pgm_files/mdb142.pgm\n",
            "/content/drive/MyDrive/mias 1/pgm_files/mdb139.pgm\n",
            "/content/drive/MyDrive/mias 1/pgm_files/mdb140.pgm\n",
            "/content/drive/MyDrive/mias 1/pgm_files/mdb134.pgm\n",
            "/content/drive/MyDrive/mias 1/pgm_files/mdb145.pgm\n",
            "/content/drive/MyDrive/mias 1/pgm_files/mdb141.pgm\n",
            "/content/drive/MyDrive/mias 1/pgm_files/mdb138.pgm\n",
            "/content/drive/MyDrive/mias 1/pgm_files/mdb137.pgm\n",
            "/content/drive/MyDrive/mias 1/pgm_files/mdb132.pgm\n",
            "/content/drive/MyDrive/mias 1/pgm_files/mdb135.pgm\n",
            "/content/drive/MyDrive/mias 1/pgm_files/mdb146.pgm\n",
            "/content/drive/MyDrive/mias 1/pgm_files/mdb136.pgm\n",
            "/content/drive/MyDrive/mias 1/pgm_files/mdb147.pgm\n",
            "/content/drive/MyDrive/mias 1/pgm_files/mdb166.pgm\n",
            "/content/drive/MyDrive/mias 1/pgm_files/mdb170.pgm\n",
            "/content/drive/MyDrive/mias 1/pgm_files/mdb152.pgm\n",
            "/content/drive/MyDrive/mias 1/pgm_files/mdb154.pgm\n",
            "/content/drive/MyDrive/mias 1/pgm_files/mdb164.pgm\n",
            "/content/drive/MyDrive/mias 1/pgm_files/mdb169.pgm\n",
            "/content/drive/MyDrive/mias 1/pgm_files/mdb148.pgm\n",
            "/content/drive/MyDrive/mias 1/pgm_files/mdb158.pgm\n",
            "/content/drive/MyDrive/mias 1/pgm_files/mdb162.pgm\n",
            "/content/drive/MyDrive/mias 1/pgm_files/mdb160.pgm\n",
            "/content/drive/MyDrive/mias 1/pgm_files/mdb161.pgm\n",
            "/content/drive/MyDrive/mias 1/pgm_files/mdb155.pgm\n",
            "/content/drive/MyDrive/mias 1/pgm_files/mdb167.pgm\n",
            "/content/drive/MyDrive/mias 1/pgm_files/mdb163.pgm\n",
            "/content/drive/MyDrive/mias 1/pgm_files/mdb150.pgm\n",
            "/content/drive/MyDrive/mias 1/pgm_files/mdb159.pgm\n",
            "/content/drive/MyDrive/mias 1/pgm_files/mdb153.pgm\n",
            "/content/drive/MyDrive/mias 1/pgm_files/mdb156.pgm\n",
            "/content/drive/MyDrive/mias 1/pgm_files/mdb168.pgm\n",
            "/content/drive/MyDrive/mias 1/pgm_files/mdb149.pgm\n",
            "/content/drive/MyDrive/mias 1/pgm_files/mdb151.pgm\n",
            "/content/drive/MyDrive/mias 1/pgm_files/mdb157.pgm\n",
            "/content/drive/MyDrive/mias 1/pgm_files/mdb165.pgm\n",
            "/content/drive/MyDrive/mias 1/pgm_files/mdb180.pgm\n",
            "/content/drive/MyDrive/mias 1/pgm_files/mdb174.pgm\n",
            "/content/drive/MyDrive/mias 1/pgm_files/mdb185.pgm\n",
            "/content/drive/MyDrive/mias 1/pgm_files/mdb188.pgm\n",
            "/content/drive/MyDrive/mias 1/pgm_files/mdb172.pgm\n",
            "/content/drive/MyDrive/mias 1/pgm_files/mdb181.pgm\n",
            "/content/drive/MyDrive/mias 1/pgm_files/mdb178.pgm\n",
            "/content/drive/MyDrive/mias 1/pgm_files/mdb173.pgm\n",
            "/content/drive/MyDrive/mias 1/pgm_files/mdb184.pgm\n",
            "/content/drive/MyDrive/mias 1/pgm_files/mdb182.pgm\n",
            "/content/drive/MyDrive/mias 1/pgm_files/mdb183.pgm\n",
            "/content/drive/MyDrive/mias 1/pgm_files/mdb186.pgm\n",
            "/content/drive/MyDrive/mias 1/pgm_files/mdb175.pgm\n",
            "/content/drive/MyDrive/mias 1/pgm_files/mdb189.pgm\n",
            "/content/drive/MyDrive/mias 1/pgm_files/mdb179.pgm\n",
            "/content/drive/MyDrive/mias 1/pgm_files/mdb171.pgm\n",
            "/content/drive/MyDrive/mias 1/pgm_files/mdb187.pgm\n",
            "/content/drive/MyDrive/mias 1/pgm_files/mdb190.pgm\n",
            "/content/drive/MyDrive/mias 1/pgm_files/mdb176.pgm\n",
            "/content/drive/MyDrive/mias 1/pgm_files/mdb177.pgm\n",
            "/content/drive/MyDrive/mias 1/pgm_files/mdb194.pgm\n",
            "/content/drive/MyDrive/mias 1/pgm_files/mdb197.pgm\n",
            "/content/drive/MyDrive/mias 1/pgm_files/mdb198.pgm\n",
            "/content/drive/MyDrive/mias 1/pgm_files/mdb195.pgm\n",
            "/content/drive/MyDrive/mias 1/pgm_files/mdb193.pgm\n",
            "/content/drive/MyDrive/mias 1/pgm_files/mdb192.pgm\n",
            "/content/drive/MyDrive/mias 1/pgm_files/mdb196.pgm\n",
            "/content/drive/MyDrive/mias 1/pgm_files/mdb199.pgm\n",
            "/content/drive/MyDrive/mias 1/pgm_files/mdb191.pgm\n",
            "/content/drive/MyDrive/mias 1/pgm_files/mdb202.pgm\n",
            "/content/drive/MyDrive/mias 1/pgm_files/mdb201.pgm\n",
            "/content/drive/MyDrive/mias 1/pgm_files/mdb209.pgm\n",
            "/content/drive/MyDrive/mias 1/pgm_files/mdb207.pgm\n",
            "/content/drive/MyDrive/mias 1/pgm_files/mdb205.pgm\n",
            "/content/drive/MyDrive/mias 1/pgm_files/mdb208.pgm\n",
            "/content/drive/MyDrive/mias 1/pgm_files/mdb211.pgm\n",
            "/content/drive/MyDrive/mias 1/pgm_files/mdb204.pgm\n",
            "/content/drive/MyDrive/mias 1/pgm_files/mdb210.pgm\n",
            "/content/drive/MyDrive/mias 1/pgm_files/mdb200.pgm\n",
            "/content/drive/MyDrive/mias 1/pgm_files/mdb206.pgm\n",
            "/content/drive/MyDrive/mias 1/pgm_files/mdb203.pgm\n",
            "/content/drive/MyDrive/mias 1/pgm_files/mdb221.pgm\n",
            "/content/drive/MyDrive/mias 1/pgm_files/mdb229.pgm\n",
            "/content/drive/MyDrive/mias 1/pgm_files/mdb215.pgm\n",
            "/content/drive/MyDrive/mias 1/pgm_files/mdb233.pgm\n",
            "/content/drive/MyDrive/mias 1/pgm_files/mdb234.pgm\n",
            "/content/drive/MyDrive/mias 1/pgm_files/mdb212.pgm\n",
            "/content/drive/MyDrive/mias 1/pgm_files/mdb223.pgm\n",
            "/content/drive/MyDrive/mias 1/pgm_files/mdb217.pgm\n",
            "/content/drive/MyDrive/mias 1/pgm_files/mdb219.pgm\n",
            "/content/drive/MyDrive/mias 1/pgm_files/mdb225.pgm\n",
            "/content/drive/MyDrive/mias 1/pgm_files/mdb214.pgm\n",
            "/content/drive/MyDrive/mias 1/pgm_files/mdb224.pgm\n",
            "/content/drive/MyDrive/mias 1/pgm_files/mdb216.pgm\n",
            "/content/drive/MyDrive/mias 1/pgm_files/mdb220.pgm\n",
            "/content/drive/MyDrive/mias 1/pgm_files/mdb222.pgm\n",
            "/content/drive/MyDrive/mias 1/pgm_files/mdb227.pgm\n",
            "/content/drive/MyDrive/mias 1/pgm_files/mdb230.pgm\n",
            "/content/drive/MyDrive/mias 1/pgm_files/mdb228.pgm\n",
            "/content/drive/MyDrive/mias 1/pgm_files/mdb213.pgm\n",
            "/content/drive/MyDrive/mias 1/pgm_files/mdb226.pgm\n",
            "/content/drive/MyDrive/mias 1/pgm_files/mdb218.pgm\n",
            "/content/drive/MyDrive/mias 1/pgm_files/mdb232.pgm\n",
            "/content/drive/MyDrive/mias 1/pgm_files/mdb231.pgm\n",
            "/content/drive/MyDrive/mias 1/pgm_files/mdb247.pgm\n",
            "/content/drive/MyDrive/mias 1/pgm_files/mdb248.pgm\n",
            "/content/drive/MyDrive/mias 1/pgm_files/mdb250.pgm\n",
            "/content/drive/MyDrive/mias 1/pgm_files/mdb236.pgm\n",
            "/content/drive/MyDrive/mias 1/pgm_files/mdb256.pgm\n",
            "/content/drive/MyDrive/mias 1/pgm_files/mdb237.pgm\n",
            "/content/drive/MyDrive/mias 1/pgm_files/mdb245.pgm\n",
            "/content/drive/MyDrive/mias 1/pgm_files/mdb235.pgm\n",
            "/content/drive/MyDrive/mias 1/pgm_files/mdb242.pgm\n",
            "/content/drive/MyDrive/mias 1/pgm_files/mdb252.pgm\n",
            "/content/drive/MyDrive/mias 1/pgm_files/mdb258.pgm\n",
            "/content/drive/MyDrive/mias 1/pgm_files/mdb239.pgm\n",
            "/content/drive/MyDrive/mias 1/pgm_files/mdb240.pgm\n",
            "/content/drive/MyDrive/mias 1/pgm_files/mdb249.pgm\n",
            "/content/drive/MyDrive/mias 1/pgm_files/mdb241.pgm\n",
            "/content/drive/MyDrive/mias 1/pgm_files/mdb238.pgm\n",
            "/content/drive/MyDrive/mias 1/pgm_files/mdb257.pgm\n",
            "/content/drive/MyDrive/mias 1/pgm_files/mdb255.pgm\n",
            "/content/drive/MyDrive/mias 1/pgm_files/mdb254.pgm\n",
            "/content/drive/MyDrive/mias 1/pgm_files/mdb244.pgm\n",
            "/content/drive/MyDrive/mias 1/pgm_files/mdb246.pgm\n",
            "/content/drive/MyDrive/mias 1/pgm_files/mdb251.pgm\n",
            "/content/drive/MyDrive/mias 1/pgm_files/mdb243.pgm\n",
            "/content/drive/MyDrive/mias 1/pgm_files/mdb253.pgm\n",
            "/content/drive/MyDrive/mias 1/pgm_files/mdb262.pgm\n",
            "/content/drive/MyDrive/mias 1/pgm_files/mdb259.pgm\n",
            "/content/drive/MyDrive/mias 1/pgm_files/mdb261.pgm\n",
            "/content/drive/MyDrive/mias 1/pgm_files/mdb265.pgm\n",
            "/content/drive/MyDrive/mias 1/pgm_files/mdb264.pgm\n",
            "/content/drive/MyDrive/mias 1/pgm_files/mdb266.pgm\n",
            "/content/drive/MyDrive/mias 1/pgm_files/mdb263.pgm\n",
            "/content/drive/MyDrive/mias 1/pgm_files/mdb267.pgm\n",
            "/content/drive/MyDrive/mias 1/pgm_files/mdb268.pgm\n",
            "/content/drive/MyDrive/mias 1/pgm_files/mdb260.pgm\n",
            "/content/drive/MyDrive/mias 1/pgm_files/mdb275.pgm\n",
            "/content/drive/MyDrive/mias 1/pgm_files/mdb284.pgm\n",
            "/content/drive/MyDrive/mias 1/pgm_files/mdb286.pgm\n",
            "/content/drive/MyDrive/mias 1/pgm_files/mdb282.pgm\n",
            "/content/drive/MyDrive/mias 1/pgm_files/mdb283.pgm\n",
            "/content/drive/MyDrive/mias 1/pgm_files/mdb278.pgm\n",
            "/content/drive/MyDrive/mias 1/pgm_files/mdb281.pgm\n",
            "/content/drive/MyDrive/mias 1/pgm_files/mdb277.pgm\n",
            "/content/drive/MyDrive/mias 1/pgm_files/mdb285.pgm\n",
            "/content/drive/MyDrive/mias 1/pgm_files/mdb276.pgm\n",
            "/content/drive/MyDrive/mias 1/pgm_files/mdb279.pgm\n",
            "/content/drive/MyDrive/mias 1/pgm_files/mdb270.pgm\n",
            "/content/drive/MyDrive/mias 1/pgm_files/mdb273.pgm\n",
            "/content/drive/MyDrive/mias 1/pgm_files/mdb269.pgm\n",
            "/content/drive/MyDrive/mias 1/pgm_files/mdb280.pgm\n",
            "/content/drive/MyDrive/mias 1/pgm_files/mdb271.pgm\n",
            "/content/drive/MyDrive/mias 1/pgm_files/mdb274.pgm\n",
            "/content/drive/MyDrive/mias 1/pgm_files/mdb272.pgm\n",
            "/content/drive/MyDrive/mias 1/pgm_files/mdb296.pgm\n",
            "/content/drive/MyDrive/mias 1/pgm_files/mdb290.pgm\n",
            "/content/drive/MyDrive/mias 1/pgm_files/mdb297.pgm\n",
            "/content/drive/MyDrive/mias 1/pgm_files/mdb300.pgm\n",
            "/content/drive/MyDrive/mias 1/pgm_files/mdb301.pgm\n",
            "/content/drive/MyDrive/mias 1/pgm_files/mdb299.pgm\n",
            "/content/drive/MyDrive/mias 1/pgm_files/mdb288.pgm\n",
            "/content/drive/MyDrive/mias 1/pgm_files/mdb295.pgm\n",
            "/content/drive/MyDrive/mias 1/pgm_files/mdb293.pgm\n",
            "/content/drive/MyDrive/mias 1/pgm_files/mdb292.pgm\n",
            "/content/drive/MyDrive/mias 1/pgm_files/mdb294.pgm\n",
            "/content/drive/MyDrive/mias 1/pgm_files/mdb287.pgm\n",
            "/content/drive/MyDrive/mias 1/pgm_files/mdb298.pgm\n",
            "/content/drive/MyDrive/mias 1/pgm_files/mdb289.pgm\n",
            "/content/drive/MyDrive/mias 1/pgm_files/mdb291.pgm\n",
            "/content/drive/MyDrive/mias 1/pgm_files/mdb307.pgm\n",
            "/content/drive/MyDrive/mias 1/pgm_files/mdb314.pgm\n",
            "/content/drive/MyDrive/mias 1/pgm_files/mdb310.pgm\n",
            "/content/drive/MyDrive/mias 1/pgm_files/mdb306.pgm\n",
            "/content/drive/MyDrive/mias 1/pgm_files/mdb309.pgm\n",
            "/content/drive/MyDrive/mias 1/pgm_files/mdb319.pgm\n",
            "/content/drive/MyDrive/mias 1/pgm_files/mdb302.pgm\n",
            "/content/drive/MyDrive/mias 1/pgm_files/mdb305.pgm\n",
            "/content/drive/MyDrive/mias 1/pgm_files/mdb321.pgm\n",
            "/content/drive/MyDrive/mias 1/pgm_files/mdb318.pgm\n",
            "/content/drive/MyDrive/mias 1/pgm_files/mdb308.pgm\n",
            "/content/drive/MyDrive/mias 1/pgm_files/mdb322.pgm\n",
            "/content/drive/MyDrive/mias 1/pgm_files/mdb311.pgm\n",
            "/content/drive/MyDrive/mias 1/pgm_files/mdb312.pgm\n",
            "/content/drive/MyDrive/mias 1/pgm_files/mdb316.pgm\n",
            "/content/drive/MyDrive/mias 1/pgm_files/mdb304.pgm\n",
            "/content/drive/MyDrive/mias 1/pgm_files/mdb317.pgm\n",
            "/content/drive/MyDrive/mias 1/pgm_files/mdb315.pgm\n",
            "/content/drive/MyDrive/mias 1/pgm_files/mdb303.pgm\n",
            "/content/drive/MyDrive/mias 1/pgm_files/mdb320.pgm\n",
            "/content/drive/MyDrive/mias 1/pgm_files/mdb313.pgm\n"
          ]
        },
        {
          "output_type": "execute_result",
          "data": {
            "text/plain": [
              "<matplotlib.image.AxesImage at 0x7f084384bc10>"
            ]
          },
          "metadata": {},
          "execution_count": 45
        },
        {
          "output_type": "display_data",
          "data": {
            "text/plain": [
              "<Figure size 432x288 with 1 Axes>"
            ],
            "image/png": "[encoded data removed]"
          },
          "metadata": {
            "needs_background": "light"
          }
        }
      ]
    },
    {
      "cell_type": "code",
      "source": [
        "plt.imshow(my_list[50])"
      ],
      "metadata": {
        "colab": {
          "base_uri": "https://localhost:8080/",
          "height": 287
        },
        "id": "qoh940IgAF1k",
        "outputId": "6e342ced-8df1-4e6b-aa37-0ad17ccae9f9"
      },
      "execution_count": null,
      "outputs": [
        {
          "output_type": "execute_result",
          "data": {
            "text/plain": [
              "<matplotlib.image.AxesImage at 0x7f0850e29310>"
            ]
          },
          "metadata": {},
          "execution_count": 46
        },
        {
          "output_type": "display_data",
          "data": {
            "text/plain": [
              "<Figure size 432x288 with 1 Axes>"
            ],
            "image/png": "[encoded data removed]"
          },
          "metadata": {
            "needs_background": "light"
          }
        }
      ]
    },
    {
      "cell_type": "code",
      "source": [
        "plt.imshow(my_list[100])"
      ],
      "metadata": {
        "colab": {
          "base_uri": "https://localhost:8080/",
          "height": 287
        },
        "id": "UcciajWmAMxg",
        "outputId": "4d9e01bc-a1ec-4925-c174-9b744cb812a9"
      },
      "execution_count": null,
      "outputs": [
        {
          "output_type": "execute_result",
          "data": {
            "text/plain": [
              "<matplotlib.image.AxesImage at 0x7f08437d7a50>"
            ]
          },
          "metadata": {},
          "execution_count": 47
        },
        {
          "output_type": "display_data",
          "data": {
            "text/plain": [
              "<Figure size 432x288 with 1 Axes>"
            ],
            "image/png": "[encoded data removed]"
          },
          "metadata": {
            "needs_background": "light"
          }
        }
      ]
    },
    {
      "cell_type": "code",
      "source": [
        "# percentages by class\n",
        "df1['ab_class'].value_counts(normalize=True)"
      ],
      "metadata": {
        "colab": {
          "base_uri": "https://localhost:8080/"
        },
        "id": "n8OAav-aOrdd",
        "outputId": "8ee7dbcc-4041-4f6a-9497-4e60857d52e8"
      },
      "execution_count": null,
      "outputs": [
        {
          "output_type": "execute_result",
          "data": {
            "text/plain": [
              "CALC    0.245902\n",
              "CIRC    0.196721\n",
              "ARCH    0.155738\n",
              "SPIC    0.155738\n",
              "MISC    0.122951\n",
              "ASYM    0.122951\n",
              "Name: ab_class, dtype: float64"
            ]
          },
          "metadata": {},
          "execution_count": 48
        }
      ]
    },
    {
      "cell_type": "code",
      "source": [
        "# percentages by type\n",
        "df1['ab_severity'].value_counts(normalize=True)\n"
      ],
      "metadata": {
        "colab": {
          "base_uri": "https://localhost:8080/"
        },
        "id": "m1aFWFmEO5ZJ",
        "outputId": "c95787d5-e61b-44b4-e22e-e76a314f6f6f"
      },
      "execution_count": null,
      "outputs": [
        {
          "output_type": "execute_result",
          "data": {
            "text/plain": [
              "B    0.557377\n",
              "M    0.442623\n",
              "Name: ab_severity, dtype: float64"
            ]
          },
          "metadata": {},
          "execution_count": 52
        }
      ]
    },
    {
      "cell_type": "code",
      "source": [
        "# info on the size of the abnormalities\n",
        "import statistics as st\n",
        "print(\"Mean abnormality radius:\",st.mean(df1.radius_ab))\n",
        "print(\"Median abnormality radius:\",st.median(df1.radius_ab))\n",
        "print(\"Min abnormality radius:\",min(df1.radius_ab))\n",
        "print(\"Max abnormality radius:\",max(df1.radius_ab))"
      ],
      "metadata": {
        "colab": {
          "base_uri": "https://localhost:8080/"
        },
        "id": "DVkR4rdRPUZu",
        "outputId": "c449f12c-8ca6-49e8-ef58-0f22bedd1cda"
      },
      "execution_count": null,
      "outputs": [
        {
          "output_type": "stream",
          "name": "stdout",
          "text": [
            "Mean abnormality radius: 60.4344262295082\n",
            "Median abnormality radius: 42.5\n",
            "Min abnormality radius: 3\n",
            "Max abnormality radius: 520\n"
          ]
        }
      ]
    },
    {
      "cell_type": "code",
      "source": [
        "df1.reset_index(inplace = True)\n",
        "df1.shape\n",
        "df1"
      ],
      "metadata": {
        "colab": {
          "base_uri": "https://localhost:8080/",
          "height": 423
        },
        "id": "cGnGSYDmxuqG",
        "outputId": "35c1e0ae-3871-40d6-fac0-4ebd3c80eef7"
      },
      "execution_count": null,
      "outputs": [
        {
          "output_type": "execute_result",
          "data": {
            "text/plain": [
              "     index ref_num bg_tissue ab_class ab_severity  x_center_ab  y_center_ab  \\\n",
              "0        0  mdb001         G     CIRC           B          535          425   \n",
              "1        1  mdb002         G     CIRC           B          522          280   \n",
              "2        4  mdb005         F     CIRC           B          477          133   \n",
              "3        5  mdb005         F     CIRC           B          500          168   \n",
              "4       10  mdb010         F     CIRC           B          525          425   \n",
              "..     ...     ...       ...      ...         ...          ...          ...   \n",
              "117    281  mdb274         F     MISC           M          127          505   \n",
              "118    297  mdb290         D     CIRC           B          337          353   \n",
              "119    319  mdb312         F     MISC           B          240          263   \n",
              "120    321  mdb314         F     MISC           B          518          191   \n",
              "121    322  mdb315         D     CIRC           B          516          447   \n",
              "\n",
              "     radius_ab  \n",
              "0          197  \n",
              "1           69  \n",
              "2           30  \n",
              "3           26  \n",
              "4           33  \n",
              "..         ...  \n",
              "117        123  \n",
              "118         45  \n",
              "119         20  \n",
              "120         39  \n",
              "121         93  \n",
              "\n",
              "[122 rows x 8 columns]"
            ],
            "text/html": [
              "\n",
              "  <div id=\"df-259925bb-43de-4646-934c-5f5a696e8580\">\n",
              "    <div class=\"colab-df-container\">\n",
              "      <div>\n",
              "<style scoped>\n",
              "    .dataframe tbody tr th:only-of-type {\n",
              "        vertical-align: middle;\n",
              "    }\n",
              "\n",
              "    .dataframe tbody tr th {\n",
              "        vertical-align: top;\n",
              "    }\n",
              "\n",
              "    .dataframe thead th {\n",
              "        text-align: right;\n",
              "    }\n",
              "</style>\n",
              "<table border=\"1\" class=\"dataframe\">\n",
              "  <thead>\n",
              "    <tr style=\"text-align: right;\">\n",
              "      <th></th>\n",
              "      <th>index</th>\n",
              "      <th>ref_num</th>\n",
              "      <th>bg_tissue</th>\n",
              "      <th>ab_class</th>\n",
              "      <th>ab_severity</th>\n",
              "      <th>x_center_ab</th>\n",
              "      <th>y_center_ab</th>\n",
              "      <th>radius_ab</th>\n",
              "    </tr>\n",
              "  </thead>\n",
              "  <tbody>\n",
              "    <tr>\n",
              "      <th>0</th>\n",
              "      <td>0</td>\n",
              "      <td>mdb001</td>\n",
              "      <td>G</td>\n",
              "      <td>CIRC</td>\n",
              "      <td>B</td>\n",
              "      <td>535</td>\n",
              "      <td>425</td>\n",
              "      <td>197</td>\n",
              "    </tr>\n",
              "    <tr>\n",
              "      <th>1</th>\n",
              "      <td>1</td>\n",
              "      <td>mdb002</td>\n",
              "      <td>G</td>\n",
              "      <td>CIRC</td>\n",
              "      <td>B</td>\n",
              "      <td>522</td>\n",
              "      <td>280</td>\n",
              "      <td>69</td>\n",
              "    </tr>\n",
              "    <tr>\n",
              "      <th>2</th>\n",
              "      <td>4</td>\n",
              "      <td>mdb005</td>\n",
              "      <td>F</td>\n",
              "      <td>CIRC</td>\n",
              "      <td>B</td>\n",
              "      <td>477</td>\n",
              "      <td>133</td>\n",
              "      <td>30</td>\n",
              "    </tr>\n",
              "    <tr>\n",
              "      <th>3</th>\n",
              "      <td>5</td>\n",
              "      <td>mdb005</td>\n",
              "      <td>F</td>\n",
              "      <td>CIRC</td>\n",
              "      <td>B</td>\n",
              "      <td>500</td>\n",
              "      <td>168</td>\n",
              "      <td>26</td>\n",
              "    </tr>\n",
              "    <tr>\n",
              "      <th>4</th>\n",
              "      <td>10</td>\n",
              "      <td>mdb010</td>\n",
              "      <td>F</td>\n",
              "      <td>CIRC</td>\n",
              "      <td>B</td>\n",
              "      <td>525</td>\n",
              "      <td>425</td>\n",
              "      <td>33</td>\n",
              "    </tr>\n",
              "    <tr>\n",
              "      <th>...</th>\n",
              "      <td>...</td>\n",
              "      <td>...</td>\n",
              "      <td>...</td>\n",
              "      <td>...</td>\n",
              "      <td>...</td>\n",
              "      <td>...</td>\n",
              "      <td>...</td>\n",
              "      <td>...</td>\n",
              "    </tr>\n",
              "    <tr>\n",
              "      <th>117</th>\n",
              "      <td>281</td>\n",
              "      <td>mdb274</td>\n",
              "      <td>F</td>\n",
              "      <td>MISC</td>\n",
              "      <td>M</td>\n",
              "      <td>127</td>\n",
              "      <td>505</td>\n",
              "      <td>123</td>\n",
              "    </tr>\n",
              "    <tr>\n",
              "      <th>118</th>\n",
              "      <td>297</td>\n",
              "      <td>mdb290</td>\n",
              "      <td>D</td>\n",
              "      <td>CIRC</td>\n",
              "      <td>B</td>\n",
              "      <td>337</td>\n",
              "      <td>353</td>\n",
              "      <td>45</td>\n",
              "    </tr>\n",
              "    <tr>\n",
              "      <th>119</th>\n",
              "      <td>319</td>\n",
              "      <td>mdb312</td>\n",
              "      <td>F</td>\n",
              "      <td>MISC</td>\n",
              "      <td>B</td>\n",
              "      <td>240</td>\n",
              "      <td>263</td>\n",
              "      <td>20</td>\n",
              "    </tr>\n",
              "    <tr>\n",
              "      <th>120</th>\n",
              "      <td>321</td>\n",
              "      <td>mdb314</td>\n",
              "      <td>F</td>\n",
              "      <td>MISC</td>\n",
              "      <td>B</td>\n",
              "      <td>518</td>\n",
              "      <td>191</td>\n",
              "      <td>39</td>\n",
              "    </tr>\n",
              "    <tr>\n",
              "      <th>121</th>\n",
              "      <td>322</td>\n",
              "      <td>mdb315</td>\n",
              "      <td>D</td>\n",
              "      <td>CIRC</td>\n",
              "      <td>B</td>\n",
              "      <td>516</td>\n",
              "      <td>447</td>\n",
              "      <td>93</td>\n",
              "    </tr>\n",
              "  </tbody>\n",
              "</table>\n",
              "<p>122 rows × 8 columns</p>\n",
              "</div>\n",
              "      <button class=\"colab-df-convert\" onclick=\"convertToInteractive('df-259925bb-43de-4646-934c-5f5a696e8580')\"\n",
              "              title=\"Convert this dataframe to an interactive table.\"\n",
              "              style=\"display:none;\">\n",
              "        \n",
              "  <svg xmlns=\"http://www.w3.org/2000/svg\" height=\"24px\"viewBox=\"0 0 24 24\"\n",
              "       width=\"24px\">\n",
              "    <path d=\"M0 0h24v24H0V0z\" fill=\"none\"/>\n",
              "    <path d=\"M18.56 5.44l.94 2.06.94-2.06 2.06-.94-2.06-.94-.94-2.06-.94 2.06-2.06.94zm-11 1L8.5 8.5l.94-2.06 2.06-.94-2.06-.94L8.5 2.5l-.94 2.06-2.06.94zm10 10l.94 2.06.94-2.06 2.06-.94-2.06-.94-.94-2.06-.94 2.06-2.06.94z\"/><path d=\"M17.41 7.96l-1.37-1.37c-.4-.4-.92-.59-1.43-.59-.52 0-1.04.2-1.43.59L10.3 9.45l-7.72 7.72c-.78.78-.78 2.05 0 2.83L4 21.41c.39.39.9.59 1.41.59.51 0 1.02-.2 1.41-.59l7.78-7.78 2.81-2.81c.8-.78.8-2.07 0-2.86zM5.41 20L4 18.59l7.72-7.72 1.47 1.35L5.41 20z\"/>\n",
              "  </svg>\n",
              "      </button>\n",
              "      \n",
              "  <style>\n",
              "    .colab-df-container {\n",
              "      display:flex;\n",
              "      flex-wrap:wrap;\n",
              "      gap: 12px;\n",
              "    }\n",
              "\n",
              "    .colab-df-convert {\n",
              "      background-color: #E8F0FE;\n",
              "      border: none;\n",
              "      border-radius: 50%;\n",
              "      cursor: pointer;\n",
              "      display: none;\n",
              "      fill: #1967D2;\n",
              "      height: 32px;\n",
              "      padding: 0 0 0 0;\n",
              "      width: 32px;\n",
              "    }\n",
              "\n",
              "    .colab-df-convert:hover {\n",
              "      background-color: #E2EBFA;\n",
              "      box-shadow: 0px 1px 2px rgba(60, 64, 67, 0.3), 0px 1px 3px 1px rgba(60, 64, 67, 0.15);\n",
              "      fill: #174EA6;\n",
              "    }\n",
              "\n",
              "    [theme=dark] .colab-df-convert {\n",
              "      background-color: #3B4455;\n",
              "      fill: #D2E3FC;\n",
              "    }\n",
              "\n",
              "    [theme=dark] .colab-df-convert:hover {\n",
              "      background-color: #434B5C;\n",
              "      box-shadow: 0px 1px 3px 1px rgba(0, 0, 0, 0.15);\n",
              "      filter: drop-shadow(0px 1px 2px rgba(0, 0, 0, 0.3));\n",
              "      fill: #FFFFFF;\n",
              "    }\n",
              "  </style>\n",
              "\n",
              "      <script>\n",
              "        const buttonEl =\n",
              "          document.querySelector('#df-259925bb-43de-4646-934c-5f5a696e8580 button.colab-df-convert');\n",
              "        buttonEl.style.display =\n",
              "          google.colab.kernel.accessAllowed ? 'block' : 'none';\n",
              "\n",
              "        async function convertToInteractive(key) {\n",
              "          const element = document.querySelector('#df-259925bb-43de-4646-934c-5f5a696e8580');\n",
              "          const dataTable =\n",
              "            await google.colab.kernel.invokeFunction('convertToInteractive',\n",
              "                                                     [key], {});\n",
              "          if (!dataTable) return;\n",
              "\n",
              "          const docLinkHtml = 'Like what you see? Visit the ' +\n",
              "            '<a target=\"_blank\" href=https://colab.research.google.com/notebooks/data_table.ipynb>data table notebook</a>'\n",
              "            + ' to learn more about interactive tables.';\n",
              "          element.innerHTML = '';\n",
              "          dataTable['output_type'] = 'display_data';\n",
              "          await google.colab.output.renderOutput(dataTable, element);\n",
              "          const docLink = document.createElement('div');\n",
              "          docLink.innerHTML = docLinkHtml;\n",
              "          element.appendChild(docLink);\n",
              "        }\n",
              "      </script>\n",
              "    </div>\n",
              "  </div>\n",
              "  "
            ]
          },
          "metadata": {},
          "execution_count": 50
        }
      ]
    },
    {
      "cell_type": "code",
      "source": [
        "# taking the images filenames in to dictionary\n",
        "ids = {}\n",
        "for i in range(len(df1)):\n",
        "    ids[i] = df1.ref_num[i]\n",
        "\n",
        "\n"
      ],
      "metadata": {
        "id": "n_ABuq1U9Miv"
      },
      "execution_count": null,
      "outputs": []
    },
    {
      "cell_type": "code",
      "source": [
        "# Turning our outputs B-M to 0-1\n",
        "label = []\n",
        "for i in range(len(df1)):\n",
        "    if df1.ab_severity[i] == 'B':\n",
        "        label.append(0)\n",
        "    else:\n",
        "        label.append(1)"
      ],
      "metadata": {
        "id": "33z_G3YOTb8N"
      },
      "execution_count": null,
      "outputs": []
    },
    {
      "cell_type": "code",
      "source": [
        "label = np.array(label)"
      ],
      "metadata": {
        "id": "IHy_-V1zUJn9"
      },
      "execution_count": null,
      "outputs": []
    },
    {
      "cell_type": "code",
      "source": [
        "label.shape"
      ],
      "metadata": {
        "colab": {
          "base_uri": "https://localhost:8080/"
        },
        "id": "kAGMTZ3RUJwA",
        "outputId": "b0cf8770-5c60-4882-fa4b-1a620958cff0"
      },
      "execution_count": null,
      "outputs": [
        {
          "output_type": "execute_result",
          "data": {
            "text/plain": [
              "(122,)"
            ]
          },
          "metadata": {},
          "execution_count": 54
        }
      ]
    },
    {
      "cell_type": "code",
      "source": [
        "# define the every images filepaths in to list\n",
        "path_img = '/content/drive/MyDrive/mias 1/pgm_files/'\n",
        "img_name = []\n",
        "\n",
        "for i in range(len(label)):\n",
        "        img_name.append(path_img + df1.ref_num[i]+ '.pgm')"
      ],
      "metadata": {
        "id": "S8TmNaQbUqyq"
      },
      "execution_count": null,
      "outputs": []
    },
    {
      "cell_type": "code",
      "source": [
        "img_name = np.array(img_name)"
      ],
      "metadata": {
        "id": "JnNYkn6aUq5v"
      },
      "execution_count": null,
      "outputs": []
    },
    {
      "cell_type": "code",
      "source": [
        "print(type(img_name))"
      ],
      "metadata": {
        "colab": {
          "base_uri": "https://localhost:8080/"
        },
        "id": "illXmwYJfXO8",
        "outputId": "f54bed27-b365-4013-a826-155ae3260e37"
      },
      "execution_count": null,
      "outputs": [
        {
          "output_type": "stream",
          "name": "stdout",
          "text": [
            "<class 'numpy.ndarray'>\n"
          ]
        }
      ]
    },
    {
      "cell_type": "code",
      "source": [],
      "metadata": {
        "id": "JGzw9EyogXFa"
      },
      "execution_count": null,
      "outputs": []
    },
    {
      "cell_type": "code",
      "source": [
        "#print(img_name)\n",
        "print(f'image addres amount {img_name.shape}')"
      ],
      "metadata": {
        "colab": {
          "base_uri": "https://localhost:8080/"
        },
        "id": "mmw1XigIUrOe",
        "outputId": "ca73655d-0c18-43b1-f5bd-2dc536c27d32"
      },
      "execution_count": null,
      "outputs": [
        {
          "output_type": "stream",
          "name": "stdout",
          "text": [
            "image addres amount (122,)\n"
          ]
        }
      ]
    },
    {
      "cell_type": "code",
      "source": [
        "# view image random images\n",
        "import random # for visualization\n",
        "import cv2\n",
        "def view_25_random_image():\n",
        "    fig = plt.figure(figsize = (15, 10))\n",
        "    for i in range(25):\n",
        "        rand = random.randint(0,len(label))\n",
        "        ax = plt.subplot(5, 5, i+1)\n",
        "    \n",
        "        img = cv2.imread(img_name[rand], 0)\n",
        "        img = cv2.resize(img, (256,256)) \n",
        "        if label[rand] == 0:\n",
        "            plt.title('B')\n",
        "        else:\n",
        "            plt.title('M')\n",
        "        plt.tight_layout()\n",
        "        plt.axis('off')\n",
        "        plt.imshow(img)\n",
        "    fig.savefig('random_25_image_fig.png')\n",
        "\n",
        "random_images = view_25_random_image()"
      ],
      "metadata": {
        "id": "7rnqpl7oUrVB",
        "colab": {
          "base_uri": "https://localhost:8080/",
          "height": 712
        },
        "outputId": "a5738023-b532-4da9-e5b2-57751b4125dd"
      },
      "execution_count": null,
      "outputs": [
        {
          "output_type": "display_data",
          "data": {
            "text/plain": [
              "<Figure size 1080x720 with 25 Axes>"
            ],
            "image/png": "[encoded data removed]"
          },
          "metadata": {
            "needs_background": "light"
          }
        }
      ]
    },
    {
      "cell_type": "code",
      "source": [
        "img_path = []\n",
        "last_label = []\n",
        "for i in range(len(img_name)):\n",
        "    \n",
        "    img = cv2.imread(img_name[i], 0)\n",
        "    img = cv2.resize(img, (224,224))\n",
        "    rows, cols= img.shape\n",
        "    for angle in range(180):  ##360\n",
        "            M = cv2.getRotationMatrix2D((cols / 2, rows / 2), angle, 1)    #Rotate 0 degree\n",
        "            img_rotated = cv2.warpAffine(img, M, (224, 224))\n",
        "            img_path.append(img_rotated)\n",
        "            if label[i] == 1:\n",
        "                last_label.append(1)\n",
        "            else:\n",
        "                last_label.append(0)"
      ],
      "metadata": {
        "id": "bfVGgUGjlfWe"
      },
      "execution_count": null,
      "outputs": []
    },
    {
      "cell_type": "code",
      "source": [
        "last_label = np.array(last_label) #y\n",
        "img_path = np.array(img_path) #x"
      ],
      "metadata": {
        "id": "ZW_bqJPLlhrq"
      },
      "execution_count": null,
      "outputs": []
    },
    {
      "cell_type": "code",
      "source": [
        "from keras.models import Sequential\n",
        "from keras.layers import Dense, Dropout, Activation, Conv2D, MaxPool2D, Flatten\n",
        "from keras import optimizers\n",
        "from keras import losses\n",
        "from sklearn import metrics\n",
        "from sklearn.model_selection import train_test_split\n",
        "from tensorflow.keras.layers import AveragePooling2D\n",
        "from tensorflow.keras.callbacks import EarlyStopping, ModelCheckpoint"
      ],
      "metadata": {
        "id": "oFJHRlu-oUn5"
      },
      "execution_count": null,
      "outputs": []
    },
    {
      "cell_type": "code",
      "source": [
        "# split train and test set\n",
        "x_train, x_test, y_train, y_test = train_test_split(img_path, last_label, test_size = 0.2)"
      ],
      "metadata": {
        "id": "6IXOfgFTlhzA"
      },
      "execution_count": null,
      "outputs": []
    },
    {
      "cell_type": "code",
      "source": [
        "#X_train,X_test,y_train,y_test = train_test_split(X,y,test_size =0.2)\n",
        "#len(X_train)-- 80% len(X_test)----20%\n",
        "# data  augmentation should be done only on training data set not on testing dataset/ validation\n",
        "##Image_gernerator\n",
        "#\"from keras.preprocessing.image import ImageDataGenerator, load_img, img_to_array\n",
        "#from PIL import Image\n",
        "#import io\n",
        "#import cv2\n",
        "#datagen = ImageDataGenerator(\n",
        "#    rotation_range=40,\n",
        "#    width_shift_range=0.2,\n",
        "#    height_shift_range=0.2,\n",
        "#    rescale= 1./255,\n",
        " #   shear_range=0.2,\n",
        " #   zoom_range=0.2,\n",
        "#    horizontal_flip=True,\n",
        "#    fill_mode='reflect')\n",
        "\n",
        "#img_path2= []\n",
        "#image_directory = '/content/drive/MyDrive/mias 1/pgm_files'\n",
        "#size = 256\n",
        "\n",
        "#my_images = os.listdir(image_directory)\n",
        "#for i, image_name in enumerate(my_images):\n",
        "#  if (image_name.split('.')[1]=='pgm'):\n",
        "#    image = cv2.imread(image_directory + image_name)\n",
        "#    image = Image.fromarray(image,'RGB')\n",
        "#    image = image.resize((size,size)) \n",
        "#    img_path2.append(np.array(image))\n",
        "\n",
        "#x = np.array(img_path2)\n",
        "\n",
        "#i = 0\n",
        "#for batch in datagen.flow(x, batch_size=16,\n",
        " #                         save_to_dir ='augmented',\n",
        "#                          save_prefix ='aug',\n",
        "  #                        save_format= 'pgm'):\n",
        " # i+= 1\n",
        "#  if i > 20:\n",
        "#    break\"\n",
        "\n",
        "  \n",
        "            \n",
        "\n",
        "    "
      ],
      "metadata": {
        "id": "YeyeZX0ZGrOf"
      },
      "execution_count": null,
      "outputs": []
    },
    {
      "cell_type": "code",
      "source": [
        "len(x_train),len(x_test),len(y_train),len(y_test)"
      ],
      "metadata": {
        "colab": {
          "base_uri": "https://localhost:8080/"
        },
        "id": "UWOfwCoWlh6h",
        "outputId": "9e299ca1-cbd1-4033-9416-33041e882594"
      },
      "execution_count": null,
      "outputs": [
        {
          "output_type": "execute_result",
          "data": {
            "text/plain": [
              "(17568, 4392, 17568, 4392)"
            ]
          },
          "metadata": {},
          "execution_count": 64
        }
      ]
    },
    {
      "cell_type": "code",
      "source": [
        "x_train = np.array(x_train)\n",
        "x_test = np.array(x_test)"
      ],
      "metadata": {
        "id": "VKLd7miwliB4"
      },
      "execution_count": null,
      "outputs": []
    },
    {
      "cell_type": "code",
      "source": [
        "x_train.shape\n"
      ],
      "metadata": {
        "colab": {
          "base_uri": "https://localhost:8080/"
        },
        "id": "1hqkvyMupZUO",
        "outputId": "b9c7af31-25fe-4553-b190-8b23bb0cfe11"
      },
      "execution_count": null,
      "outputs": [
        {
          "output_type": "execute_result",
          "data": {
            "text/plain": [
              "(17568, 224, 224)"
            ]
          },
          "metadata": {},
          "execution_count": 66
        }
      ]
    },
    {
      "cell_type": "code",
      "source": [
        "x_test.shape"
      ],
      "metadata": {
        "colab": {
          "base_uri": "https://localhost:8080/"
        },
        "id": "Ss7lPLzZpZct",
        "outputId": "86025efc-af36-43d0-b10d-5bff0971dcaa"
      },
      "execution_count": null,
      "outputs": [
        {
          "output_type": "execute_result",
          "data": {
            "text/plain": [
              "(4392, 224, 224)"
            ]
          },
          "metadata": {},
          "execution_count": 67
        }
      ]
    },
    {
      "cell_type": "code",
      "source": [
        "(a,b,c)=x_train.shape # (35k, 224, 224) for angle in 360 , 17k for angle in 180\n",
        "x_train = np.reshape(x_train, (a, b, c, 1)) # 1 for gray scale\n",
        "(a, b, c)=x_test.shape\n",
        "x_test = np.reshape(x_test, (a, b, c, 1))"
      ],
      "metadata": {
        "id": "l8nWuagopZjU"
      },
      "execution_count": null,
      "outputs": []
    },
    {
      "cell_type": "markdown",
      "source": [
        "Experimenting with the parameters \n",
        "* increasing the dropout from .25 to .3\n",
        "* adding another Maxpool layer after 1 conv2D layer\n",
        "* increasing filters to 64 from previous 32"
      ],
      "metadata": {
        "id": "JiEKsO0yEToy"
      }
    },
    {
      "cell_type": "code",
      "source": [
        "def create_model():\n",
        "    model = Sequential()\n",
        "    model.add(Conv2D(64, kernel_size=(3, 3),activation='relu',input_shape=(224, 224, 1)))\n",
        "    model.add(MaxPool2D(pool_size=(2, 2)))\n",
        "    model.add(Conv2D(64, kernel_size=(3,3),activation='relu'))\n",
        "\n",
        "    model.add(MaxPool2D(pool_size=(2, 2)))\n",
        "    model.add(Dropout(0.3))\n",
        "\n",
        "    model.add(Conv2D(64, kernel_size=(3,3),activation='relu'))\n",
        "    model.add(MaxPool2D(pool_size=(2, 2)))\n",
        "    model.add(Dropout(0.3))\n",
        "\n",
        "    model.add(Dense(64, activation='relu'))\n",
        "    model.add(Dropout(0.3))\n",
        "    model.add(Flatten())\n",
        "    model.add(Dense(1, activation='sigmoid'))\n",
        "    return model"
      ],
      "metadata": {
        "id": "S43tFqbzpZqP"
      },
      "execution_count": null,
      "outputs": []
    },
    {
      "cell_type": "code",
      "source": [
        "model = create_model()\n",
        "model.summary()"
      ],
      "metadata": {
        "colab": {
          "base_uri": "https://localhost:8080/"
        },
        "id": "uC9AtQp0q15e",
        "outputId": "ebd1b6d4-52b5-4e80-cdb3-317e3bda74c7"
      },
      "execution_count": null,
      "outputs": [
        {
          "output_type": "stream",
          "name": "stdout",
          "text": [
            "Model: \"sequential\"\n",
            "_________________________________________________________________\n",
            " Layer (type)                Output Shape              Param #   \n",
            "=================================================================\n",
            " conv2d (Conv2D)             (None, 222, 222, 64)      640       \n",
            "                                                                 \n",
            " max_pooling2d (MaxPooling2D  (None, 111, 111, 64)     0         \n",
            " )                                                               \n",
            "                                                                 \n",
            " conv2d_1 (Conv2D)           (None, 109, 109, 64)      36928     \n",
            "                                                                 \n",
            " max_pooling2d_1 (MaxPooling  (None, 54, 54, 64)       0         \n",
            " 2D)                                                             \n",
            "                                                                 \n",
            " dropout (Dropout)           (None, 54, 54, 64)        0         \n",
            "                                                                 \n",
            " conv2d_2 (Conv2D)           (None, 52, 52, 64)        36928     \n",
            "                                                                 \n",
            " max_pooling2d_2 (MaxPooling  (None, 26, 26, 64)       0         \n",
            " 2D)                                                             \n",
            "                                                                 \n",
            " dropout_1 (Dropout)         (None, 26, 26, 64)        0         \n",
            "                                                                 \n",
            " dense (Dense)               (None, 26, 26, 64)        4160      \n",
            "                                                                 \n",
            " dropout_2 (Dropout)         (None, 26, 26, 64)        0         \n",
            "                                                                 \n",
            " flatten (Flatten)           (None, 43264)             0         \n",
            "                                                                 \n",
            " dense_1 (Dense)             (None, 1)                 43265     \n",
            "                                                                 \n",
            "=================================================================\n",
            "Total params: 121,921\n",
            "Trainable params: 121,921\n",
            "Non-trainable params: 0\n",
            "_________________________________________________________________\n"
          ]
        }
      ]
    },
    {
      "cell_type": "code",
      "source": [
        "# = EarlyStopping(monitor='val_loss', mode='min', patience=0,restore_best_weights=True, verbose=1)\n",
        "\n",
        "#check_point_filepath = './'\n",
        "\n",
        "#model_check_point = ModelCheckpoint(filepath =check_point_filepath, monitor='val_loss', verbose=1, save_best_only=True,\n",
        "    #                                save_weights_only=False, mode='auto', save_freq='epoch')"
      ],
      "metadata": {
        "id": "7addopNZq2K_"
      },
      "execution_count": null,
      "outputs": []
    },
    {
      "cell_type": "markdown",
      "source": [
        "validation split 0.2 and batch size 32 but epochs changed from 20 to 25"
      ],
      "metadata": {
        "id": "OpminNO1IZJu"
      }
    },
    {
      "cell_type": "code",
      "source": [
        "model.compile(optimizer='adam',\n",
        "              loss='binary_crossentropy',\n",
        "              metrics=['accuracy'])\n",
        "\n",
        "hist = model.fit(x_train,\n",
        "                 y_train,\n",
        "                 validation_split=0.2,\n",
        "                 epochs=25,\n",
        "                 batch_size=32)\n",
        "              \n",
        "#callbacks=[early_stop, model_check_point]"
      ],
      "metadata": {
        "colab": {
          "base_uri": "https://localhost:8080/"
        },
        "id": "3AlzEMMKrFg6",
        "outputId": "f4ab3719-9397-419a-b657-10659d49a33e"
      },
      "execution_count": null,
      "outputs": [
        {
          "output_type": "stream",
          "name": "stdout",
          "text": [
            "Epoch 1/25\n",
            "440/440 [==============================] - 49s 78ms/step - loss: 0.8545 - accuracy: 0.5586 - val_loss: 0.6557 - val_accuracy: 0.6121\n",
            "Epoch 2/25\n",
            "440/440 [==============================] - 33s 75ms/step - loss: 0.6420 - accuracy: 0.6246 - val_loss: 0.6112 - val_accuracy: 0.6651\n",
            "Epoch 3/25\n",
            "440/440 [==============================] - 33s 75ms/step - loss: 0.5916 - accuracy: 0.6764 - val_loss: 0.5917 - val_accuracy: 0.6904\n",
            "Epoch 4/25\n",
            "440/440 [==============================] - 35s 80ms/step - loss: 0.5310 - accuracy: 0.7291 - val_loss: 0.4999 - val_accuracy: 0.7635\n",
            "Epoch 5/25\n",
            "440/440 [==============================] - 33s 75ms/step - loss: 0.4698 - accuracy: 0.7678 - val_loss: 0.4481 - val_accuracy: 0.7920\n",
            "Epoch 6/25\n",
            "440/440 [==============================] - 33s 75ms/step - loss: 0.3894 - accuracy: 0.8171 - val_loss: 0.3352 - val_accuracy: 0.8503\n",
            "Epoch 7/25\n",
            "440/440 [==============================] - 33s 74ms/step - loss: 0.3202 - accuracy: 0.8596 - val_loss: 0.2752 - val_accuracy: 0.8944\n",
            "Epoch 8/25\n",
            "440/440 [==============================] - 33s 75ms/step - loss: 0.2754 - accuracy: 0.8837 - val_loss: 0.3021 - val_accuracy: 0.8571\n",
            "Epoch 9/25\n",
            "440/440 [==============================] - 33s 74ms/step - loss: 0.2433 - accuracy: 0.8992 - val_loss: 0.2035 - val_accuracy: 0.9129\n",
            "Epoch 10/25\n",
            "440/440 [==============================] - 33s 74ms/step - loss: 0.2171 - accuracy: 0.9097 - val_loss: 0.1695 - val_accuracy: 0.9314\n",
            "Epoch 11/25\n",
            "440/440 [==============================] - 33s 74ms/step - loss: 0.1944 - accuracy: 0.9215 - val_loss: 0.1509 - val_accuracy: 0.9499\n",
            "Epoch 12/25\n",
            "440/440 [==============================] - 32s 74ms/step - loss: 0.1876 - accuracy: 0.9293 - val_loss: 0.1147 - val_accuracy: 0.9627\n",
            "Epoch 13/25\n",
            "440/440 [==============================] - 32s 74ms/step - loss: 0.1552 - accuracy: 0.9397 - val_loss: 0.1263 - val_accuracy: 0.9573\n",
            "Epoch 14/25\n",
            "440/440 [==============================] - 33s 74ms/step - loss: 0.1518 - accuracy: 0.9400 - val_loss: 0.1066 - val_accuracy: 0.9664\n",
            "Epoch 15/25\n",
            "440/440 [==============================] - 32s 74ms/step - loss: 0.1227 - accuracy: 0.9542 - val_loss: 0.1127 - val_accuracy: 0.9576\n",
            "Epoch 16/25\n",
            "440/440 [==============================] - 32s 74ms/step - loss: 0.1153 - accuracy: 0.9580 - val_loss: 0.0816 - val_accuracy: 0.9769\n",
            "Epoch 17/25\n",
            "440/440 [==============================] - 33s 74ms/step - loss: 0.0985 - accuracy: 0.9636 - val_loss: 0.0821 - val_accuracy: 0.9769\n",
            "Epoch 18/25\n",
            "440/440 [==============================] - 35s 79ms/step - loss: 0.1133 - accuracy: 0.9584 - val_loss: 0.0674 - val_accuracy: 0.9801\n",
            "Epoch 19/25\n",
            "440/440 [==============================] - 33s 74ms/step - loss: 0.0875 - accuracy: 0.9674 - val_loss: 0.0777 - val_accuracy: 0.9752\n",
            "Epoch 20/25\n",
            "440/440 [==============================] - 33s 74ms/step - loss: 0.1130 - accuracy: 0.9620 - val_loss: 0.0644 - val_accuracy: 0.9815\n",
            "Epoch 21/25\n",
            "440/440 [==============================] - 32s 74ms/step - loss: 0.0862 - accuracy: 0.9685 - val_loss: 0.0900 - val_accuracy: 0.9650\n",
            "Epoch 22/25\n",
            "440/440 [==============================] - 32s 74ms/step - loss: 0.0831 - accuracy: 0.9697 - val_loss: 0.0586 - val_accuracy: 0.9829\n",
            "Epoch 23/25\n",
            "440/440 [==============================] - 33s 74ms/step - loss: 0.0780 - accuracy: 0.9727 - val_loss: 0.0545 - val_accuracy: 0.9804\n",
            "Epoch 24/25\n",
            "440/440 [==============================] - 32s 74ms/step - loss: 0.0724 - accuracy: 0.9727 - val_loss: 0.0574 - val_accuracy: 0.9809\n",
            "Epoch 25/25\n",
            "440/440 [==============================] - 32s 74ms/step - loss: 0.0721 - accuracy: 0.9749 - val_loss: 0.0574 - val_accuracy: 0.9815\n"
          ]
        }
      ]
    },
    {
      "cell_type": "code",
      "source": [
        "loss_value , accuracy = model.evaluate(x_test, y_test)\n",
        "\n",
        "print('Test_loss_value = ' +str(loss_value))\n",
        "print('test_accuracy = ' + str(accuracy))\n",
        "\n",
        "print(model.predict(x_test))"
      ],
      "metadata": {
        "id": "H28YTNgrrFx8",
        "colab": {
          "base_uri": "https://localhost:8080/"
        },
        "outputId": "9bf42d4a-7b8f-43cb-d95b-4e437b9733dc"
      },
      "execution_count": null,
      "outputs": [
        {
          "output_type": "stream",
          "name": "stdout",
          "text": [
            "138/138 [==============================] - 4s 30ms/step - loss: 0.0633 - accuracy: 0.9786\n",
            "Test_loss_value = 0.0632743313908577\n",
            "test_accuracy = 0.9785974621772766\n",
            "[[1.4903748e-01]\n",
            " [9.9998391e-01]\n",
            " [6.3893558e-06]\n",
            " ...\n",
            " [1.8178034e-05]\n",
            " [1.8218905e-05]\n",
            " [5.0735194e-03]]\n"
          ]
        }
      ]
    },
    {
      "cell_type": "code",
      "source": [
        "def Visualize_Result(acc,val_acc,loss, val_loss):\n",
        "    fig, (ax1, ax2) = plt.subplots(nrows = 1,\n",
        "                                   ncols = 2,\n",
        "                                   figsize = (15,6),\n",
        "                                   sharex =True)\n",
        "\n",
        "    plot1 = ax1.plot(range(0, len(acc)),\n",
        "                     acc,\n",
        "                     label = 'accuracy')\n",
        "\n",
        "    plot2 = ax1.plot(range(0, len(val_acc)),\n",
        "                     val_acc,\n",
        "                     label = 'val_accuracy')\n",
        "\n",
        "    ax1.set(title = 'Accuracy And Val Accuracy progress',\n",
        "            xlabel = 'epoch',\n",
        "            ylabel = 'accuracy/ validation accuracy')\n",
        "\n",
        "    ax1.legend()\n",
        "\n",
        "    plot3 = ax2.plot(range(0, len(loss)),\n",
        "                     loss,\n",
        "                     label = 'loss')\n",
        "    \n",
        "    plot4 = ax2.plot(range(0, len(val_loss)),\n",
        "                     val_loss,\n",
        "                     label = 'val_loss')\n",
        "    \n",
        "    ax2.set(title = 'Loss And Val loss progress',\n",
        "            xlabel = 'epoch',\n",
        "            ylabel = 'loss/ validation loss')\n",
        "\n",
        "    ax2.legend()\n",
        "\n",
        "    fig.suptitle('Result Of Model', fontsize = 20, fontweight = 'bold')\n",
        "    fig.savefig('Accuracy_Loss_figure.png')\n",
        "    plt.tight_layout()\n",
        "    plt.show()\n",
        "\n",
        "visualize_result = Visualize_Result(hist.history['accuracy'],hist.history['val_accuracy'], hist.history['loss'], hist.history['val_loss'])"
      ],
      "metadata": {
        "id": "yOK3M2XRuqCf",
        "colab": {
          "base_uri": "https://localhost:8080/",
          "height": 443
        },
        "outputId": "c4a97211-7647-4ebc-8865-2b43dba2bb79"
      },
      "execution_count": null,
      "outputs": [
        {
          "output_type": "display_data",
          "data": {
            "text/plain": [
              "<Figure size 1080x432 with 2 Axes>"
            ],
            "image/png": "[encoded data removed]"
          },
          "metadata": {
            "needs_background": "light"
          }
        }
      ]
    },
    {
      "cell_type": "code",
      "source": [
        "y_pred=model.predict(x_test)"
      ],
      "metadata": {
        "id": "yRh89Bgruqbz"
      },
      "execution_count": null,
      "outputs": []
    },
    {
      "cell_type": "code",
      "source": [
        "y_pred.shape"
      ],
      "metadata": {
        "id": "V9tBo3F2vINI",
        "colab": {
          "base_uri": "https://localhost:8080/"
        },
        "outputId": "afec7cd9-88f9-4b84-89a4-9a22f0a56b3c"
      },
      "execution_count": null,
      "outputs": [
        {
          "output_type": "execute_result",
          "data": {
            "text/plain": [
              "(4392, 1)"
            ]
          },
          "metadata": {},
          "execution_count": 75
        }
      ]
    },
    {
      "cell_type": "code",
      "source": [
        "y_pred"
      ],
      "metadata": {
        "id": "M2H_V2DuvNAy",
        "colab": {
          "base_uri": "https://localhost:8080/"
        },
        "outputId": "de1f9803-5108-4a71-94fa-1168973c0a1a"
      },
      "execution_count": null,
      "outputs": [
        {
          "output_type": "execute_result",
          "data": {
            "text/plain": [
              "array([[1.4903748e-01],\n",
              "       [9.9998391e-01],\n",
              "       [6.3893558e-06],\n",
              "       ...,\n",
              "       [1.8178034e-05],\n",
              "       [1.8218905e-05],\n",
              "       [5.0735194e-03]], dtype=float32)"
            ]
          },
          "metadata": {},
          "execution_count": 76
        }
      ]
    },
    {
      "cell_type": "markdown",
      "source": [
        "Model Evaluation\n",
        "\n",
        "Accuracy Score\n"
      ],
      "metadata": {
        "id": "EjvudxbKgLNL"
      }
    },
    {
      "cell_type": "code",
      "source": [
        "from sklearn.metrics import accuracy_score"
      ],
      "metadata": {
        "id": "hDyoaqk2gWIy"
      },
      "execution_count": null,
      "outputs": []
    },
    {
      "cell_type": "code",
      "source": [
        "# accuracy on train data\n",
        "X_train_prediction = model.predict(x_train)\n",
        "training_data_accuracy = accuracy_score(y_train,X_train_prediction)\n",
        "print(training_data_accuracy)\n",
        "\n"
      ],
      "metadata": {
        "colab": {
          "base_uri": "https://localhost:8080/",
          "height": 396
        },
        "id": "pEmrxBl_gjtY",
        "outputId": "866f86f8-6998-4b26-997b-f311d33b89e4"
      },
      "execution_count": null,
      "outputs": [
        {
          "output_type": "error",
          "ename": "ValueError",
          "evalue": "ignored",
          "traceback": [
            "\u001b[0;31m---------------------------------------------------------------------------\u001b[0m",
            "\u001b[0;31mValueError\u001b[0m                                Traceback (most recent call last)",
            "\u001b[0;32m<ipython-input-52-e743da46ea9e>\u001b[0m in \u001b[0;36m<module>\u001b[0;34m\u001b[0m\n\u001b[1;32m      1\u001b[0m \u001b[0;31m# accuracy on train data\u001b[0m\u001b[0;34m\u001b[0m\u001b[0;34m\u001b[0m\u001b[0;34m\u001b[0m\u001b[0m\n\u001b[1;32m      2\u001b[0m \u001b[0mX_train_prediction\u001b[0m \u001b[0;34m=\u001b[0m \u001b[0mmodel\u001b[0m\u001b[0;34m.\u001b[0m\u001b[0mpredict\u001b[0m\u001b[0;34m(\u001b[0m\u001b[0mx_train\u001b[0m\u001b[0;34m)\u001b[0m\u001b[0;34m\u001b[0m\u001b[0;34m\u001b[0m\u001b[0m\n\u001b[0;32m----> 3\u001b[0;31m \u001b[0mtraining_data_accuracy\u001b[0m \u001b[0;34m=\u001b[0m \u001b[0maccuracy_score\u001b[0m\u001b[0;34m(\u001b[0m\u001b[0my_train\u001b[0m\u001b[0;34m,\u001b[0m\u001b[0mX_train_prediction\u001b[0m\u001b[0;34m)\u001b[0m\u001b[0;34m\u001b[0m\u001b[0;34m\u001b[0m\u001b[0m\n\u001b[0m\u001b[1;32m      4\u001b[0m \u001b[0mprint\u001b[0m\u001b[0;34m(\u001b[0m\u001b[0mtraining_data_accuracy\u001b[0m\u001b[0;34m)\u001b[0m\u001b[0;34m\u001b[0m\u001b[0;34m\u001b[0m\u001b[0m\n\u001b[1;32m      5\u001b[0m \u001b[0;34m\u001b[0m\u001b[0m\n",
            "\u001b[0;32m/usr/local/lib/python3.7/dist-packages/sklearn/metrics/_classification.py\u001b[0m in \u001b[0;36maccuracy_score\u001b[0;34m(y_true, y_pred, normalize, sample_weight)\u001b[0m\n\u001b[1;32m    209\u001b[0m \u001b[0;34m\u001b[0m\u001b[0m\n\u001b[1;32m    210\u001b[0m     \u001b[0;31m# Compute accuracy for each possible representation\u001b[0m\u001b[0;34m\u001b[0m\u001b[0;34m\u001b[0m\u001b[0;34m\u001b[0m\u001b[0m\n\u001b[0;32m--> 211\u001b[0;31m     \u001b[0my_type\u001b[0m\u001b[0;34m,\u001b[0m \u001b[0my_true\u001b[0m\u001b[0;34m,\u001b[0m \u001b[0my_pred\u001b[0m \u001b[0;34m=\u001b[0m \u001b[0m_check_targets\u001b[0m\u001b[0;34m(\u001b[0m\u001b[0my_true\u001b[0m\u001b[0;34m,\u001b[0m \u001b[0my_pred\u001b[0m\u001b[0;34m)\u001b[0m\u001b[0;34m\u001b[0m\u001b[0;34m\u001b[0m\u001b[0m\n\u001b[0m\u001b[1;32m    212\u001b[0m     \u001b[0mcheck_consistent_length\u001b[0m\u001b[0;34m(\u001b[0m\u001b[0my_true\u001b[0m\u001b[0;34m,\u001b[0m \u001b[0my_pred\u001b[0m\u001b[0;34m,\u001b[0m \u001b[0msample_weight\u001b[0m\u001b[0;34m)\u001b[0m\u001b[0;34m\u001b[0m\u001b[0;34m\u001b[0m\u001b[0m\n\u001b[1;32m    213\u001b[0m     \u001b[0;32mif\u001b[0m \u001b[0my_type\u001b[0m\u001b[0;34m.\u001b[0m\u001b[0mstartswith\u001b[0m\u001b[0;34m(\u001b[0m\u001b[0;34m\"multilabel\"\u001b[0m\u001b[0;34m)\u001b[0m\u001b[0;34m:\u001b[0m\u001b[0;34m\u001b[0m\u001b[0;34m\u001b[0m\u001b[0m\n",
            "\u001b[0;32m/usr/local/lib/python3.7/dist-packages/sklearn/metrics/_classification.py\u001b[0m in \u001b[0;36m_check_targets\u001b[0;34m(y_true, y_pred)\u001b[0m\n\u001b[1;32m     93\u001b[0m         raise ValueError(\n\u001b[1;32m     94\u001b[0m             \"Classification metrics can't handle a mix of {0} and {1} targets\".format(\n\u001b[0;32m---> 95\u001b[0;31m                 \u001b[0mtype_true\u001b[0m\u001b[0;34m,\u001b[0m \u001b[0mtype_pred\u001b[0m\u001b[0;34m\u001b[0m\u001b[0;34m\u001b[0m\u001b[0m\n\u001b[0m\u001b[1;32m     96\u001b[0m             )\n\u001b[1;32m     97\u001b[0m         )\n",
            "\u001b[0;31mValueError\u001b[0m: Classification metrics can't handle a mix of binary and continuous targets"
          ]
        }
      ]
    },
    {
      "cell_type": "code",
      "source": [
        "# accuracy score in test data\n",
        "X_test_prediction = model.predict(X_test)\n",
        "test_data_accuracy = accuracy_score(Y_test,X_test_prediction)\n",
        "print(test_data_accuracy)"
      ],
      "metadata": {
        "id": "I7Z17YX8haHY"
      },
      "execution_count": null,
      "outputs": []
    },
    {
      "cell_type": "markdown",
      "source": [
        "Confusion Matrix"
      ],
      "metadata": {
        "id": "DL189rbvigyv"
      }
    },
    {
      "cell_type": "code",
      "source": [
        "from sklern.metrics import confusion_matrix\n"
      ],
      "metadata": {
        "id": "2AvPGYB_gj1K"
      },
      "execution_count": null,
      "outputs": []
    },
    {
      "cell_type": "code",
      "source": [
        "cf_matrix = confusion_matrix(Y_test, X_test_prediction)\n",
        "\n",
        "print(cf_matrix)"
      ],
      "metadata": {
        "id": "xeERJJJ3gj7O"
      },
      "execution_count": null,
      "outputs": []
    },
    {
      "cell_type": "code",
      "source": [
        "tn, fp, fn , tp = cf_matrix_ravel()"
      ],
      "metadata": {
        "id": "HvWog9BdjYPU"
      },
      "execution_count": null,
      "outputs": []
    },
    {
      "cell_type": "code",
      "source": [
        "import seaborn as sns\n",
        "sns.heatmap(cf_matrix, annot= True)"
      ],
      "metadata": {
        "id": "xg1dRDEYj3jQ"
      },
      "execution_count": null,
      "outputs": []
    },
    {
      "cell_type": "markdown",
      "source": [
        "Hyper Parameter Optimization\n"
      ],
      "metadata": {
        "id": "yfYcylTT3NDr"
      }
    },
    {
      "cell_type": "code",
      "source": [
        "! pip install keras.tuner\n"
      ],
      "metadata": {
        "colab": {
          "base_uri": "https://localhost:8080/"
        },
        "id": "qSp_DIUPvay3",
        "outputId": "bc3bdb96-0e18-45a4-9acf-514cacd64091"
      },
      "execution_count": null,
      "outputs": [
        {
          "output_type": "stream",
          "name": "stdout",
          "text": [
            "Looking in indexes: https://pypi.org/simple, https://us-python.pkg.dev/colab-wheels/public/simple/\n",
            "Collecting keras.tuner\n",
            "  Downloading keras_tuner-1.1.3-py3-none-any.whl (135 kB)\n",
            "\u001b[K     |████████████████████████████████| 135 kB 14.4 MB/s \n",
            "\u001b[?25hRequirement already satisfied: ipython in /usr/local/lib/python3.7/dist-packages (from keras.tuner) (7.9.0)\n",
            "Requirement already satisfied: requests in /usr/local/lib/python3.7/dist-packages (from keras.tuner) (2.23.0)\n",
            "Requirement already satisfied: packaging in /usr/local/lib/python3.7/dist-packages (from keras.tuner) (21.3)\n",
            "Requirement already satisfied: numpy in /usr/local/lib/python3.7/dist-packages (from keras.tuner) (1.21.6)\n",
            "Requirement already satisfied: tensorboard in /usr/local/lib/python3.7/dist-packages (from keras.tuner) (2.8.0)\n",
            "Collecting kt-legacy\n",
            "  Downloading kt_legacy-1.0.4-py3-none-any.whl (9.6 kB)\n",
            "Requirement already satisfied: prompt-toolkit<2.1.0,>=2.0.0 in /usr/local/lib/python3.7/dist-packages (from ipython->keras.tuner) (2.0.10)\n",
            "Requirement already satisfied: pickleshare in /usr/local/lib/python3.7/dist-packages (from ipython->keras.tuner) (0.7.5)\n",
            "Requirement already satisfied: setuptools>=18.5 in /usr/local/lib/python3.7/dist-packages (from ipython->keras.tuner) (57.4.0)\n",
            "Collecting jedi>=0.10\n",
            "  Downloading jedi-0.18.1-py2.py3-none-any.whl (1.6 MB)\n",
            "\u001b[K     |████████████████████████████████| 1.6 MB 51.3 MB/s \n",
            "\u001b[?25hRequirement already satisfied: pexpect in /usr/local/lib/python3.7/dist-packages (from ipython->keras.tuner) (4.8.0)\n",
            "Requirement already satisfied: decorator in /usr/local/lib/python3.7/dist-packages (from ipython->keras.tuner) (4.4.2)\n",
            "Requirement already satisfied: pygments in /usr/local/lib/python3.7/dist-packages (from ipython->keras.tuner) (2.6.1)\n",
            "Requirement already satisfied: traitlets>=4.2 in /usr/local/lib/python3.7/dist-packages (from ipython->keras.tuner) (5.1.1)\n",
            "Requirement already satisfied: backcall in /usr/local/lib/python3.7/dist-packages (from ipython->keras.tuner) (0.2.0)\n",
            "Requirement already satisfied: parso<0.9.0,>=0.8.0 in /usr/local/lib/python3.7/dist-packages (from jedi>=0.10->ipython->keras.tuner) (0.8.3)\n",
            "Requirement already satisfied: wcwidth in /usr/local/lib/python3.7/dist-packages (from prompt-toolkit<2.1.0,>=2.0.0->ipython->keras.tuner) (0.2.5)\n",
            "Requirement already satisfied: six>=1.9.0 in /usr/local/lib/python3.7/dist-packages (from prompt-toolkit<2.1.0,>=2.0.0->ipython->keras.tuner) (1.15.0)\n",
            "Requirement already satisfied: pyparsing!=3.0.5,>=2.0.2 in /usr/local/lib/python3.7/dist-packages (from packaging->keras.tuner) (3.0.9)\n",
            "Requirement already satisfied: ptyprocess>=0.5 in /usr/local/lib/python3.7/dist-packages (from pexpect->ipython->keras.tuner) (0.7.0)\n",
            "Requirement already satisfied: chardet<4,>=3.0.2 in /usr/local/lib/python3.7/dist-packages (from requests->keras.tuner) (3.0.4)\n",
            "Requirement already satisfied: certifi>=2017.4.17 in /usr/local/lib/python3.7/dist-packages (from requests->keras.tuner) (2022.6.15)\n",
            "Requirement already satisfied: urllib3!=1.25.0,!=1.25.1,<1.26,>=1.21.1 in /usr/local/lib/python3.7/dist-packages (from requests->keras.tuner) (1.24.3)\n",
            "Requirement already satisfied: idna<3,>=2.5 in /usr/local/lib/python3.7/dist-packages (from requests->keras.tuner) (2.10)\n",
            "Requirement already satisfied: markdown>=2.6.8 in /usr/local/lib/python3.7/dist-packages (from tensorboard->keras.tuner) (3.4.1)\n",
            "Requirement already satisfied: tensorboard-data-server<0.7.0,>=0.6.0 in /usr/local/lib/python3.7/dist-packages (from tensorboard->keras.tuner) (0.6.1)\n",
            "Requirement already satisfied: grpcio>=1.24.3 in /usr/local/lib/python3.7/dist-packages (from tensorboard->keras.tuner) (1.47.0)\n",
            "Requirement already satisfied: absl-py>=0.4 in /usr/local/lib/python3.7/dist-packages (from tensorboard->keras.tuner) (1.2.0)\n",
            "Requirement already satisfied: google-auth-oauthlib<0.5,>=0.4.1 in /usr/local/lib/python3.7/dist-packages (from tensorboard->keras.tuner) (0.4.6)\n",
            "Requirement already satisfied: google-auth<3,>=1.6.3 in /usr/local/lib/python3.7/dist-packages (from tensorboard->keras.tuner) (1.35.0)\n",
            "Requirement already satisfied: wheel>=0.26 in /usr/local/lib/python3.7/dist-packages (from tensorboard->keras.tuner) (0.37.1)\n",
            "Requirement already satisfied: protobuf>=3.6.0 in /usr/local/lib/python3.7/dist-packages (from tensorboard->keras.tuner) (3.17.3)\n",
            "Requirement already satisfied: tensorboard-plugin-wit>=1.6.0 in /usr/local/lib/python3.7/dist-packages (from tensorboard->keras.tuner) (1.8.1)\n",
            "Requirement already satisfied: werkzeug>=0.11.15 in /usr/local/lib/python3.7/dist-packages (from tensorboard->keras.tuner) (1.0.1)\n",
            "Requirement already satisfied: pyasn1-modules>=0.2.1 in /usr/local/lib/python3.7/dist-packages (from google-auth<3,>=1.6.3->tensorboard->keras.tuner) (0.2.8)\n",
            "Requirement already satisfied: rsa<5,>=3.1.4 in /usr/local/lib/python3.7/dist-packages (from google-auth<3,>=1.6.3->tensorboard->keras.tuner) (4.9)\n",
            "Requirement already satisfied: cachetools<5.0,>=2.0.0 in /usr/local/lib/python3.7/dist-packages (from google-auth<3,>=1.6.3->tensorboard->keras.tuner) (4.2.4)\n",
            "Requirement already satisfied: requests-oauthlib>=0.7.0 in /usr/local/lib/python3.7/dist-packages (from google-auth-oauthlib<0.5,>=0.4.1->tensorboard->keras.tuner) (1.3.1)\n",
            "Requirement already satisfied: importlib-metadata>=4.4 in /usr/local/lib/python3.7/dist-packages (from markdown>=2.6.8->tensorboard->keras.tuner) (4.12.0)\n",
            "Requirement already satisfied: zipp>=0.5 in /usr/local/lib/python3.7/dist-packages (from importlib-metadata>=4.4->markdown>=2.6.8->tensorboard->keras.tuner) (3.8.1)\n",
            "Requirement already satisfied: typing-extensions>=3.6.4 in /usr/local/lib/python3.7/dist-packages (from importlib-metadata>=4.4->markdown>=2.6.8->tensorboard->keras.tuner) (4.1.1)\n",
            "Requirement already satisfied: pyasn1<0.5.0,>=0.4.6 in /usr/local/lib/python3.7/dist-packages (from pyasn1-modules>=0.2.1->google-auth<3,>=1.6.3->tensorboard->keras.tuner) (0.4.8)\n",
            "Requirement already satisfied: oauthlib>=3.0.0 in /usr/local/lib/python3.7/dist-packages (from requests-oauthlib>=0.7.0->google-auth-oauthlib<0.5,>=0.4.1->tensorboard->keras.tuner) (3.2.0)\n",
            "Installing collected packages: jedi, kt-legacy, keras.tuner\n",
            "Successfully installed jedi-0.18.1 keras.tuner-1.1.3 kt-legacy-1.0.4\n"
          ]
        }
      ]
    },
    {
      "cell_type": "code",
      "source": [
        "import tensorflow as tf\n",
        "from tensorflow import keras\n",
        "import numpy as np"
      ],
      "metadata": {
        "id": "N3MdgBxZv3O8"
      },
      "execution_count": null,
      "outputs": []
    },
    {
      "cell_type": "code",
      "source": [
        "print(tf.version)\n",
        "\n"
      ],
      "metadata": {
        "colab": {
          "base_uri": "https://localhost:8080/"
        },
        "id": "uNVjeW3-v3pi",
        "outputId": "1fe52195-25c8-4956-857a-2a0624cd27d2"
      },
      "execution_count": null,
      "outputs": [
        {
          "output_type": "stream",
          "name": "stdout",
          "text": [
            "<module 'tensorflow._api.v2.version' from '/usr/local/lib/python3.7/dist-packages/tensorflow/_api/v2/version/__init__.py'>\n"
          ]
        }
      ]
    },
    {
      "cell_type": "code",
      "source": [
        "def build_model(hp):\n",
        "  model = keras.Sequential([\n",
        "      keras.layers.Conv2D(\n",
        "          filters=hp.Int('conv_1_filter',min_value=32,max_value=128,step=16),\n",
        "          kernel_size=hp.Choice('conv_1_filter', values = [3,5]),\n",
        "          activation='relu',\n",
        "          input_shape=(224,224,1)\n",
        "      ),\n",
        "      keras.layers.Conv2D(\n",
        "          filters=hp.Int('conv_2_filter',min_value=32,max_value=64,step=16),\n",
        "          kernel_size=hp.Choice('conv_2_filter', values=[3,5]),\n",
        "          activation='relu'\n",
        "      ),\n",
        "      keras.layers.Flatten(),\n",
        "      keras.layers.Dense(                                                                   #keras.layers.dense()\n",
        "          units=hp.Int('dense_1_units',min_value=32,max_value=128, step=16),\n",
        "          activation='relu'\n",
        "      ),\n",
        "      keras.layers.Dense(10,activation='softmax')\n",
        "  ])\n",
        "  model.compile(optimizer=keras.optimizers.Adam(hp.Choice('learning_rate',values=[1e-2,1e-3])),\n",
        "              loss='sparse_categorical_crossentropy',\n",
        "              metrics=['accuracy'])\n",
        "  return model  "
      ],
      "metadata": {
        "id": "3_MN9hIlwM23"
      },
      "execution_count": null,
      "outputs": []
    },
    {
      "cell_type": "code",
      "source": [
        "from kerastuner import RandomSearch\n",
        "from kerastuner.engine.hyperparameters import HyperParameters"
      ],
      "metadata": {
        "id": "kB4WZOw08VCj",
        "colab": {
          "base_uri": "https://localhost:8080/"
        },
        "outputId": "32244e9d-a0a5-4c74-aa45-1361263c7e3c"
      },
      "execution_count": null,
      "outputs": [
        {
          "output_type": "stream",
          "name": "stderr",
          "text": [
            "/usr/local/lib/python3.7/dist-packages/ipykernel_launcher.py:1: DeprecationWarning: `import kerastuner` is deprecated, please use `import keras_tuner`.\n",
            "  \"\"\"Entry point for launching an IPython kernel.\n"
          ]
        }
      ]
    },
    {
      "cell_type": "code",
      "source": [
        "tuner_search=RandomSearch(build_model,\n",
        "                          objective='val_accuracy',\n",
        "                          max_trials=3)"
      ],
      "metadata": {
        "id": "epnSEvMp8VLJ"
      },
      "execution_count": null,
      "outputs": []
    },
    {
      "cell_type": "code",
      "source": [
        "x_train.shape"
      ],
      "metadata": {
        "colab": {
          "base_uri": "https://localhost:8080/"
        },
        "id": "js8nMkjLd6Zv",
        "outputId": "4e1f525b-e287-458b-bc3b-e76d4cdf6d68"
      },
      "execution_count": null,
      "outputs": [
        {
          "output_type": "execute_result",
          "data": {
            "text/plain": [
              "(17568, 224, 224, 1)"
            ]
          },
          "metadata": {},
          "execution_count": 85
        }
      ]
    },
    {
      "cell_type": "code",
      "source": [
        "x_test.shape"
      ],
      "metadata": {
        "colab": {
          "base_uri": "https://localhost:8080/"
        },
        "id": "9jbRQB33eETt",
        "outputId": "15db6ed4-b3ee-4adc-d9b3-fbd3e3cd3dc7"
      },
      "execution_count": null,
      "outputs": [
        {
          "output_type": "execute_result",
          "data": {
            "text/plain": [
              "(4392, 224, 224, 1)"
            ]
          },
          "metadata": {},
          "execution_count": 86
        }
      ]
    },
    {
      "cell_type": "code",
      "source": [
        "y_train.shape"
      ],
      "metadata": {
        "colab": {
          "base_uri": "https://localhost:8080/"
        },
        "id": "Q32PyBF4ehc4",
        "outputId": "e928286d-1c28-4d4c-e617-53afbc0c0293"
      },
      "execution_count": null,
      "outputs": [
        {
          "output_type": "execute_result",
          "data": {
            "text/plain": [
              "(17568,)"
            ]
          },
          "metadata": {},
          "execution_count": 87
        }
      ]
    },
    {
      "cell_type": "code",
      "source": [
        "tuner_search.search(x_train,y_train,epochs=3,validation_split=0.2 ) ## train_image,train_labels are our x and y"
      ],
      "metadata": {
        "colab": {
          "base_uri": "https://localhost:8080/"
        },
        "id": "6tFo-U3i8VYd",
        "outputId": "0f872645-eab6-425b-c5a6-628d0258c74a"
      },
      "execution_count": null,
      "outputs": [
        {
          "output_type": "stream",
          "name": "stdout",
          "text": [
            "Trial 3 Complete [01h 20m 23s]\n",
            "val_accuracy: 0.5577689409255981\n",
            "\n",
            "Best val_accuracy So Far: 0.6314740777015686\n",
            "Total elapsed time: 01h 36m 04s\n"
          ]
        }
      ]
    },
    {
      "cell_type": "code",
      "source": [
        "model=tuner_search.get_best_models(num_models=1)[0]"
      ],
      "metadata": {
        "id": "DxUePeKT8VnV"
      },
      "execution_count": null,
      "outputs": []
    },
    {
      "cell_type": "code",
      "source": [
        "model.summary() # the best model"
      ],
      "metadata": {
        "id": "m0CMqMfCwNdE"
      },
      "execution_count": null,
      "outputs": []
    },
    {
      "cell_type": "code",
      "source": [
        "model.fit(img_path,last_label,epochs=15,validation_split=0.2,initial_epoch=3)"
      ],
      "metadata": {
        "id": "I-tuk1inCwD_"
      },
      "execution_count": null,
      "outputs": []
    }
  ]
}